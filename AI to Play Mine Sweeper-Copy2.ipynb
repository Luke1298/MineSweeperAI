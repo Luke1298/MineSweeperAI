{
 "cells": [
  {
   "cell_type": "markdown",
   "metadata": {},
   "source": [
    "# AI To Play Mine Sweeper"
   ]
  },
  {
   "cell_type": "markdown",
   "metadata": {},
   "source": [
    "## The Game Object\n",
    "\n",
    "I developed the pythonic minesweeper. It is unit tested fairly throughly; up until visualizations and tracking features of the project present themselves. Note: The 9's are bombs; because it is impossible for a cell to be sourounded by more Bombs then there are cells surronding it."
   ]
  },
  {
   "cell_type": "code",
   "execution_count": 1,
   "metadata": {},
   "outputs": [],
   "source": [
    "import game\n",
    "import numpy as np\n",
    "from sklearn.neural_network import MLPClassifier\n",
    "from sklearn.model_selection import train_test_split\n",
    "from sklearn.metrics import accuracy_score, confusion_matrix\n",
    "from sklearn.preprocessing import OneHotEncoder\n",
    "from sklearn.ensemble import RandomForestClassifier, VotingClassifier\n",
    "from sklearn.naive_bayes import GaussianNB"
   ]
  },
  {
   "cell_type": "code",
   "execution_count": 2,
   "metadata": {},
   "outputs": [
    {
     "name": "stdout",
     "output_type": "stream",
     "text": [
      "0.0 \t1.0 \t9.0 \t2.0 \t1.0 \t1.0 \t9.0 \t1.0 \t1.0 \t9.0 \t2.0 \t1.0 \t1.0 \t0.0 \t\n",
      "\n",
      "0.0 \t1.0 \t2.0 \t9.0 \t2.0 \t3.0 \t3.0 \t2.0 \t2.0 \t2.0 \t3.0 \t9.0 \t2.0 \t1.0 \t\n",
      "\n",
      "0.0 \t0.0 \t1.0 \t1.0 \t3.0 \t9.0 \t9.0 \t3.0 \t2.0 \t9.0 \t2.0 \t2.0 \t9.0 \t1.0 \t\n",
      "\n",
      "0.0 \t0.0 \t0.0 \t0.0 \t2.0 \t9.0 \t9.0 \t3.0 \t9.0 \t3.0 \t2.0 \t1.0 \t2.0 \t2.0 \t\n",
      "\n",
      "0.0 \t0.0 \t0.0 \t0.0 \t1.0 \t2.0 \t2.0 \t2.0 \t3.0 \t9.0 \t3.0 \t2.0 \t3.0 \t9.0 \t\n",
      "\n",
      "1.0 \t2.0 \t1.0 \t2.0 \t1.0 \t1.0 \t0.0 \t0.0 \t2.0 \t9.0 \t4.0 \t9.0 \t9.0 \t2.0 \t\n",
      "\n",
      "9.0 \t2.0 \t9.0 \t3.0 \t9.0 \t2.0 \t1.0 \t1.0 \t3.0 \t3.0 \t9.0 \t3.0 \t3.0 \t2.0 \t\n",
      "\n",
      "1.0 \t2.0 \t1.0 \t3.0 \t9.0 \t2.0 \t1.0 \t9.0 \t2.0 \t9.0 \t2.0 \t1.0 \t1.0 \t9.0 \t\n",
      "\n"
     ]
    }
   ],
   "source": [
    "mygame = game.minesweeper(14, 8, 25)\n",
    "\n",
    "\n",
    "for row in mygame.board:\n",
    "    for c in row:\n",
    "        print(c, \"\\t\", end=\"\")\n",
    "    print(\"\\n\")\n",
    "#mygame.clickCell((0,0))"
   ]
  },
  {
   "cell_type": "markdown",
   "metadata": {},
   "source": [
    "## Visualizing the Game\n",
    "\n",
    "The following is a rough gui for the game. Feel free to mess around; when you loose all of the cells will disable and you will be alerted. When you win you will be alerted. Note: If you want to start a new game you will have to run the cell above because you need to make a new object to start over"
   ]
  },
  {
   "cell_type": "code",
   "execution_count": 3,
   "metadata": {},
   "outputs": [
    {
     "data": {
      "application/vnd.jupyter.widget-view+json": {
       "model_id": "39c4d504f1034606928a0f1c31007a79",
       "version_major": 2,
       "version_minor": 0
      },
      "text/plain": [
       "HBox(children=(Button(layout=Layout(height='30px', padding='0px', width='30px'), style=ButtonStyle(button_colo…"
      ]
     },
     "metadata": {},
     "output_type": "display_data"
    },
    {
     "data": {
      "application/vnd.jupyter.widget-view+json": {
       "model_id": "2c5e3935990d4bdb95dc39d208a1a906",
       "version_major": 2,
       "version_minor": 0
      },
      "text/plain": [
       "HBox(children=(Button(layout=Layout(height='30px', padding='0px', width='30px'), style=ButtonStyle(button_colo…"
      ]
     },
     "metadata": {},
     "output_type": "display_data"
    },
    {
     "data": {
      "application/vnd.jupyter.widget-view+json": {
       "model_id": "78b0f331c7e54696b5b2f1faa6e6ece5",
       "version_major": 2,
       "version_minor": 0
      },
      "text/plain": [
       "HBox(children=(Button(layout=Layout(height='30px', padding='0px', width='30px'), style=ButtonStyle(button_colo…"
      ]
     },
     "metadata": {},
     "output_type": "display_data"
    },
    {
     "data": {
      "application/vnd.jupyter.widget-view+json": {
       "model_id": "7026d8cd5a2f4b20b067b4a703916fac",
       "version_major": 2,
       "version_minor": 0
      },
      "text/plain": [
       "HBox(children=(Button(layout=Layout(height='30px', padding='0px', width='30px'), style=ButtonStyle(button_colo…"
      ]
     },
     "metadata": {},
     "output_type": "display_data"
    },
    {
     "data": {
      "application/vnd.jupyter.widget-view+json": {
       "model_id": "0775d0e08ec94406977a0db75a432fae",
       "version_major": 2,
       "version_minor": 0
      },
      "text/plain": [
       "HBox(children=(Button(layout=Layout(height='30px', padding='0px', width='30px'), style=ButtonStyle(button_colo…"
      ]
     },
     "metadata": {},
     "output_type": "display_data"
    },
    {
     "data": {
      "application/vnd.jupyter.widget-view+json": {
       "model_id": "1006948d088347fdb20f0dda83d98a01",
       "version_major": 2,
       "version_minor": 0
      },
      "text/plain": [
       "HBox(children=(Button(layout=Layout(height='30px', padding='0px', width='30px'), style=ButtonStyle(button_colo…"
      ]
     },
     "metadata": {},
     "output_type": "display_data"
    },
    {
     "data": {
      "application/vnd.jupyter.widget-view+json": {
       "model_id": "b06d9d64c40b4431a258c00f15230324",
       "version_major": 2,
       "version_minor": 0
      },
      "text/plain": [
       "HBox(children=(Button(layout=Layout(height='30px', padding='0px', width='30px'), style=ButtonStyle(button_colo…"
      ]
     },
     "metadata": {},
     "output_type": "display_data"
    },
    {
     "data": {
      "application/vnd.jupyter.widget-view+json": {
       "model_id": "3e8b48fc0147429ea994d5b567c2db28",
       "version_major": 2,
       "version_minor": 0
      },
      "text/plain": [
       "HBox(children=(Button(layout=Layout(height='30px', padding='0px', width='30px'), style=ButtonStyle(button_colo…"
      ]
     },
     "metadata": {},
     "output_type": "display_data"
    }
   ],
   "source": [
    "mygame.playOnNoteBook()"
   ]
  },
  {
   "cell_type": "markdown",
   "metadata": {},
   "source": [
    "## Neruel Network to Play Mine Sweeper (Classification Approach) \n",
    "\n",
    "We will attempt to play minesweeper by generating lots of games (which will be used as our data). \n",
    "\n",
    "Things that we'll need to do:\n",
    "\n",
    "Pad the game board with some element.\n",
    "This way we distiguish the edges of the game board (all of our data needs to have the same number of features) \n",
    "\n",
    "Represent \"unknown squares\" in our classification we will have some data that are \"completed games\" (the whole board is visible) and others where the game is 80% finished; 60%; 40% and 20%. (Our \"Solve Percent\" utility will help us with this)"
   ]
  },
  {
   "cell_type": "code",
   "execution_count": 4,
   "metadata": {},
   "outputs": [
    {
     "data": {
      "application/vnd.jupyter.widget-view+json": {
       "model_id": "0f5a1fe78c624a239c4c01560f0658cd",
       "version_major": 2,
       "version_minor": 0
      },
      "text/plain": [
       "HBox(children=(Button(disabled=True, layout=Layout(height='30px', padding='0px', width='30px'), style=ButtonSt…"
      ]
     },
     "metadata": {},
     "output_type": "display_data"
    },
    {
     "data": {
      "application/vnd.jupyter.widget-view+json": {
       "model_id": "2e7ac57e0a2d48838b5608b1915a2112",
       "version_major": 2,
       "version_minor": 0
      },
      "text/plain": [
       "HBox(children=(Button(disabled=True, layout=Layout(height='30px', padding='0px', width='30px'), style=ButtonSt…"
      ]
     },
     "metadata": {},
     "output_type": "display_data"
    },
    {
     "data": {
      "application/vnd.jupyter.widget-view+json": {
       "model_id": "7a40a8eaf65b4f138bec6ee46eddaad0",
       "version_major": 2,
       "version_minor": 0
      },
      "text/plain": [
       "HBox(children=(Button(disabled=True, layout=Layout(height='30px', padding='0px', width='30px'), style=ButtonSt…"
      ]
     },
     "metadata": {},
     "output_type": "display_data"
    },
    {
     "data": {
      "application/vnd.jupyter.widget-view+json": {
       "model_id": "37a0500bedfe4ccaadca8d48a68ac25a",
       "version_major": 2,
       "version_minor": 0
      },
      "text/plain": [
       "HBox(children=(Button(description='2', disabled=True, layout=Layout(height='30px', padding='0px', width='30px'…"
      ]
     },
     "metadata": {},
     "output_type": "display_data"
    },
    {
     "data": {
      "application/vnd.jupyter.widget-view+json": {
       "model_id": "c60a4ea1a8194bf4ae1d912572a9b4a1",
       "version_major": 2,
       "version_minor": 0
      },
      "text/plain": [
       "HBox(children=(Button(layout=Layout(height='30px', padding='0px', width='30px'), style=ButtonStyle(button_colo…"
      ]
     },
     "metadata": {},
     "output_type": "display_data"
    },
    {
     "data": {
      "application/vnd.jupyter.widget-view+json": {
       "model_id": "a962de621aa34e9199d5d3ef3136cdba",
       "version_major": 2,
       "version_minor": 0
      },
      "text/plain": [
       "HBox(children=(Button(layout=Layout(height='30px', padding='0px', width='30px'), style=ButtonStyle(button_colo…"
      ]
     },
     "metadata": {},
     "output_type": "display_data"
    },
    {
     "data": {
      "application/vnd.jupyter.widget-view+json": {
       "model_id": "2ad9fa8e1f044204a1e9189a7e72deed",
       "version_major": 2,
       "version_minor": 0
      },
      "text/plain": [
       "HBox(children=(Button(layout=Layout(height='30px', padding='0px', width='30px'), style=ButtonStyle(button_colo…"
      ]
     },
     "metadata": {},
     "output_type": "display_data"
    },
    {
     "data": {
      "application/vnd.jupyter.widget-view+json": {
       "model_id": "82c0cfd7ac8e4699951ef37bd352b794",
       "version_major": 2,
       "version_minor": 0
      },
      "text/plain": [
       "HBox(children=(Button(layout=Layout(height='30px', padding='0px', width='30px'), style=ButtonStyle(button_colo…"
      ]
     },
     "metadata": {},
     "output_type": "display_data"
    }
   ],
   "source": [
    "mygame = game.minesweeper(14, 8, 25)\n",
    "mygame.solvePercent(.2)\n",
    "mygame.playOnNoteBook()"
   ]
  },
  {
   "cell_type": "code",
   "execution_count": 5,
   "metadata": {},
   "outputs": [],
   "source": [
    "theData = []\n",
    "\n",
    "for p in [.8, .6, .4, .2]:\n",
    "    for i in range(1000):\n",
    "        mygame = game.minesweeper(10, 10, 23)\n",
    "        mygame.solvePercent(p)\n",
    "        dataToAdd = np.pad(mygame.visible, (2), 'constant', constant_values=(-1))\n",
    "        dataToAdd = np.where(dataToAdd=='*', 0, dataToAdd)\n",
    "        theData.append(dataToAdd)\n",
    "        \n",
    "for i in range(1000):\n",
    "    mygame = game.minesweeper(10, 10, 23)\n",
    "    dataToAdd = np.pad(mygame.board, (2), 'constant', constant_values=(-1))\n",
    "    theData.append(dataToAdd.astype('<U3'))\n"
   ]
  },
  {
   "cell_type": "code",
   "execution_count": 6,
   "metadata": {},
   "outputs": [],
   "source": [
    "theRealData = []\n",
    "\n",
    "for data in theData:\n",
    "    innerData = data[2:-2, 2:-2]\n",
    "    for index, x in np.ndenumerate(innerData):\n",
    "        toAppend = []\n",
    "        toAppend.append(x)\n",
    "        toAppend.append(data[index[0], index[1]])\n",
    "        toAppend.append(data[index[0], index[1]+1])\n",
    "        toAppend.append(data[index[0], index[1]+2])\n",
    "        toAppend.append(data[index[0], index[1]+3])\n",
    "        toAppend.append(data[index[0], index[1]+4])\n",
    "        toAppend.append(data[index[0]+1, index[1]])\n",
    "        toAppend.append(data[index[0]+1, index[1]+1])\n",
    "        toAppend.append(data[index[0]+1, index[1]+2])\n",
    "        toAppend.append(data[index[0]+1, index[1]+3])\n",
    "        toAppend.append(data[index[0]+1, index[1]+4])\n",
    "        toAppend.append(data[index[0]+2, index[1]])\n",
    "        toAppend.append(data[index[0]+2, index[1]+1])\n",
    "        toAppend.append(data[index[0]+2, index[1]+3])\n",
    "        toAppend.append(data[index[0]+2, index[1]+4])\n",
    "        toAppend.append(data[index[0]+3, index[1]])\n",
    "        toAppend.append(data[index[0]+3, index[1]+1])\n",
    "        toAppend.append(data[index[0]+3, index[1]+2])\n",
    "        toAppend.append(data[index[0]+3, index[1]+3])\n",
    "        toAppend.append(data[index[0]+3, index[1]+4])\n",
    "        toAppend.append(data[index[0]+4, index[1]])\n",
    "        toAppend.append(data[index[0]+4, index[1]+1])\n",
    "        toAppend.append(data[index[0]+4, index[1]+2])\n",
    "        toAppend.append(data[index[0]+4, index[1]+3])\n",
    "        toAppend.append(data[index[0]+4, index[1]+4])\n",
    "        theRealData.append(toAppend)"
   ]
  },
  {
   "cell_type": "markdown",
   "metadata": {},
   "source": [
    "(Comment this line out if you don't want to eliminate the unknown value prediction)"
   ]
  },
  {
   "cell_type": "code",
   "execution_count": 7,
   "metadata": {},
   "outputs": [],
   "source": [
    "theRealData = np.array(theRealData)\n",
    "theRealData = theRealData[theRealData[:, 0] != '?']"
   ]
  },
  {
   "cell_type": "markdown",
   "metadata": {},
   "source": [
    "This next line will make it so that it's classifying not bomb (which is true) and bomb (false) -- so if a cell is a bomb it will give it a false value. Think of it as an \"okay to click\" classification."
   ]
  },
  {
   "cell_type": "code",
   "execution_count": 8,
   "metadata": {},
   "outputs": [
    {
     "data": {
      "text/plain": [
       "array([['1.0', '-1', '-1', ..., '?', '?', '?'],\n",
       "       ['1.0', '-1', '-1', ..., '?', '?', '?'],\n",
       "       ['1.0', '-1', '-1', ..., '?', '?', '?'],\n",
       "       ...,\n",
       "       ['1.0', '9.0', '3.0', ..., '-1.', '-1.', '-1.'],\n",
       "       ['1.0', '3.0', '2.0', ..., '-1.', '-1.', '-1.'],\n",
       "       ['1.0', '2.0', '2.0', ..., '-1.', '-1.', '-1.']], dtype='<U3')"
      ]
     },
     "execution_count": 8,
     "metadata": {},
     "output_type": "execute_result"
    }
   ],
   "source": [
    "theRealData[:, 0] = ['1.0' if r else '0.0' for r in (theRealData[:, 0] != '9.0')]\n",
    "theRealData"
   ]
  },
  {
   "cell_type": "code",
   "execution_count": 9,
   "metadata": {},
   "outputs": [
    {
     "data": {
      "text/plain": [
       "OneHotEncoder(categorical_features=None, categories=None,\n",
       "       dtype=<class 'numpy.float64'>, handle_unknown='ignore',\n",
       "       n_values=None, sparse=True)"
      ]
     },
     "execution_count": 9,
     "metadata": {},
     "output_type": "execute_result"
    }
   ],
   "source": [
    "theRealData = np.where(theRealData=='?', 10, theRealData)\n",
    "X, y = theRealData[:, 1:].astype(float).astype(str), theRealData[:, 0].astype(float).astype(str)\n",
    "\n",
    "enc = OneHotEncoder(handle_unknown='ignore')\n",
    "\n",
    "enc.fit(X)"
   ]
  },
  {
   "cell_type": "code",
   "execution_count": 10,
   "metadata": {},
   "outputs": [
    {
     "name": "stdout",
     "output_type": "stream",
     "text": [
      "[array(['-1.0', '0.0', '1.0', '10.0', '2.0', '3.0', '4.0', '5.0', '6.0',\n",
      "       '7.0', '9.0'], dtype='<U32'), array(['-1.0', '0.0', '1.0', '10.0', '2.0', '3.0', '4.0', '5.0', '6.0',\n",
      "       '7.0', '9.0'], dtype='<U32'), array(['-1.0', '0.0', '1.0', '10.0', '2.0', '3.0', '4.0', '5.0', '6.0',\n",
      "       '7.0', '9.0'], dtype='<U32'), array(['-1.0', '0.0', '1.0', '10.0', '2.0', '3.0', '4.0', '5.0', '6.0',\n",
      "       '7.0', '9.0'], dtype='<U32'), array(['-1.0', '0.0', '1.0', '10.0', '2.0', '3.0', '4.0', '5.0', '6.0',\n",
      "       '7.0', '9.0'], dtype='<U32'), array(['-1.0', '0.0', '1.0', '10.0', '2.0', '3.0', '4.0', '5.0', '6.0',\n",
      "       '7.0', '9.0'], dtype='<U32'), array(['-1.0', '0.0', '1.0', '10.0', '2.0', '3.0', '4.0', '5.0', '6.0',\n",
      "       '7.0', '9.0'], dtype='<U32'), array(['-1.0', '0.0', '1.0', '10.0', '2.0', '3.0', '4.0', '5.0', '6.0',\n",
      "       '7.0', '9.0'], dtype='<U32'), array(['-1.0', '0.0', '1.0', '10.0', '2.0', '3.0', '4.0', '5.0', '6.0',\n",
      "       '7.0', '9.0'], dtype='<U32'), array(['-1.0', '0.0', '1.0', '10.0', '2.0', '3.0', '4.0', '5.0', '6.0',\n",
      "       '7.0', '9.0'], dtype='<U32'), array(['-1.0', '0.0', '1.0', '10.0', '2.0', '3.0', '4.0', '5.0', '6.0',\n",
      "       '7.0', '9.0'], dtype='<U32'), array(['-1.0', '0.0', '1.0', '10.0', '2.0', '3.0', '4.0', '5.0', '6.0',\n",
      "       '7.0', '9.0'], dtype='<U32'), array(['-1.0', '0.0', '1.0', '10.0', '2.0', '3.0', '4.0', '5.0', '6.0',\n",
      "       '7.0', '9.0'], dtype='<U32'), array(['-1.0', '0.0', '1.0', '10.0', '2.0', '3.0', '4.0', '5.0', '6.0',\n",
      "       '7.0', '9.0'], dtype='<U32'), array(['-1.0', '0.0', '1.0', '10.0', '2.0', '3.0', '4.0', '5.0', '6.0',\n",
      "       '7.0', '9.0'], dtype='<U32'), array(['-1.0', '0.0', '1.0', '10.0', '2.0', '3.0', '4.0', '5.0', '6.0',\n",
      "       '7.0', '9.0'], dtype='<U32'), array(['-1.0', '0.0', '1.0', '10.0', '2.0', '3.0', '4.0', '5.0', '6.0',\n",
      "       '7.0', '9.0'], dtype='<U32'), array(['-1.0', '0.0', '1.0', '10.0', '2.0', '3.0', '4.0', '5.0', '6.0',\n",
      "       '7.0', '9.0'], dtype='<U32'), array(['-1.0', '0.0', '1.0', '10.0', '2.0', '3.0', '4.0', '5.0', '6.0',\n",
      "       '7.0', '9.0'], dtype='<U32'), array(['-1.0', '0.0', '1.0', '10.0', '2.0', '3.0', '4.0', '5.0', '6.0',\n",
      "       '7.0', '9.0'], dtype='<U32'), array(['-1.0', '0.0', '1.0', '10.0', '2.0', '3.0', '4.0', '5.0', '6.0',\n",
      "       '7.0', '9.0'], dtype='<U32'), array(['-1.0', '0.0', '1.0', '10.0', '2.0', '3.0', '4.0', '5.0', '6.0',\n",
      "       '7.0', '9.0'], dtype='<U32'), array(['-1.0', '0.0', '1.0', '10.0', '2.0', '3.0', '4.0', '5.0', '6.0',\n",
      "       '7.0', '9.0'], dtype='<U32'), array(['-1.0', '0.0', '1.0', '10.0', '2.0', '3.0', '4.0', '5.0', '6.0',\n",
      "       '7.0', '9.0'], dtype='<U32')]\n"
     ]
    }
   ],
   "source": [
    "print(enc.categories_)\n",
    "X = enc.transform(X).toarray()"
   ]
  },
  {
   "cell_type": "code",
   "execution_count": 11,
   "metadata": {},
   "outputs": [
    {
     "data": {
      "text/plain": [
       "(309036, 264)"
      ]
     },
     "execution_count": 11,
     "metadata": {},
     "output_type": "execute_result"
    }
   ],
   "source": [
    "X.shape"
   ]
  },
  {
   "cell_type": "code",
   "execution_count": 12,
   "metadata": {},
   "outputs": [
    {
     "data": {
      "text/plain": [
       "(309036,)"
      ]
     },
     "execution_count": 12,
     "metadata": {},
     "output_type": "execute_result"
    }
   ],
   "source": [
    "y.shape"
   ]
  },
  {
   "cell_type": "code",
   "execution_count": 13,
   "metadata": {},
   "outputs": [],
   "source": [
    "X_train, X_test, y_train, y_test = train_test_split(X, y, test_size=0.33, random_state=42)"
   ]
  },
  {
   "cell_type": "markdown",
   "metadata": {},
   "source": [
    "The Hidden Layer \"24\" is inspired by the idea that each surrounding node has been one-hot-encoded into 12 features"
   ]
  },
  {
   "cell_type": "code",
   "execution_count": 40,
   "metadata": {},
   "outputs": [],
   "source": [
    "clf = MLPClassifier(solver='adam', activation=\"tanh\", alpha=1e-5, hidden_layer_sizes=(24), verbose=True)"
   ]
  },
  {
   "cell_type": "code",
   "execution_count": 41,
   "metadata": {},
   "outputs": [
    {
     "name": "stdout",
     "output_type": "stream",
     "text": [
      "Iteration 1, loss = 0.22497909\n",
      "Iteration 2, loss = 0.16890230\n",
      "Iteration 3, loss = 0.15668375\n",
      "Iteration 4, loss = 0.14460117\n",
      "Iteration 5, loss = 0.13187189\n",
      "Iteration 6, loss = 0.12197706\n",
      "Iteration 7, loss = 0.11503923\n",
      "Iteration 8, loss = 0.11007052\n",
      "Iteration 9, loss = 0.10633064\n",
      "Iteration 10, loss = 0.10354371\n",
      "Iteration 11, loss = 0.10127006\n",
      "Iteration 12, loss = 0.09944906\n",
      "Iteration 13, loss = 0.09768676\n",
      "Iteration 14, loss = 0.09640080\n",
      "Iteration 15, loss = 0.09524938\n",
      "Iteration 16, loss = 0.09402039\n",
      "Iteration 17, loss = 0.09313687\n",
      "Iteration 18, loss = 0.09227726\n",
      "Iteration 19, loss = 0.09155579\n",
      "Iteration 20, loss = 0.09075135\n",
      "Iteration 21, loss = 0.09010310\n",
      "Iteration 22, loss = 0.08952554\n",
      "Iteration 23, loss = 0.08891986\n",
      "Iteration 24, loss = 0.08839072\n",
      "Iteration 25, loss = 0.08788187\n",
      "Iteration 26, loss = 0.08726821\n",
      "Iteration 27, loss = 0.08684824\n",
      "Iteration 28, loss = 0.08643932\n",
      "Iteration 29, loss = 0.08604001\n",
      "Iteration 30, loss = 0.08561345\n",
      "Iteration 31, loss = 0.08528307\n",
      "Iteration 32, loss = 0.08489872\n",
      "Iteration 33, loss = 0.08460083\n",
      "Iteration 34, loss = 0.08424618\n",
      "Iteration 35, loss = 0.08388629\n",
      "Iteration 36, loss = 0.08356054\n",
      "Iteration 37, loss = 0.08328095\n",
      "Iteration 38, loss = 0.08301155\n",
      "Iteration 39, loss = 0.08267108\n",
      "Iteration 40, loss = 0.08240202\n",
      "Iteration 41, loss = 0.08218196\n",
      "Iteration 42, loss = 0.08189995\n",
      "Iteration 43, loss = 0.08175432\n",
      "Iteration 44, loss = 0.08147671\n",
      "Iteration 45, loss = 0.08121200\n",
      "Iteration 46, loss = 0.08105394\n",
      "Iteration 47, loss = 0.08083709\n",
      "Iteration 48, loss = 0.08067678\n",
      "Iteration 49, loss = 0.08038903\n",
      "Iteration 50, loss = 0.08023775\n",
      "Iteration 51, loss = 0.08008830\n",
      "Iteration 52, loss = 0.07986138\n",
      "Iteration 53, loss = 0.07969910\n",
      "Iteration 54, loss = 0.07951831\n",
      "Iteration 55, loss = 0.07945852\n",
      "Iteration 56, loss = 0.07926909\n",
      "Iteration 57, loss = 0.07907027\n",
      "Iteration 58, loss = 0.07898562\n",
      "Iteration 59, loss = 0.07884250\n",
      "Iteration 60, loss = 0.07861744\n",
      "Iteration 61, loss = 0.07847948\n",
      "Iteration 62, loss = 0.07837096\n",
      "Iteration 63, loss = 0.07826241\n",
      "Iteration 64, loss = 0.07813567\n",
      "Iteration 65, loss = 0.07801154\n",
      "Iteration 66, loss = 0.07796195\n",
      "Iteration 67, loss = 0.07779116\n",
      "Iteration 68, loss = 0.07767066\n",
      "Iteration 69, loss = 0.07751927\n",
      "Iteration 70, loss = 0.07737163\n",
      "Iteration 71, loss = 0.07726051\n",
      "Iteration 72, loss = 0.07725303\n",
      "Iteration 73, loss = 0.07707010\n",
      "Iteration 74, loss = 0.07700568\n",
      "Iteration 75, loss = 0.07676038\n",
      "Iteration 76, loss = 0.07666464\n",
      "Iteration 77, loss = 0.07669910\n",
      "Iteration 78, loss = 0.07658519\n",
      "Iteration 79, loss = 0.07649005\n",
      "Iteration 80, loss = 0.07645260\n",
      "Iteration 81, loss = 0.07630511\n",
      "Iteration 82, loss = 0.07606935\n",
      "Iteration 83, loss = 0.07610534\n",
      "Iteration 84, loss = 0.07600872\n",
      "Iteration 85, loss = 0.07593626\n",
      "Iteration 86, loss = 0.07584757\n",
      "Iteration 87, loss = 0.07578598\n",
      "Iteration 88, loss = 0.07559346\n",
      "Iteration 89, loss = 0.07551987\n",
      "Iteration 90, loss = 0.07549980\n",
      "Iteration 91, loss = 0.07535850\n",
      "Iteration 92, loss = 0.07527142\n",
      "Iteration 93, loss = 0.07518806\n",
      "Iteration 94, loss = 0.07516875\n",
      "Iteration 95, loss = 0.07506629\n",
      "Iteration 96, loss = 0.07495452\n",
      "Iteration 97, loss = 0.07488909\n",
      "Iteration 98, loss = 0.07494373\n",
      "Iteration 99, loss = 0.07473270\n",
      "Iteration 100, loss = 0.07468115\n",
      "Iteration 101, loss = 0.07462474\n",
      "Iteration 102, loss = 0.07453366\n",
      "Iteration 103, loss = 0.07447407\n",
      "Iteration 104, loss = 0.07437182\n",
      "Iteration 105, loss = 0.07446341\n",
      "Iteration 106, loss = 0.07420250\n",
      "Iteration 107, loss = 0.07421426\n",
      "Iteration 108, loss = 0.07403134\n",
      "Iteration 109, loss = 0.07409391\n",
      "Iteration 110, loss = 0.07397401\n",
      "Iteration 111, loss = 0.07389227\n",
      "Iteration 112, loss = 0.07385131\n",
      "Iteration 113, loss = 0.07384598\n",
      "Iteration 114, loss = 0.07370521\n",
      "Iteration 115, loss = 0.07370044\n",
      "Iteration 116, loss = 0.07359089\n",
      "Iteration 117, loss = 0.07353350\n",
      "Iteration 118, loss = 0.07336893\n",
      "Iteration 119, loss = 0.07345242\n",
      "Iteration 120, loss = 0.07336439\n",
      "Iteration 121, loss = 0.07331614\n",
      "Iteration 122, loss = 0.07326769\n",
      "Iteration 123, loss = 0.07311947\n",
      "Iteration 124, loss = 0.07312064\n",
      "Iteration 125, loss = 0.07308760\n",
      "Iteration 126, loss = 0.07305534\n",
      "Iteration 127, loss = 0.07290812\n",
      "Iteration 128, loss = 0.07289739\n",
      "Iteration 129, loss = 0.07287502\n",
      "Iteration 130, loss = 0.07285132\n",
      "Iteration 131, loss = 0.07287791\n",
      "Iteration 132, loss = 0.07264943\n",
      "Iteration 133, loss = 0.07258759\n",
      "Iteration 134, loss = 0.07268894\n",
      "Iteration 135, loss = 0.07255918\n",
      "Iteration 136, loss = 0.07240625\n",
      "Iteration 137, loss = 0.07251798\n",
      "Iteration 138, loss = 0.07239377\n",
      "Iteration 139, loss = 0.07231529\n",
      "Iteration 140, loss = 0.07226163\n",
      "Iteration 141, loss = 0.07224405\n",
      "Iteration 142, loss = 0.07219669\n",
      "Iteration 143, loss = 0.07207113\n",
      "Iteration 144, loss = 0.07207874\n",
      "Iteration 145, loss = 0.07202071\n",
      "Iteration 146, loss = 0.07195903\n",
      "Iteration 147, loss = 0.07192813\n",
      "Iteration 148, loss = 0.07198488\n",
      "Iteration 149, loss = 0.07189884\n",
      "Iteration 150, loss = 0.07176515\n",
      "Iteration 151, loss = 0.07184817\n",
      "Iteration 152, loss = 0.07172532\n",
      "Iteration 153, loss = 0.07161737\n",
      "Iteration 154, loss = 0.07163530\n",
      "Iteration 155, loss = 0.07160813\n",
      "Iteration 156, loss = 0.07151038\n",
      "Iteration 157, loss = 0.07148871\n",
      "Iteration 158, loss = 0.07141380\n",
      "Iteration 159, loss = 0.07142570\n",
      "Iteration 160, loss = 0.07138493\n",
      "Iteration 161, loss = 0.07131649\n",
      "Iteration 162, loss = 0.07131622\n",
      "Iteration 163, loss = 0.07118689\n",
      "Iteration 164, loss = 0.07107442\n",
      "Iteration 165, loss = 0.07112916\n",
      "Iteration 166, loss = 0.07114743\n",
      "Iteration 167, loss = 0.07102878\n",
      "Iteration 168, loss = 0.07098365\n",
      "Iteration 169, loss = 0.07099636\n",
      "Iteration 170, loss = 0.07091936\n",
      "Iteration 171, loss = 0.07079770\n",
      "Iteration 172, loss = 0.07084743\n",
      "Iteration 173, loss = 0.07090365\n",
      "Iteration 174, loss = 0.07088041\n",
      "Iteration 175, loss = 0.07075538\n",
      "Iteration 176, loss = 0.07072325\n",
      "Iteration 177, loss = 0.07062664\n",
      "Iteration 178, loss = 0.07069617\n",
      "Iteration 179, loss = 0.07048477\n",
      "Iteration 180, loss = 0.07055722\n",
      "Iteration 181, loss = 0.07052279\n",
      "Iteration 182, loss = 0.07046565\n",
      "Iteration 183, loss = 0.07051240\n",
      "Iteration 184, loss = 0.07033403\n",
      "Iteration 185, loss = 0.07044722\n",
      "Iteration 186, loss = 0.07038786\n",
      "Iteration 187, loss = 0.07029179\n",
      "Iteration 188, loss = 0.07027915\n",
      "Iteration 189, loss = 0.07031066\n",
      "Iteration 190, loss = 0.07017538\n",
      "Iteration 191, loss = 0.07022048\n",
      "Iteration 192, loss = 0.07018364\n",
      "Iteration 193, loss = 0.07007825\n",
      "Iteration 194, loss = 0.07013316\n",
      "Iteration 195, loss = 0.07005586\n",
      "Iteration 196, loss = 0.06999124\n",
      "Iteration 197, loss = 0.07001942\n",
      "Iteration 198, loss = 0.07001900\n",
      "Iteration 199, loss = 0.06995552\n",
      "Iteration 200, loss = 0.06993059\n"
     ]
    },
    {
     "name": "stderr",
     "output_type": "stream",
     "text": [
      "/home/lnelson/anaconda3/lib/python3.7/site-packages/sklearn/neural_network/multilayer_perceptron.py:562: ConvergenceWarning: Stochastic Optimizer: Maximum iterations (200) reached and the optimization hasn't converged yet.\n",
      "  % self.max_iter, ConvergenceWarning)\n"
     ]
    },
    {
     "name": "stdout",
     "output_type": "stream",
     "text": [
      "0.9545311917789414\n"
     ]
    }
   ],
   "source": [
    "clf.fit(X_train, y_train)\n",
    "\n",
    "y_pred = clf.predict(X_test)\n",
    "\n",
    "print(accuracy_score(y_test, y_pred))"
   ]
  },
  {
   "cell_type": "code",
   "execution_count": 42,
   "metadata": {},
   "outputs": [
    {
     "data": {
      "text/plain": [
       "array([[13981,  3017],\n",
       "       [ 1620, 83364]])"
      ]
     },
     "execution_count": 42,
     "metadata": {},
     "output_type": "execute_result"
    }
   ],
   "source": [
    "confusion_matrix(y_test, y_pred)"
   ]
  },
  {
   "cell_type": "code",
   "execution_count": 43,
   "metadata": {},
   "outputs": [
    {
     "data": {
      "text/plain": [
       "0.9999999999602851"
      ]
     },
     "execution_count": 43,
     "metadata": {},
     "output_type": "execute_result"
    }
   ],
   "source": [
    "clf.predict_proba(X_test[0].reshape(1, -1))[0][1]"
   ]
  },
  {
   "cell_type": "markdown",
   "metadata": {},
   "source": [
    "# The AI that Plays Mine Sweeper"
   ]
  },
  {
   "cell_type": "code",
   "execution_count": null,
   "metadata": {},
   "outputs": [],
   "source": [
    "mygame = game.minesweeper(9, 9, 10, record=True)\n",
    "c = 0\n",
    "mygame.playOnNoteBook()\n",
    "\n",
    "#Our algorithm selects (0,0) first every time any way -- input is all the same on all unknown...\n",
    "#To test if there is a better place than this think about classifying better starting points... Differn't shapes...\n",
    "mygame.gameboard[0][0].click()\n",
    "\n",
    "while (mygame.visible != \"You have lost\" and mygame.visible != \"You have won!\"):\n",
    "    curbest = 0\n",
    "    bestindex = (0, 0)\n",
    "    data = np.array(mygame.visible).astype('<U3')\n",
    "    data = np.pad(data, (2), 'constant', constant_values=(-1))\n",
    "    data = np.where(data=='*', 0, data)\n",
    "    max_right = max(np.where(np.array(mygame.visible) != '?')[0])+1 \n",
    "    max_down = max(np.where(np.array(mygame.visible) != '?')[1])+1\n",
    "    innerData = (data[2:-2, 2:-2])[0:max_right+1, 0:max_down+1] \n",
    "    for index, x in np.ndenumerate(innerData):\n",
    "        if x == \"?\":\n",
    "            toAppend = []\n",
    "            toAppend.append(data[index[0], index[1]])\n",
    "            toAppend.append(data[index[0], index[1]+1])\n",
    "            toAppend.append(data[index[0], index[1]+2])\n",
    "            toAppend.append(data[index[0], index[1]+3])\n",
    "            toAppend.append(data[index[0], index[1]+4])\n",
    "            toAppend.append(data[index[0]+1, index[1]])\n",
    "            toAppend.append(data[index[0]+1, index[1]+1])\n",
    "            toAppend.append(data[index[0]+1, index[1]+2])\n",
    "            toAppend.append(data[index[0]+1, index[1]+3])\n",
    "            toAppend.append(data[index[0]+1, index[1]+4])\n",
    "            toAppend.append(data[index[0]+2, index[1]])\n",
    "            toAppend.append(data[index[0]+2, index[1]+1])\n",
    "            toAppend.append(data[index[0]+2, index[1]+3])\n",
    "            toAppend.append(data[index[0]+2, index[1]+4])\n",
    "            toAppend.append(data[index[0]+3, index[1]])\n",
    "            toAppend.append(data[index[0]+3, index[1]+1])\n",
    "            toAppend.append(data[index[0]+3, index[1]+2])\n",
    "            toAppend.append(data[index[0]+3, index[1]+3])\n",
    "            toAppend.append(data[index[0]+3, index[1]+4])\n",
    "            toAppend.append(data[index[0]+4, index[1]])\n",
    "            toAppend.append(data[index[0]+4, index[1]+1])\n",
    "            toAppend.append(data[index[0]+4, index[1]+2])\n",
    "            toAppend.append(data[index[0]+4, index[1]+3])\n",
    "            toAppend.append(data[index[0]+4, index[1]+4])\n",
    "            toAppend = np.array(toAppend)\n",
    "            toAppend = np.where(toAppend=='?', 10, toAppend)\n",
    "            toAppend = toAppend.astype(float).astype(str)\n",
    "            toAppend = toAppend.reshape(1,-1)\n",
    "            toAppend = enc.transform(toAppend).toarray()\n",
    "            if clf.predict_proba(toAppend)[0][1] > curbest:\n",
    "                curbest = clf.predict_proba(toAppend)[0][1]\n",
    "                bestindex = index\n",
    "            if clf.predict_proba(toAppend)[0][0] > 0.85:\n",
    "                mygame.visible[index[0]][index[1]] = 9.0\n",
    "                mygame.gameboard[index[0]][index[1]].description = \"9.0\"\n",
    "                print(index)\n",
    "    #print(curbest)\n",
    "    mygame.gameboard[bestindex[0]][bestindex[1]].click()\n",
    "    #mygame.clickCell(bestindex)\n",
    "    c+=1\n",
    "    \n",
    "    #print(c, bestindex)\n",
    "\n",
    "#print(mygame.visible)"
   ]
  },
  {
   "cell_type": "code",
   "execution_count": null,
   "metadata": {},
   "outputs": [],
   "source": [
    "mygame.gameRecord"
   ]
  },
  {
   "cell_type": "markdown",
   "metadata": {},
   "source": [
    "# Idea's to Improve:\n",
    "### Mess with Hyper Params\n",
    "### Mess with the solve function (make exact percentages etc)\n",
    "### Mess with what we are classifying (We just want to know if something is a bomb or not...\n",
    "### More Data surronding each point"
   ]
  },
  {
   "cell_type": "markdown",
   "metadata": {},
   "source": [
    "# Messing with Hyper Params"
   ]
  },
  {
   "cell_type": "code",
   "execution_count": 20,
   "metadata": {},
   "outputs": [],
   "source": [
    "#clf2 = MLPClassifier(solver='lbfgs', alpha=1e-5, random_state=1)\n",
    "\n",
    "#clf2.fit(X_train, y_train)\n",
    "\n",
    "#y_pred = clf2.predict(X_test)\n",
    "\n",
    "#print(accuracy_score(y_test, y_pred))"
   ]
  },
  {
   "cell_type": "code",
   "execution_count": 21,
   "metadata": {},
   "outputs": [],
   "source": [
    "# This one is inspired by the one hot incoding (Each feature was split into 11 parts)\n",
    "#clf3 = MLPClassifier(solver='lbfgs', alpha=1e-5, hidden_layer_sizes=(11), random_state=1)\n",
    "\n",
    "#clf3.fit(X_train, y_train)\n",
    "\n",
    "#y_pred = clf3.predict(X_test)\n",
    "\n",
    "#print(accuracy_score(y_test, y_pred))"
   ]
  },
  {
   "cell_type": "code",
   "execution_count": 120,
   "metadata": {},
   "outputs": [],
   "source": [
    "import pickle\n",
    "\n",
    "filename = 'clf1.sav'\n",
    "pickle.dump(clf, open(filename, 'wb'))\n",
    "\n",
    "#filename = 'clf2.sav'\n",
    "#pickle.dump(clf2, open(filename, 'wb'))\n",
    "\n",
    "#filename = 'clf3.sav'\n",
    "#pickle.dump(clf3, open(filename, 'wb'))"
   ]
  },
  {
   "cell_type": "code",
   "execution_count": 23,
   "metadata": {},
   "outputs": [],
   "source": [
    "#clf3 = MLPClassifier(solver='lbfgs', alpha=1e-5, hidden_layer_sizes=(8, 3), random_state=1)\n",
    "\n",
    "#clf3.fit(X_train, y_train)\n",
    "\n",
    "#y_pred = clf3.predict(X_test)\n",
    "\n",
    "#print(accuracy_score(y_test, y_pred))"
   ]
  },
  {
   "cell_type": "code",
   "execution_count": 24,
   "metadata": {},
   "outputs": [],
   "source": [
    "#filename = 'clf3.sav'\n",
    "#pickle.dump(clf3, open(filename, 'wb'))"
   ]
  },
  {
   "cell_type": "markdown",
   "metadata": {},
   "source": [
    "# Messing with what we are classifying"
   ]
  },
  {
   "cell_type": "code",
   "execution_count": 25,
   "metadata": {},
   "outputs": [
    {
     "data": {
      "text/plain": [
       "array([309036])"
      ]
     },
     "execution_count": 25,
     "metadata": {},
     "output_type": "execute_result"
    }
   ],
   "source": [
    "np.unique(y.shape)"
   ]
  },
  {
   "cell_type": "code",
   "execution_count": null,
   "metadata": {},
   "outputs": [],
   "source": []
  }
 ],
 "metadata": {
  "kernelspec": {
   "display_name": "Python 3",
   "language": "python",
   "name": "python3"
  },
  "language_info": {
   "codemirror_mode": {
    "name": "ipython",
    "version": 3
   },
   "file_extension": ".py",
   "mimetype": "text/x-python",
   "name": "python",
   "nbconvert_exporter": "python",
   "pygments_lexer": "ipython3",
   "version": "3.7.3"
  }
 },
 "nbformat": 4,
 "nbformat_minor": 1
}
