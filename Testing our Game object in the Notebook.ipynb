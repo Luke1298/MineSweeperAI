{
 "cells": [
  {
   "cell_type": "code",
   "execution_count": 14,
   "metadata": {},
   "outputs": [],
   "source": [
    "import numpy as np\n",
    "import os\n",
    "from IPython.display import display, clear_output\n",
    "from ipywidgets import widgets, Layout\n",
    "import time\n",
    "\n",
    "class ToManyBombs(Exception):\n",
    "    \"\"\"Raised when there are too many bombs\"\"\"\n",
    "    pass\n",
    "\n",
    "class minesweeper:\n",
    "    def __init__(self, width=8, height=21, bombs=34, record=False):\n",
    "        if bombs > width*height:\n",
    "            raise ToManyBombs\n",
    "        self.width = width\n",
    "        self.height = height\n",
    "        self.bombs = bombs\n",
    "        self.record = record\n",
    "        self.isFrist = True\n",
    "        self.gameRecord = {}\n",
    "        self.gameboard = None\n",
    "        self.visible = [[\"?\" for i in range(width)] for j in range(height)]\n",
    "        self.init_board()\n",
    "\n",
    "    def init_board(self):\n",
    "        self.board = np.zeros((self.width, self.height), dtype=int)\n",
    "        while self.num_bombs() < self.bombs:\n",
    "            randRow = np.random.randint(self.height)\n",
    "            randCol = np.random.randint(self.width)\n",
    "            \"\"\"Since it is impossible for squares to have more than 8 surronding bombs we will say that 9 represents a bomb\"\"\"\n",
    "            self.board[randCol, randRow] = 9\n",
    "        surroundingSquares = np.zeros((self.board.shape[0] + 2, self.board.shape[1] + 2))\n",
    "        surroundingSquares[1:self.board.shape[0] + 1, 1:self.board.shape[1] + 1] = (self.board==9)\n",
    "        allSurroundingDirections = [surroundingSquares[:-2,:-2], surroundingSquares[1:-1,:-2], surroundingSquares[2:, :-2],\n",
    "                                  surroundingSquares[2:, 1:-1], surroundingSquares[:-2, 1:-1],\n",
    "                                  surroundingSquares[:-2, 2:], surroundingSquares[1:-1, 2:], surroundingSquares[2:, 2:]]\n",
    "        newBoard = sum(allSurroundingDirections)\n",
    "        newBoard[np.where(self.board==9)] = 9\n",
    "        self.board = newBoard.T\n",
    "        if 8 in self.board:\n",
    "            self.init_board()\n",
    "        self.startTime = time.time()\n",
    "\n",
    "\n",
    "    def getSurroundingSquares(self, cordinates):\n",
    "        y, x = cordinates\n",
    "        surrondingSquares = []\n",
    "        onLeftSide, onRightSide, onTop, onBot = False, False, False, False\n",
    "        if x == 0:\n",
    "            onLeftSide = True\n",
    "        if x == self.width - 1:\n",
    "            onRightSide = True\n",
    "        if y == 0:\n",
    "            onTop = True\n",
    "        if y == self.height - 1:\n",
    "            onBot = True\n",
    "        validSquares = [[True & (not onLeftSide) & (not onTop), True & (not onTop), True & (not onTop) & (not onRightSide)],\n",
    "                             [True & (not onLeftSide), None, True & (not onRightSide)],\n",
    "                             [True & (not onLeftSide) & (not onBot), True & (not onBot), True & (not onBot) & (not onRightSide)]]\n",
    "        for r, row in enumerate(validSquares):\n",
    "            for c, cell in enumerate(row):\n",
    "                if cell:\n",
    "                    surrondingSquares.append((y+r-1, x+c-1))\n",
    "        return surrondingSquares\n",
    "\n",
    "    def num_bombs(self):\n",
    "        return np.sum(self.board == 9)\n",
    "\n",
    "    def firstClick(self, coordinate):\n",
    "        while self.board[coordinate] != 0:\n",
    "            self.init_board()\n",
    "\n",
    "    def clickCell(self, coordinate, isRecursion=False):\n",
    "        if (self.isFrist):\n",
    "            self.firstClick(coordinate)\n",
    "            self.isFrist = False\n",
    "        if (self.record and not isRecursion):\n",
    "            self.gameRecord[time.time() - self.startTime] = coordinate\n",
    "        x, y = coordinate\n",
    "        if self.visible[x][y] != \"?\":\n",
    "            pass\n",
    "        elif self.board[coordinate] == 0:\n",
    "            self.visible[x][y] = \"*\"\n",
    "            for cell in self.getSurroundingSquares(coordinate):\n",
    "                self.clickCell(cell, isRecursion=True)\n",
    "        elif self.board[coordinate] != 9:\n",
    "            self.visible[x][y] = str(self.board[coordinate])\n",
    "        else:\n",
    "            self.loseGame()\n",
    "\n",
    "    def clickCellCallback(self, button):\n",
    "        coordinate = eval(button.tooltip)\n",
    "        if (self.isFrist):\n",
    "            self.firstClick(coordinate)\n",
    "            self.isFrist = False\n",
    "        if (self.record and not self.clickCallbackRecursion):\n",
    "            self.gameRecord[time.time() - self.startTime] = coordinate\n",
    "        x, y = coordinate\n",
    "        if self.visible[x][y] != \"?\":\n",
    "            pass\n",
    "        elif self.board[coordinate] == 0:\n",
    "            self.visible[x][y] = \"*\"\n",
    "            button.description = \"\"\n",
    "            button.disabled = True\n",
    "            for cell in self.getSurroundingSquares(coordinate):\n",
    "                self.clickCallbackRecursion = True\n",
    "                self.gameboard[cell[0]][cell[1]].click()\n",
    "                self.clickCallbackRecursion = False\n",
    "        elif self.board[coordinate] != 9:\n",
    "            self.visible[x][y] = str(self.board[coordinate])\n",
    "            button.description = str(self.board[coordinate])\n",
    "            button.disabled = True\n",
    "        else:\n",
    "            self.visible[x][y] = str(self.board[coordinate])\n",
    "            button.description = str(self.board[coordinate])\n",
    "            self.loseGame()\n",
    "            button.style.button_color = \"#F77\"\n",
    "            #clear_output()\n",
    "            display(self.visible)\n",
    "        if sum([sum([(c == \"?\" or str(c)==\"9.0\") for c in row]) for row in self.visible]) == self.bombs:\n",
    "            self.winGame()\n",
    "            #clear_output()\n",
    "            display(self.visible)\n",
    "        #self.playOnNoteBook()\n",
    "\n",
    "    def winGame(self):\n",
    "        if self.gameboard:\n",
    "            for row in self.gameboard:\n",
    "                for btn in row:\n",
    "                    btn.disabled = True\n",
    "        self.score = time.time() - self.startTime\n",
    "        self.visible = \"You have won!\"\n",
    "\n",
    "    def loseGame(self):\n",
    "        if self.gameboard:\n",
    "            for i, row in enumerate(self.gameboard):\n",
    "                for j, btn in enumerate(row):\n",
    "                    btn.description = str(self.board[(i, j)])\n",
    "                    btn.disabled = True\n",
    "        self.score = 10000\n",
    "        self.visible = \"You have lost\"\n",
    "\n",
    "    def getScore(self):\n",
    "        self.score = time.time() - self.startTime\n",
    "        return time.time() - self.startTime\n",
    "\n",
    "    def pprint(self):\n",
    "        for row in self.visible:\n",
    "            for c in row:\n",
    "                print(c, \"\\t\", end=\"\")\n",
    "            print(\"\\n\")\n",
    "\n",
    "    def flag(self, coordinate):\n",
    "        x, y = coordinate\n",
    "        self.visible[x][y] = \"9.0\"\n",
    "        if (self.record):\n",
    "            self.gameRecord[time.time() - self.startTime] = (\"F\", coordinate[0], coordinate[1])\n",
    "\n",
    "    def play(self):\n",
    "        while self.visible != \"You have lost\":\n",
    "            os.system('clear')\n",
    "            self.pprint()\n",
    "            myinput = tuple(x.strip() for x in input(\"Where would you like to click?\").split(','))\n",
    "            if myinput[0] == \"f\":\n",
    "                self.flag((int(myinput[1]), int(myinput[2])))\n",
    "            else:\n",
    "                self.clickCell((int(myinput[0]), int(myinput[1])))\n",
    "        print(self.visible)\n",
    "\n",
    "    def playOnNoteBook(self):\n",
    "        if (self.visible != \"You have lost\" and self.visible != \"You have won!\"):\n",
    "            self.clickCallbackRecursion = False\n",
    "            clear_output(wait=True)\n",
    "            self.gameboard = []\n",
    "            for r, row in enumerate(self.visible):\n",
    "                gameRow = []\n",
    "                for c, v in enumerate(row):\n",
    "                    cord = (r,c)\n",
    "                    buttonDisctiptions = str(int(float(v))) if (v!=\"?\" and v!=\"*\") else \"\"\n",
    "                    buttonColor = \"#DDD\" if (v!=\"?\") else \"#AAA\"\n",
    "                    bToAdd = widgets.Button(description=buttonDisctiptions, tooltip = str(cord), layout=Layout(width='30px', height='30px', padding=\"0px\", color=buttonColor), disabled=(v != \"?\"))\n",
    "                    bToAdd.style.button_color = buttonColor\n",
    "                    bToAdd.on_click(self.clickCellCallback)\n",
    "                    gameRow.append(bToAdd)\n",
    "                self.gameboard.append(gameRow)\n",
    "            for row in self.gameboard:\n",
    "                display(widgets.HBox(row))\n",
    "        else:\n",
    "            clear_output()\n",
    "            display(self.visible)\n",
    "\n",
    "    def visNextRecord(self, btn):\n",
    "        clear_output(wait=True)\n",
    "        endGame = False\n",
    "        if self.nclick is not None:\n",
    "            if len(self.nclick)==2:\n",
    "                print(self.nclick)\n",
    "                self.saveVisible = self.visible\n",
    "                self.clickCell(self.nclick)\n",
    "            if len(self.nclick)==3:\n",
    "                print(self.nclick)\n",
    "                self.visible[self.nclick[1]][self.nclick[2]] = \"9\" \n",
    "            \n",
    "        if type(self.visible) == str:\n",
    "            endGame = True\n",
    "            self.visible = self.saveVisible\n",
    "        self.showBoard = []\n",
    "        for r, row in enumerate(self.visible):\n",
    "            gameRow = []\n",
    "            for c, v in enumerate(row):\n",
    "                cord = (r,c)\n",
    "                buttonDisctiptions = str(int(float(v))) if (v!=\"?\" and v!=\"*\") else \"\"\n",
    "                buttonColor = \"#DDD\" if (v!=\"?\") else \"#AAA\"\n",
    "                if endGame and (cord == self.nclick):\n",
    "                    buttonColor = \"#F77\"\n",
    "                    buttonDisctiptions = 9\n",
    "                elif cord in [i[1] for i in self.gameShow[:self.showIndex+1]]:\n",
    "                    buttonColor = \"#AEC6CF\"\n",
    "                    buttonDisctiptions = int(self.board[cord])\n",
    "                elif self.visible[cord[0]][cord[1]] == \"9\":\n",
    "                    buttonColor = \"#FDFD96\"\n",
    "                \n",
    "                bToAdd = widgets.HTML(value=\"\"\"<div style=\"height: 30px; \n",
    "                                                           padding: 0px; \n",
    "                                                           width: 30px; text-align: center;\n",
    "                                                           background-color:{};\">{}</div>\"\"\".format(buttonColor, buttonDisctiptions),\n",
    "                                      style= {'background-color': buttonColor})\n",
    "                bToAdd.style.button_color = buttonColor\n",
    "                #bToAdd.on_click(self.clickCellCallback)\n",
    "                gameRow.append(bToAdd)\n",
    "            self.showBoard.append(gameRow)\n",
    "        for row in self.showBoard:\n",
    "            display(widgets.HBox(row))\n",
    "        if not endGame:\n",
    "            self.showIndex+=1\n",
    "            self.nclick = self.gameShow[self.showIndex][1]\n",
    "            display(self.nextBtn)\n",
    "\n",
    "    def seeRecordOnNotebook(self):\n",
    "        if not self.gameRecord:\n",
    "            print(\"You need to have started a game with record on\")\n",
    "            raise\n",
    "        self.visible = [[\"?\" for i in range(self.width)] for j in range(self.height)]\n",
    "        self.gameShow = sorted(self.gameRecord.items())\n",
    "        self.showIndex = -1\n",
    "        self.nclick = None\n",
    "        btnWidth = 128\n",
    "        self.nextBtn = widgets.Button(description='Next',\n",
    "                       disabled=False,\n",
    "                       button_style='info',\n",
    "                       layout=Layout(width='{}px'.format(btnWidth),left='{}px'.format(34*self.width - btnWidth)))\n",
    "        self.nextBtn.on_click(self.visNextRecord)\n",
    "        self.visNextRecord(None)\n",
    "        \n",
    "\n",
    "    def solvePercent(self, percent):\n",
    "        while sum([f==\"?\" for f in sum(self.visible, [])])/(self.width * self.height) > percent:\n",
    "            randRow = np.random.randint(self.height)\n",
    "            randCol = np.random.randint(self.width)\n",
    "            coordinate = (randRow, randCol)\n",
    "            if self.board[coordinate] != 9:\n",
    "                self.clickCell(coordinate)\n",
    "            else:\n",
    "                self.visible[randRow][randCol] = 9.0\n"
   ]
  },
  {
   "cell_type": "code",
   "execution_count": 15,
   "metadata": {
    "scrolled": true
   },
   "outputs": [
    {
     "data": {
      "application/vnd.jupyter.widget-view+json": {
       "model_id": "97e2f79da84748aca16edc51fa31d18f",
       "version_major": 2,
       "version_minor": 0
      },
      "text/plain": [
       "HBox(children=(Button(layout=Layout(height='30px', padding='0px', width='30px'), style=ButtonStyle(button_colo…"
      ]
     },
     "metadata": {},
     "output_type": "display_data"
    },
    {
     "data": {
      "application/vnd.jupyter.widget-view+json": {
       "model_id": "a4247aba430f4a46accac4a2db4a1a80",
       "version_major": 2,
       "version_minor": 0
      },
      "text/plain": [
       "HBox(children=(Button(layout=Layout(height='30px', padding='0px', width='30px'), style=ButtonStyle(button_colo…"
      ]
     },
     "metadata": {},
     "output_type": "display_data"
    },
    {
     "data": {
      "application/vnd.jupyter.widget-view+json": {
       "model_id": "d055b1e27a314db087acbf07ce3a796a",
       "version_major": 2,
       "version_minor": 0
      },
      "text/plain": [
       "HBox(children=(Button(layout=Layout(height='30px', padding='0px', width='30px'), style=ButtonStyle(button_colo…"
      ]
     },
     "metadata": {},
     "output_type": "display_data"
    },
    {
     "data": {
      "application/vnd.jupyter.widget-view+json": {
       "model_id": "db52cb7321d447489df71a555b42759b",
       "version_major": 2,
       "version_minor": 0
      },
      "text/plain": [
       "HBox(children=(Button(layout=Layout(height='30px', padding='0px', width='30px'), style=ButtonStyle(button_colo…"
      ]
     },
     "metadata": {},
     "output_type": "display_data"
    },
    {
     "data": {
      "application/vnd.jupyter.widget-view+json": {
       "model_id": "fbaca88c98084f1589da0d28f8366e48",
       "version_major": 2,
       "version_minor": 0
      },
      "text/plain": [
       "HBox(children=(Button(layout=Layout(height='30px', padding='0px', width='30px'), style=ButtonStyle(button_colo…"
      ]
     },
     "metadata": {},
     "output_type": "display_data"
    },
    {
     "data": {
      "application/vnd.jupyter.widget-view+json": {
       "model_id": "0c37f2b5cb66470da5edbb41687df690",
       "version_major": 2,
       "version_minor": 0
      },
      "text/plain": [
       "HBox(children=(Button(layout=Layout(height='30px', padding='0px', width='30px'), style=ButtonStyle(button_colo…"
      ]
     },
     "metadata": {},
     "output_type": "display_data"
    },
    {
     "data": {
      "application/vnd.jupyter.widget-view+json": {
       "model_id": "5e506ac3189a49209c4d2730f8747c39",
       "version_major": 2,
       "version_minor": 0
      },
      "text/plain": [
       "HBox(children=(Button(layout=Layout(height='30px', padding='0px', width='30px'), style=ButtonStyle(button_colo…"
      ]
     },
     "metadata": {},
     "output_type": "display_data"
    },
    {
     "data": {
      "application/vnd.jupyter.widget-view+json": {
       "model_id": "d65364f84427411fbfc6820b3cd09e9d",
       "version_major": 2,
       "version_minor": 0
      },
      "text/plain": [
       "HBox(children=(Button(layout=Layout(height='30px', padding='0px', width='30px'), style=ButtonStyle(button_colo…"
      ]
     },
     "metadata": {},
     "output_type": "display_data"
    },
    {
     "data": {
      "text/plain": [
       "'You have lost'"
      ]
     },
     "metadata": {},
     "output_type": "display_data"
    }
   ],
   "source": [
    "mygame = minesweeper(14, 8, 25, record=True)\n",
    "mygame.playOnNoteBook()"
   ]
  },
  {
   "cell_type": "code",
   "execution_count": 17,
   "metadata": {},
   "outputs": [],
   "source": [
    "mygame.flag((6,11))"
   ]
  },
  {
   "cell_type": "code",
   "execution_count": 19,
   "metadata": {},
   "outputs": [
    {
     "data": {
      "application/vnd.jupyter.widget-view+json": {
       "model_id": "582192488f88453eb059b77e09056b5a",
       "version_major": 2,
       "version_minor": 0
      },
      "text/plain": [
       "HBox(children=(HTML(value='<div style=\"height: 30px; \\n                                                       …"
      ]
     },
     "metadata": {},
     "output_type": "display_data"
    },
    {
     "data": {
      "application/vnd.jupyter.widget-view+json": {
       "model_id": "58198983a4f24e5b9942649b366dd7da",
       "version_major": 2,
       "version_minor": 0
      },
      "text/plain": [
       "HBox(children=(HTML(value='<div style=\"height: 30px; \\n                                                       …"
      ]
     },
     "metadata": {},
     "output_type": "display_data"
    },
    {
     "data": {
      "application/vnd.jupyter.widget-view+json": {
       "model_id": "09bf59de501b423f8eff051c1c2e76e0",
       "version_major": 2,
       "version_minor": 0
      },
      "text/plain": [
       "HBox(children=(HTML(value='<div style=\"height: 30px; \\n                                                       …"
      ]
     },
     "metadata": {},
     "output_type": "display_data"
    },
    {
     "data": {
      "application/vnd.jupyter.widget-view+json": {
       "model_id": "8c5c690b889c4929abdda08f6f7b54a6",
       "version_major": 2,
       "version_minor": 0
      },
      "text/plain": [
       "HBox(children=(HTML(value='<div style=\"height: 30px; \\n                                                       …"
      ]
     },
     "metadata": {},
     "output_type": "display_data"
    },
    {
     "data": {
      "application/vnd.jupyter.widget-view+json": {
       "model_id": "d468697d73304119ad2ac6be8606af9f",
       "version_major": 2,
       "version_minor": 0
      },
      "text/plain": [
       "HBox(children=(HTML(value='<div style=\"height: 30px; \\n                                                       …"
      ]
     },
     "metadata": {},
     "output_type": "display_data"
    },
    {
     "data": {
      "application/vnd.jupyter.widget-view+json": {
       "model_id": "b907b8cb998d4e388f5a48e6c9443dc5",
       "version_major": 2,
       "version_minor": 0
      },
      "text/plain": [
       "HBox(children=(HTML(value='<div style=\"height: 30px; \\n                                                       …"
      ]
     },
     "metadata": {},
     "output_type": "display_data"
    },
    {
     "data": {
      "application/vnd.jupyter.widget-view+json": {
       "model_id": "207cab39fd74491fb47b172f9b21b392",
       "version_major": 2,
       "version_minor": 0
      },
      "text/plain": [
       "HBox(children=(HTML(value='<div style=\"height: 30px; \\n                                                       …"
      ]
     },
     "metadata": {},
     "output_type": "display_data"
    },
    {
     "data": {
      "application/vnd.jupyter.widget-view+json": {
       "model_id": "0da64ddc5f824abfa38f992f20bd2469",
       "version_major": 2,
       "version_minor": 0
      },
      "text/plain": [
       "HBox(children=(HTML(value='<div style=\"height: 30px; \\n                                                       …"
      ]
     },
     "metadata": {},
     "output_type": "display_data"
    },
    {
     "data": {
      "application/vnd.jupyter.widget-view+json": {
       "model_id": "4d3b47c4cb314d1fb7bbcee8632d701f",
       "version_major": 2,
       "version_minor": 0
      },
      "text/plain": [
       "Button(button_style='info', description='Next', layout=Layout(left='348px', width='128px'), style=ButtonStyle(…"
      ]
     },
     "metadata": {},
     "output_type": "display_data"
    }
   ],
   "source": [
    "mygame.seeRecordOnNotebook()"
   ]
  },
  {
   "cell_type": "code",
   "execution_count": 117,
   "metadata": {},
   "outputs": [
    {
     "data": {
      "text/plain": [
       "0"
      ]
     },
     "execution_count": 117,
     "metadata": {},
     "output_type": "execute_result"
    }
   ],
   "source": [
    "mygame.showIndex"
   ]
  },
  {
   "cell_type": "code",
   "execution_count": 118,
   "metadata": {},
   "outputs": [
    {
     "data": {
      "text/plain": [
       "[]"
      ]
     },
     "execution_count": 118,
     "metadata": {},
     "output_type": "execute_result"
    }
   ],
   "source": [
    "mygame.gameShow[:mygame.showIndex]"
   ]
  },
  {
   "cell_type": "code",
   "execution_count": null,
   "metadata": {},
   "outputs": [],
   "source": []
  }
 ],
 "metadata": {
  "kernelspec": {
   "display_name": "Python 3",
   "language": "python",
   "name": "python3"
  },
  "language_info": {
   "codemirror_mode": {
    "name": "ipython",
    "version": 3
   },
   "file_extension": ".py",
   "mimetype": "text/x-python",
   "name": "python",
   "nbconvert_exporter": "python",
   "pygments_lexer": "ipython3",
   "version": "3.7.3"
  }
 },
 "nbformat": 4,
 "nbformat_minor": 2
}
