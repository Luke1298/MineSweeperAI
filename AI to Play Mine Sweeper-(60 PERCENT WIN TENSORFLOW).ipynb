{
 "cells": [
  {
   "cell_type": "markdown",
   "metadata": {},
   "source": [
    "# AI To Play Mine Sweeper"
   ]
  },
  {
   "cell_type": "markdown",
   "metadata": {},
   "source": [
    "## The Game Object\n",
    "\n",
    "I developed the pythonic minesweeper. It is unit tested fairly throughly; up until visualizations and tracking features of the project present themselves. Note: The 9's are bombs; because it is impossible for a cell to be sourounded by more Bombs then there are cells surronding it."
   ]
  },
  {
   "cell_type": "code",
   "execution_count": 7,
   "metadata": {},
   "outputs": [],
   "source": [
    "import game\n",
    "import numpy as np\n",
    "import matplotlib.pyplot as plt\n",
    "from sklearn.neural_network import MLPClassifier\n",
    "from sklearn.model_selection import train_test_split\n",
    "from sklearn.metrics import accuracy_score, confusion_matrix\n",
    "from sklearn.preprocessing import OneHotEncoder\n",
    "from sklearn.ensemble import RandomForestClassifier, VotingClassifier\n",
    "from sklearn.naive_bayes import GaussianNB\n",
    "from ipywidgets import IntProgress\n",
    "from IPython.display import display\n",
    "import random"
   ]
  },
  {
   "cell_type": "code",
   "execution_count": 2,
   "metadata": {},
   "outputs": [
    {
     "name": "stdout",
     "output_type": "stream",
     "text": [
      "9.0 \t9.0 \t3.0 \t2.0 \t2.0 \t2.0 \t9.0 \t1.0 \t0.0 \t0.0 \t0.0 \t0.0 \t0.0 \t0.0 \t\n",
      "\n",
      "3.0 \t9.0 \t3.0 \t9.0 \t9.0 \t3.0 \t2.0 \t1.0 \t0.0 \t0.0 \t1.0 \t1.0 \t1.0 \t0.0 \t\n",
      "\n",
      "2.0 \t2.0 \t3.0 \t3.0 \t4.0 \t9.0 \t1.0 \t0.0 \t0.0 \t0.0 \t1.0 \t9.0 \t2.0 \t1.0 \t\n",
      "\n",
      "9.0 \t1.0 \t1.0 \t9.0 \t2.0 \t1.0 \t1.0 \t0.0 \t0.0 \t1.0 \t2.0 \t3.0 \t3.0 \t9.0 \t\n",
      "\n",
      "2.0 \t2.0 \t1.0 \t2.0 \t2.0 \t2.0 \t1.0 \t2.0 \t2.0 \t4.0 \t9.0 \t3.0 \t9.0 \t2.0 \t\n",
      "\n",
      "9.0 \t2.0 \t0.0 \t2.0 \t9.0 \t3.0 \t9.0 \t2.0 \t9.0 \t9.0 \t9.0 \t4.0 \t2.0 \t2.0 \t\n",
      "\n",
      "9.0 \t3.0 \t1.0 \t2.0 \t9.0 \t3.0 \t1.0 \t3.0 \t4.0 \t9.0 \t3.0 \t2.0 \t9.0 \t1.0 \t\n",
      "\n",
      "2.0 \t9.0 \t1.0 \t1.0 \t1.0 \t1.0 \t0.0 \t1.0 \t9.0 \t2.0 \t1.0 \t1.0 \t1.0 \t1.0 \t\n",
      "\n"
     ]
    }
   ],
   "source": [
    "mygame = game.minesweeper(14, 8, 25)\n",
    "\n",
    "\n",
    "for row in mygame.board:\n",
    "    for c in row:\n",
    "        print(c, \"\\t\", end=\"\")\n",
    "    print(\"\\n\")\n",
    "#mygame.clickCell((0,0))"
   ]
  },
  {
   "cell_type": "markdown",
   "metadata": {},
   "source": [
    "## Visualizing the Game\n",
    "\n",
    "The following is a rough gui for the game. Feel free to mess around; when you loose all of the cells will disable and you will be alerted. When you win you will be alerted. Note: If you want to start a new game you will have to run the cell above because you need to make a new object to start over"
   ]
  },
  {
   "cell_type": "code",
   "execution_count": 3,
   "metadata": {},
   "outputs": [
    {
     "data": {
      "application/vnd.jupyter.widget-view+json": {
       "model_id": "87db364e25014a7e986879d9bca6517b",
       "version_major": 2,
       "version_minor": 0
      },
      "text/plain": [
       "HBox(children=(Button(layout=Layout(height='30px', padding='0px', width='30px'), style=ButtonStyle(button_colo…"
      ]
     },
     "metadata": {},
     "output_type": "display_data"
    },
    {
     "data": {
      "application/vnd.jupyter.widget-view+json": {
       "model_id": "10666d9ebeb24af99037351393a9c1b6",
       "version_major": 2,
       "version_minor": 0
      },
      "text/plain": [
       "HBox(children=(Button(layout=Layout(height='30px', padding='0px', width='30px'), style=ButtonStyle(button_colo…"
      ]
     },
     "metadata": {},
     "output_type": "display_data"
    },
    {
     "data": {
      "application/vnd.jupyter.widget-view+json": {
       "model_id": "8750eb422df14dfdacc528eeb8fdf310",
       "version_major": 2,
       "version_minor": 0
      },
      "text/plain": [
       "HBox(children=(Button(layout=Layout(height='30px', padding='0px', width='30px'), style=ButtonStyle(button_colo…"
      ]
     },
     "metadata": {},
     "output_type": "display_data"
    },
    {
     "data": {
      "application/vnd.jupyter.widget-view+json": {
       "model_id": "58f2c2e1866343b9b5ebb262674306e2",
       "version_major": 2,
       "version_minor": 0
      },
      "text/plain": [
       "HBox(children=(Button(layout=Layout(height='30px', padding='0px', width='30px'), style=ButtonStyle(button_colo…"
      ]
     },
     "metadata": {},
     "output_type": "display_data"
    },
    {
     "data": {
      "application/vnd.jupyter.widget-view+json": {
       "model_id": "d4d90356a0d4448a8c451d90668c0967",
       "version_major": 2,
       "version_minor": 0
      },
      "text/plain": [
       "HBox(children=(Button(layout=Layout(height='30px', padding='0px', width='30px'), style=ButtonStyle(button_colo…"
      ]
     },
     "metadata": {},
     "output_type": "display_data"
    },
    {
     "data": {
      "application/vnd.jupyter.widget-view+json": {
       "model_id": "9bf62ba448434238a73b16e60c62db66",
       "version_major": 2,
       "version_minor": 0
      },
      "text/plain": [
       "HBox(children=(Button(layout=Layout(height='30px', padding='0px', width='30px'), style=ButtonStyle(button_colo…"
      ]
     },
     "metadata": {},
     "output_type": "display_data"
    },
    {
     "data": {
      "application/vnd.jupyter.widget-view+json": {
       "model_id": "d8c749225a1b4c4aa067fe426d950627",
       "version_major": 2,
       "version_minor": 0
      },
      "text/plain": [
       "HBox(children=(Button(layout=Layout(height='30px', padding='0px', width='30px'), style=ButtonStyle(button_colo…"
      ]
     },
     "metadata": {},
     "output_type": "display_data"
    },
    {
     "data": {
      "application/vnd.jupyter.widget-view+json": {
       "model_id": "ff373127821f4f078613b9825a64134f",
       "version_major": 2,
       "version_minor": 0
      },
      "text/plain": [
       "HBox(children=(Button(layout=Layout(height='30px', padding='0px', width='30px'), style=ButtonStyle(button_colo…"
      ]
     },
     "metadata": {},
     "output_type": "display_data"
    }
   ],
   "source": [
    "mygame.playOnNoteBook()"
   ]
  },
  {
   "cell_type": "markdown",
   "metadata": {},
   "source": [
    "## Neruel Network to Play Mine Sweeper (Classification Approach) \n",
    "\n",
    "We will attempt to play minesweeper by generating lots of games (which will be used as our data). \n",
    "\n",
    "Things that we'll need to do:\n",
    "\n",
    "Pad the game board with some element.\n",
    "This way we distiguish the edges of the game board (all of our data needs to have the same number of features) \n",
    "\n",
    "Represent \"unknown squares\" in our classification we will have some data that are \"completed games\" (the whole board is visible) and others where the game is 80% finished; 60%; 40% and 20%. (Our \"Solve Percent\" utility will help us with this)"
   ]
  },
  {
   "cell_type": "code",
   "execution_count": 4,
   "metadata": {},
   "outputs": [
    {
     "data": {
      "application/vnd.jupyter.widget-view+json": {
       "model_id": "54bf3b64279247239a70d3575a3378a7",
       "version_major": 2,
       "version_minor": 0
      },
      "text/plain": [
       "HBox(children=(Button(disabled=True, layout=Layout(height='30px', padding='0px', width='30px'), style=ButtonSt…"
      ]
     },
     "metadata": {},
     "output_type": "display_data"
    },
    {
     "data": {
      "application/vnd.jupyter.widget-view+json": {
       "model_id": "a35a86b3c6184c369d81411ddd445d0a",
       "version_major": 2,
       "version_minor": 0
      },
      "text/plain": [
       "HBox(children=(Button(disabled=True, layout=Layout(height='30px', padding='0px', width='30px'), style=ButtonSt…"
      ]
     },
     "metadata": {},
     "output_type": "display_data"
    },
    {
     "data": {
      "application/vnd.jupyter.widget-view+json": {
       "model_id": "268c1cbc28824064ac76ce940cfb1c61",
       "version_major": 2,
       "version_minor": 0
      },
      "text/plain": [
       "HBox(children=(Button(disabled=True, layout=Layout(height='30px', padding='0px', width='30px'), style=ButtonSt…"
      ]
     },
     "metadata": {},
     "output_type": "display_data"
    },
    {
     "data": {
      "application/vnd.jupyter.widget-view+json": {
       "model_id": "aaf09f9564c948dab70cac64e017751b",
       "version_major": 2,
       "version_minor": 0
      },
      "text/plain": [
       "HBox(children=(Button(description='1', disabled=True, layout=Layout(height='30px', padding='0px', width='30px'…"
      ]
     },
     "metadata": {},
     "output_type": "display_data"
    },
    {
     "data": {
      "application/vnd.jupyter.widget-view+json": {
       "model_id": "c118d453d1574dea8068662e35d36586",
       "version_major": 2,
       "version_minor": 0
      },
      "text/plain": [
       "HBox(children=(Button(layout=Layout(height='30px', padding='0px', width='30px'), style=ButtonStyle(button_colo…"
      ]
     },
     "metadata": {},
     "output_type": "display_data"
    },
    {
     "data": {
      "application/vnd.jupyter.widget-view+json": {
       "model_id": "f3c5f6505f0345ad969f0d79c24fda50",
       "version_major": 2,
       "version_minor": 0
      },
      "text/plain": [
       "HBox(children=(Button(layout=Layout(height='30px', padding='0px', width='30px'), style=ButtonStyle(button_colo…"
      ]
     },
     "metadata": {},
     "output_type": "display_data"
    },
    {
     "data": {
      "application/vnd.jupyter.widget-view+json": {
       "model_id": "d10cb79b5f9b4bfaa1ed29dcd61cafcf",
       "version_major": 2,
       "version_minor": 0
      },
      "text/plain": [
       "HBox(children=(Button(description='9', disabled=True, layout=Layout(height='30px', padding='0px', width='30px'…"
      ]
     },
     "metadata": {},
     "output_type": "display_data"
    },
    {
     "data": {
      "application/vnd.jupyter.widget-view+json": {
       "model_id": "75693362b8a448c0b777536fae781dbc",
       "version_major": 2,
       "version_minor": 0
      },
      "text/plain": [
       "HBox(children=(Button(layout=Layout(height='30px', padding='0px', width='30px'), style=ButtonStyle(button_colo…"
      ]
     },
     "metadata": {},
     "output_type": "display_data"
    }
   ],
   "source": [
    "mygame = game.minesweeper(14, 8, 25)\n",
    "mygame.solvePercent(.2)\n",
    "mygame.playOnNoteBook()"
   ]
  },
  {
   "cell_type": "code",
   "execution_count": 6,
   "metadata": {},
   "outputs": [],
   "source": [
    "theData = []\n",
    "N = 2 #N represents the number of surronding squares to get\n",
    "\n",
    "\n",
    "for p in [.8, .7, .6, .5, .4, .3, .2, .1]:\n",
    "    for i in range(1500):\n",
    "        bomb_ratio = random.uniform(.1, .25)\n",
    "        width = random.randint(8,16)\n",
    "        height = random.randint(8,16)\n",
    "        mygame = game.minesweeper(width, height, height*width*bomb_ratio)\n",
    "        mygame.solvePercent(p)\n",
    "        dataToAdd = np.pad(mygame.visible, (N), 'constant', constant_values=(-1))\n",
    "        dataToAdd = np.where(dataToAdd=='*', 0, dataToAdd)\n",
    "        theData.append(dataToAdd)\n",
    "        \n",
    "for i in range(1500):\n",
    "    mygame = game.minesweeper(16, 30, 99)\n",
    "    dataToAdd = np.pad(mygame.board, (N), 'constant', constant_values=(-1))\n",
    "    theData.append(dataToAdd.astype('<U3'))\n"
   ]
  },
  {
   "cell_type": "code",
   "execution_count": 10,
   "metadata": {},
   "outputs": [],
   "source": [
    "theRealData = []\n",
    "\n",
    "\n",
    "for data in theData:\n",
    "    innerData = data[N:-N, N:-N]\n",
    "    for index, x in np.ndenumerate(innerData):\n",
    "        toAppend = []\n",
    "        toAppend.append(x)\n",
    "        for i in range((2*N+1)**2):\n",
    "            if i != (((2*N+1)**2)//2):\n",
    "                a = i//(2*N+1)\n",
    "                b = i%(2*N+1)\n",
    "                toAppend.append(data[index[0] + a, index[1] + b])\n",
    "        theRealData.append(toAppend)"
   ]
  },
  {
   "cell_type": "markdown",
   "metadata": {},
   "source": [
    "(Comment this line out if you don't want to eliminate the unknown value prediction)"
   ]
  },
  {
   "cell_type": "code",
   "execution_count": 11,
   "metadata": {},
   "outputs": [
    {
     "ename": "MemoryError",
     "evalue": "",
     "output_type": "error",
     "traceback": [
      "\u001b[0;31m---------------------------------------------------------------------------\u001b[0m",
      "\u001b[0;31mMemoryError\u001b[0m                               Traceback (most recent call last)",
      "\u001b[0;32m<ipython-input-11-dea06485abce>\u001b[0m in \u001b[0;36m<module>\u001b[0;34m\u001b[0m\n\u001b[0;32m----> 1\u001b[0;31m \u001b[0mtheRealData\u001b[0m \u001b[0;34m=\u001b[0m \u001b[0mnp\u001b[0m\u001b[0;34m.\u001b[0m\u001b[0marray\u001b[0m\u001b[0;34m(\u001b[0m\u001b[0mtheRealData\u001b[0m\u001b[0;34m)\u001b[0m\u001b[0;34m\u001b[0m\u001b[0;34m\u001b[0m\u001b[0m\n\u001b[0m\u001b[1;32m      2\u001b[0m \u001b[0mtheRealData\u001b[0m \u001b[0;34m=\u001b[0m \u001b[0mtheRealData\u001b[0m\u001b[0;34m[\u001b[0m\u001b[0mtheRealData\u001b[0m\u001b[0;34m[\u001b[0m\u001b[0;34m:\u001b[0m\u001b[0;34m,\u001b[0m \u001b[0;36m0\u001b[0m\u001b[0;34m]\u001b[0m \u001b[0;34m!=\u001b[0m \u001b[0;34m'?'\u001b[0m\u001b[0;34m]\u001b[0m\u001b[0;34m\u001b[0m\u001b[0;34m\u001b[0m\u001b[0m\n",
      "\u001b[0;31mMemoryError\u001b[0m: "
     ]
    }
   ],
   "source": [
    "theRealData = np.array(theRealData)\n",
    "theRealData = theRealData[theRealData[:, 0] != '?']"
   ]
  },
  {
   "cell_type": "markdown",
   "metadata": {},
   "source": [
    "This next line will make it so that it's classifying not bomb (which is true) and bomb (false) -- so if a cell is a bomb it will give it a false value. Think of it as an \"okay to click\" classification."
   ]
  },
  {
   "cell_type": "code",
   "execution_count": null,
   "metadata": {},
   "outputs": [],
   "source": [
    "theRealData[:, 0] = ['1.0' if r else '0.0' for r in (theRealData[:, 0] != '9.0')]\n",
    "theRealData"
   ]
  },
  {
   "cell_type": "code",
   "execution_count": null,
   "metadata": {},
   "outputs": [],
   "source": [
    "theRealData = np.where(theRealData=='?', 10, theRealData)\n",
    "X, y = theRealData[:, 1:].astype(float).astype(str), theRealData[:, 0].astype(float).astype(str)\n",
    "\n",
    "enc = OneHotEncoder(handle_unknown='ignore')\n",
    "\n",
    "enc.fit(X)"
   ]
  },
  {
   "cell_type": "code",
   "execution_count": null,
   "metadata": {},
   "outputs": [],
   "source": [
    "#print([cat.shape for cat in enc.categories_])\n",
    "print(enc.categories_)\n",
    "X = enc.transform(X).toarray()"
   ]
  },
  {
   "cell_type": "code",
   "execution_count": null,
   "metadata": {},
   "outputs": [
    {
     "data": {
      "text/plain": [
       "(1754147, 264)"
      ]
     },
     "execution_count": 12,
     "metadata": {},
     "output_type": "execute_result"
    }
   ],
   "source": [
    "X.shape"
   ]
  },
  {
   "cell_type": "code",
   "execution_count": null,
   "metadata": {},
   "outputs": [
    {
     "data": {
      "text/plain": [
       "(1754147,)"
      ]
     },
     "execution_count": 13,
     "metadata": {},
     "output_type": "execute_result"
    }
   ],
   "source": [
    "y.shape"
   ]
  },
  {
   "cell_type": "code",
   "execution_count": null,
   "metadata": {},
   "outputs": [],
   "source": [
    "X_train, X_test, y_train, y_test = train_test_split(X, y, test_size=0.33, random_state=42)"
   ]
  },
  {
   "cell_type": "code",
   "execution_count": null,
   "metadata": {},
   "outputs": [
    {
     "data": {
      "text/plain": [
       "\"unique, counts = np.unique(y_train, return_counts=True)\\n#print(unique, counts)\\noneindes = np.where(y_train=='1.0')[0]\\nnp.random.shuffle(oneindes)\\nnewTrainIndies = np.append(oneindes[:counts[0]], np.where(y_train=='0.0')[0])\\n#np.unique(y_train[newTrainIndies], return_counts=True)\\ny_train = y_train[newTrainIndies]\\nX_train = X_train[newTrainIndies]\""
      ]
     },
     "execution_count": 15,
     "metadata": {},
     "output_type": "execute_result"
    }
   ],
   "source": [
    "\"\"\"unique, counts = np.unique(y_train, return_counts=True)\n",
    "#print(unique, counts)\n",
    "oneindes = np.where(y_train=='1.0')[0]\n",
    "np.random.shuffle(oneindes)\n",
    "newTrainIndies = np.append(oneindes[:counts[0]], np.where(y_train=='0.0')[0])\n",
    "#np.unique(y_train[newTrainIndies], return_counts=True)\n",
    "y_train = y_train[newTrainIndies]\n",
    "X_train = X_train[newTrainIndies]\"\"\""
   ]
  },
  {
   "cell_type": "markdown",
   "metadata": {},
   "source": [
    "The Hidden Layer \"24\" is inspired by the idea that each surrounding node has been one-hot-encoded into 12 features"
   ]
  },
  {
   "cell_type": "code",
   "execution_count": null,
   "metadata": {},
   "outputs": [],
   "source": [
    "clf = MLPClassifier(solver='adam', activation=\"tanh\", alpha=1e-5, hidden_layer_sizes=(100, 100), verbose=True)"
   ]
  },
  {
   "cell_type": "code",
   "execution_count": null,
   "metadata": {},
   "outputs": [
    {
     "name": "stdout",
     "output_type": "stream",
     "text": [
      "Iteration 1, loss = 0.07617874\n",
      "Iteration 2, loss = 0.04858983\n",
      "Iteration 3, loss = 0.04465398\n",
      "Iteration 4, loss = 0.04235168\n",
      "Iteration 5, loss = 0.04081377\n",
      "Iteration 6, loss = 0.03954967\n",
      "Iteration 7, loss = 0.03855964\n",
      "Iteration 8, loss = 0.03761411\n",
      "Iteration 9, loss = 0.03667858\n",
      "Iteration 10, loss = 0.03594042\n",
      "Iteration 11, loss = 0.03516730\n",
      "Iteration 12, loss = 0.03449253\n",
      "Iteration 13, loss = 0.03379877\n",
      "Iteration 14, loss = 0.03324135\n",
      "Iteration 15, loss = 0.03255773\n",
      "Iteration 16, loss = 0.03213016\n",
      "Iteration 17, loss = 0.03150006\n",
      "Iteration 18, loss = 0.03102578\n",
      "Iteration 19, loss = 0.03055755\n",
      "Iteration 20, loss = 0.03004622\n",
      "Iteration 21, loss = 0.02961723\n",
      "Iteration 22, loss = 0.02915911\n",
      "Iteration 23, loss = 0.02880253\n",
      "Iteration 24, loss = 0.02833926\n",
      "Iteration 25, loss = 0.02802860\n",
      "Iteration 26, loss = 0.02767822\n",
      "Iteration 27, loss = 0.02718538\n",
      "Iteration 28, loss = 0.02692918\n",
      "Iteration 29, loss = 0.02655132\n",
      "Iteration 30, loss = 0.02635415\n",
      "Iteration 31, loss = 0.02591840\n",
      "Iteration 32, loss = 0.02562469\n",
      "Iteration 33, loss = 0.02532893\n",
      "Iteration 34, loss = 0.02511600\n",
      "Iteration 35, loss = 0.02478903\n",
      "Iteration 36, loss = 0.02451320\n",
      "Iteration 37, loss = 0.02435214\n",
      "Iteration 38, loss = 0.02399052\n",
      "Iteration 39, loss = 0.02375327\n",
      "Iteration 40, loss = 0.02359986\n",
      "Iteration 41, loss = 0.02320096\n",
      "Iteration 42, loss = 0.02310842\n",
      "Iteration 43, loss = 0.02277034\n",
      "Iteration 44, loss = 0.02269344\n",
      "Iteration 45, loss = 0.02247425\n",
      "Iteration 46, loss = 0.02220226\n",
      "Iteration 47, loss = 0.02204346\n",
      "Iteration 48, loss = 0.02181565\n",
      "Iteration 49, loss = 0.02169137\n",
      "Iteration 50, loss = 0.02151695\n",
      "Iteration 51, loss = 0.02133861\n",
      "Iteration 52, loss = 0.02117715\n",
      "Iteration 53, loss = 0.02091061\n",
      "Iteration 54, loss = 0.02083949\n",
      "Iteration 55, loss = 0.02068098\n",
      "Iteration 56, loss = 0.02066039\n",
      "Iteration 57, loss = 0.02052114\n",
      "Iteration 58, loss = 0.02027563\n",
      "Iteration 59, loss = 0.02014205\n",
      "Iteration 60, loss = 0.02008086\n",
      "Iteration 61, loss = 0.01981536\n",
      "Iteration 62, loss = 0.01978712\n",
      "Iteration 63, loss = 0.01977860\n",
      "Iteration 64, loss = 0.01944413\n",
      "Iteration 65, loss = 0.01948240\n",
      "Iteration 66, loss = 0.01922236\n",
      "Iteration 67, loss = 0.01926753\n",
      "Iteration 68, loss = 0.01902158\n",
      "Iteration 69, loss = 0.01899447\n",
      "Iteration 70, loss = 0.01889329\n",
      "Iteration 71, loss = 0.01877400\n",
      "Iteration 72, loss = 0.01862321\n",
      "Iteration 73, loss = 0.01862305\n",
      "Iteration 74, loss = 0.01851112\n",
      "Iteration 75, loss = 0.01840396\n",
      "Iteration 76, loss = 0.01824529\n",
      "Iteration 77, loss = 0.01834753\n",
      "Iteration 78, loss = 0.01810979\n",
      "Iteration 79, loss = 0.01808859\n",
      "Iteration 80, loss = 0.01802109\n",
      "Iteration 81, loss = 0.01783005\n",
      "Iteration 82, loss = 0.01790850\n",
      "Iteration 83, loss = 0.01773837\n",
      "Iteration 84, loss = 0.01771071\n",
      "Iteration 85, loss = 0.01768672\n",
      "Iteration 86, loss = 0.01749539\n",
      "Iteration 87, loss = 0.01750869\n",
      "Iteration 88, loss = 0.01738442\n",
      "Iteration 89, loss = 0.01740289\n",
      "Iteration 90, loss = 0.01719722\n",
      "Iteration 91, loss = 0.01718114\n",
      "Iteration 92, loss = 0.01724247\n",
      "Iteration 93, loss = 0.01709807\n",
      "Iteration 94, loss = 0.01706092\n"
     ]
    }
   ],
   "source": [
    "clf.fit(X_train, y_train)\n",
    "\n",
    "y_pred = clf.predict(X_test)\n",
    "\n",
    "print(accuracy_score(y_test, y_pred))\n",
    "print(confusion_matrix(y_test, y_pred))"
   ]
  },
  {
   "cell_type": "code",
   "execution_count": null,
   "metadata": {},
   "outputs": [],
   "source": [
    "clf.predict_proba(X_test[0].reshape(1, -1))[0][1]"
   ]
  },
  {
   "cell_type": "markdown",
   "metadata": {},
   "source": [
    "# The AI that Plays Mine Sweeper"
   ]
  },
  {
   "cell_type": "code",
   "execution_count": null,
   "metadata": {},
   "outputs": [],
   "source": []
  },
  {
   "cell_type": "code",
   "execution_count": null,
   "metadata": {},
   "outputs": [],
   "source": [
    "class getBoundry:\n",
    "    def __init__(self):\n",
    "        self.visited = []\n",
    "        self.toReturn = []\n",
    "        self.perim = []\n",
    "    def getBoundry(self, gameObj, index):\n",
    "        if gameObj.visible[index[0]][index[1]] !=\"?\" and index not in self.visited:\n",
    "            self.visited.append(index)\n",
    "            self.toReturn.append(index)\n",
    "            for i in [self.getBoundry(gameObj, i) for i in gameObj.getSurroundingSquares(index)]:\n",
    "                gameObj.getSurroundingSquares(index)\n",
    "        elif index not in self.visited and (index[0] <= gameObj.width and index[1] <= gameObj.height):\n",
    "            self.visited.append(index)\n",
    "            self.toReturn.append(index)\n",
    "            self.perim.append(index)\n",
    "            for j in gameObj.getSurroundingSquares(index):\n",
    "                if j not in self.toReturn:\n",
    "                    self.perim.append(j)\n",
    "        return self.toReturn\n",
    "\n",
    "    \n",
    "class AIPlayer():\n",
    "    def __init__(self, mygame, watch=False, initClick=(1,1), bombGuessTol = .85, wait=False):\n",
    "        if watch:\n",
    "            mygame.playOnNoteBook()\n",
    "\n",
    "        #Our algorithm selects (0,0) first every time any way -- input is all the same on all unknown...\n",
    "        #To test if there is a better place than this think about classifying better starting points... Differn't shapes...\n",
    "\n",
    "        if watch:\n",
    "            mygame.gameboard[initClick[0]][initClick[1]].click()\n",
    "        else:\n",
    "            mygame.clickCell(initClick)\n",
    "\n",
    "        data = np.array(mygame.visible).astype('<U3')\n",
    "        data = np.pad(data, (N), 'constant', constant_values=(-1))\n",
    "        self.data = np.where(data=='*', 0, data)\n",
    "        innerData = data[N:-N, N:-N]\n",
    "\n",
    "        while (\"?\" in \" \".join([\" \".join(map(str, row)) for row in mygame.visible]) and not wait):\n",
    "            curbest = 0\n",
    "            bestindex = (0, 0)\n",
    "            data = np.array(mygame.visible).astype('<U3')\n",
    "            data = np.pad(data, (N), 'constant', constant_values=(-1))\n",
    "            self.data = np.where(data=='*', 0, data)\n",
    "            boundObject = getBoundry()\n",
    "            boundObject.getBoundry(mygame, initClick)\n",
    "            boundry = list(filter(lambda x: mygame.visible[x[0]][x[1]]==\"?\", sorted(list(set(boundObject.perim)))))\n",
    "            proba = self.getProba(boundry)\n",
    "            bestindex = boundry[np.argmax(proba[:, 1])]\n",
    "            for bombGuess in np.where(proba[:,0] > bombGuessTol)[0]:\n",
    "                bombGuessIndex = boundry[bombGuess]\n",
    "                mygame.flag(bombGuessIndex)\n",
    "                if watch:\n",
    "                    mygame.gameboard[bombGuessIndex[0]][bombGuessIndex[1]].description = \"9.0\"\n",
    "            if watch:\n",
    "                mygame.gameboard[bestindex[0]][bestindex[1]].click()\n",
    "            else:\n",
    "                mygame.clickCell(bestindex)\n",
    "                \n",
    "    def getProba(self, boundry):\n",
    "        toReturn = []\n",
    "        for index in boundry:\n",
    "            toAppend = []\n",
    "            for i in range((2*N+1)**2):\n",
    "                if i != (((2*N+1)**2)//2):\n",
    "                    a = i//(2*N+1)\n",
    "                    b = i%(2*N+1)\n",
    "                    toAppend.append(self.data[index[0] + a, index[1] + b])\n",
    "            toReturn.append(toAppend)\n",
    "        toReturn = np.array(toReturn)\n",
    "        toReturn = np.where(toReturn=='?', 10, toReturn)\n",
    "        toReturn = toReturn.astype(float).astype(str)\n",
    "        #toReturn = toReturn.reshape(1,-1)\n",
    "        toReturn = enc.transform(toReturn).toarray()\n",
    "        return clf.predict_proba(toReturn)\n",
    "\n",
    "        "
   ]
  },
  {
   "cell_type": "code",
   "execution_count": null,
   "metadata": {},
   "outputs": [],
   "source": [
    "wins = 0\n",
    "loses = 0\n",
    "gamesToPlay = 1000\n",
    "\n",
    "f = IntProgress(min=0, max=gamesToPlay) # instantiate the bar\n",
    "display(f) # display the bar\n",
    "lossGames = []\n",
    "\n",
    "for _ in range(gamesToPlay):\n",
    "    f.value += 1\n",
    "    mygame = game.minesweeper(9, 9, 10, record=True)\n",
    "    AIPlayer(mygame, bombGuessTol=.9)\n",
    "    if mygame.visible == \"You have lost\":\n",
    "        loses += 1\n",
    "        lossGames.append(mygame)\n",
    "    else:\n",
    "        wins += 1\n",
    "\n",
    "print(\"The AI won {} times and lose {} times\".format(wins, loses))        \n",
    "    \n",
    "#print(mygame.visible)"
   ]
  },
  {
   "cell_type": "code",
   "execution_count": null,
   "metadata": {},
   "outputs": [],
   "source": [
    "print(sorted(lossGames[1].gameRecord.items()))"
   ]
  },
  {
   "cell_type": "code",
   "execution_count": null,
   "metadata": {},
   "outputs": [],
   "source": [
    "lossGames[1].seeRecordOnNotebook()"
   ]
  },
  {
   "cell_type": "code",
   "execution_count": null,
   "metadata": {},
   "outputs": [],
   "source": [
    "lossGames[0].visible"
   ]
  },
  {
   "cell_type": "code",
   "execution_count": null,
   "metadata": {},
   "outputs": [],
   "source": [
    "lossGames[0].board"
   ]
  },
  {
   "cell_type": "code",
   "execution_count": null,
   "metadata": {},
   "outputs": [],
   "source": [
    "boundObject = getBoundry()\n",
    "boundObject.getBoundry(lossGames[0], (1,1))\n",
    "boundry = list(filter(lambda x: lossGames[0].visible[x[0]][x[1]]==\"?\", sorted(list(set(boundObject.perim))))) + [(5,4)]\n",
    "\n",
    "myAI = AIPlayer(lossGames[0], watch=True, wait=True)"
   ]
  },
  {
   "cell_type": "code",
   "execution_count": null,
   "metadata": {},
   "outputs": [],
   "source": [
    "for i, proba in enumerate(myAI.getProba(boundry)):\n",
    "    print(boundry[i], proba)\n",
    "\n",
    "#mygame = game.minesweeper(30, 16, 99, record=True)\n",
    "#AIPlayer(mygame, watch=True)"
   ]
  },
  {
   "cell_type": "code",
   "execution_count": null,
   "metadata": {},
   "outputs": [],
   "source": [
    "myAI = AIPlayer(lossGames[1], watch=True)"
   ]
  },
  {
   "cell_type": "code",
   "execution_count": null,
   "metadata": {},
   "outputs": [],
   "source": []
  },
  {
   "cell_type": "code",
   "execution_count": null,
   "metadata": {},
   "outputs": [],
   "source": [
    "boundry"
   ]
  },
  {
   "cell_type": "markdown",
   "metadata": {},
   "source": [
    "# Idea's to Improve:\n",
    "### Mess with Hyper Params\n",
    "### Mess with the solve function (make exact percentages etc)\n",
    "### Mess with what we are classifying (We just want to know if something is a bomb or not...\n",
    "### More Data surronding each point\n",
    "### All unique Data"
   ]
  },
  {
   "cell_type": "markdown",
   "metadata": {},
   "source": [
    "## Oberservations\n",
    "Just because a classifier is good doesn't make it good for the game"
   ]
  },
  {
   "cell_type": "markdown",
   "metadata": {},
   "source": [
    "# Messing with Hyper Params"
   ]
  },
  {
   "cell_type": "code",
   "execution_count": null,
   "metadata": {},
   "outputs": [],
   "source": [
    "#clf2 = MLPClassifier(solver='lbfgs', alpha=1e-5, random_state=1)\n",
    "\n",
    "#clf2.fit(X_train, y_train)\n",
    "\n",
    "#y_pred = clf2.predict(X_test)\n",
    "\n",
    "#print(accuracy_score(y_test, y_pred))"
   ]
  },
  {
   "cell_type": "code",
   "execution_count": null,
   "metadata": {},
   "outputs": [],
   "source": [
    "# This one is inspired by the one hot incoding (Each feature was split into 11 parts)\n",
    "#clf3 = MLPClassifier(solver='lbfgs', alpha=1e-5, hidden_layer_sizes=(11), random_state=1)\n",
    "\n",
    "#clf3.fit(X_train, y_train)\n",
    "\n",
    "#y_pred = clf3.predict(X_test)\n",
    "\n",
    "#print(accuracy_score(y_test, y_pred))"
   ]
  },
  {
   "cell_type": "code",
   "execution_count": null,
   "metadata": {},
   "outputs": [],
   "source": [
    "#import pickle\n",
    "\n",
    "#filename = 'clf1.sav'\n",
    "#pickle.dump(clf, open(filename, 'wb'))\n",
    "\n",
    "#filename = 'clf2.sav'\n",
    "#pickle.dump(clf2, open(filename, 'wb'))\n",
    "\n",
    "#filename = 'clf3.sav'\n",
    "#pickle.dump(clf3, open(filename, 'wb'))"
   ]
  },
  {
   "cell_type": "code",
   "execution_count": null,
   "metadata": {},
   "outputs": [],
   "source": [
    "#clf3 = MLPClassifier(solver='lbfgs', alpha=1e-5, hidden_layer_sizes=(8, 3), random_state=1)\n",
    "\n",
    "#clf3.fit(X_train, y_train)\n",
    "\n",
    "#y_pred = clf3.predict(X_test)\n",
    "\n",
    "#print(accuracy_score(y_test, y_pred))"
   ]
  },
  {
   "cell_type": "code",
   "execution_count": null,
   "metadata": {},
   "outputs": [],
   "source": [
    "#filename = 'clf3.sav'\n",
    "#pickle.dump(clf3, open(filename, 'wb'))"
   ]
  },
  {
   "cell_type": "markdown",
   "metadata": {},
   "source": [
    "# Messing with what we are classifying"
   ]
  },
  {
   "cell_type": "code",
   "execution_count": null,
   "metadata": {},
   "outputs": [],
   "source": [
    "np.unique(y.shape)"
   ]
  },
  {
   "cell_type": "code",
   "execution_count": null,
   "metadata": {},
   "outputs": [],
   "source": []
  }
 ],
 "metadata": {
  "kernelspec": {
   "display_name": "Python 3",
   "language": "python",
   "name": "python3"
  },
  "language_info": {
   "codemirror_mode": {
    "name": "ipython",
    "version": 3
   },
   "file_extension": ".py",
   "mimetype": "text/x-python",
   "name": "python",
   "nbconvert_exporter": "python",
   "pygments_lexer": "ipython3",
   "version": "3.7.3"
  }
 },
 "nbformat": 4,
 "nbformat_minor": 1
}
