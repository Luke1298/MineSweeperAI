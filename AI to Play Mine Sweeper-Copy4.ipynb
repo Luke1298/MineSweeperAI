{
 "cells": [
  {
   "cell_type": "markdown",
   "metadata": {},
   "source": [
    "# AI To Play Mine Sweeper"
   ]
  },
  {
   "cell_type": "markdown",
   "metadata": {},
   "source": [
    "## The Game Object\n",
    "\n",
    "I developed the pythonic minesweeper. It is unit tested fairly throughly; up until visualizations and tracking features of the project present themselves. Note: The 9's are bombs; because it is impossible for a cell to be sourounded by more Bombs then there are cells surronding it."
   ]
  },
  {
   "cell_type": "code",
   "execution_count": 1,
   "metadata": {},
   "outputs": [],
   "source": [
    "import game\n",
    "import numpy as np\n",
    "from sklearn.neural_network import MLPClassifier\n",
    "from sklearn.model_selection import train_test_split\n",
    "from sklearn.metrics import accuracy_score, confusion_matrix\n",
    "from sklearn.preprocessing import OneHotEncoder\n",
    "from sklearn.ensemble import RandomForestClassifier, VotingClassifier\n",
    "from sklearn.naive_bayes import GaussianNB\n",
    "from ipywidgets import IntProgress\n",
    "from IPython.display import display\n",
    "import random"
   ]
  },
  {
   "cell_type": "code",
   "execution_count": 2,
   "metadata": {},
   "outputs": [
    {
     "data": {
      "text/plain": [
       "<module 'game' from '/home/lukenelson/dev/MineSweeperAI/game.py'>"
      ]
     },
     "execution_count": 2,
     "metadata": {},
     "output_type": "execute_result"
    }
   ],
   "source": [
    "from importlib import reload\n",
    "\n",
    "reload(game)"
   ]
  },
  {
   "cell_type": "code",
   "execution_count": 3,
   "metadata": {},
   "outputs": [
    {
     "name": "stdout",
     "output_type": "stream",
     "text": [
      "1.0 \t1.0 \t0.0 \t0.0 \t0.0 \t0.0 \t0.0 \t1.0 \t1.0 \t1.0 \t1.0 \t1.0 \t1.0 \t0.0 \t\n",
      "\n",
      "9.0 \t3.0 \t2.0 \t1.0 \t1.0 \t0.0 \t0.0 \t1.0 \t9.0 \t2.0 \t2.0 \t9.0 \t1.0 \t0.0 \t\n",
      "\n",
      "9.0 \t9.0 \t3.0 \t9.0 \t1.0 \t0.0 \t0.0 \t1.0 \t1.0 \t3.0 \t9.0 \t4.0 \t3.0 \t2.0 \t\n",
      "\n",
      "4.0 \t5.0 \t9.0 \t2.0 \t1.0 \t0.0 \t0.0 \t0.0 \t1.0 \t3.0 \t9.0 \t3.0 \t9.0 \t9.0 \t\n",
      "\n",
      "9.0 \t9.0 \t4.0 \t4.0 \t2.0 \t1.0 \t1.0 \t1.0 \t2.0 \t9.0 \t2.0 \t2.0 \t3.0 \t3.0 \t\n",
      "\n",
      "4.0 \t5.0 \t9.0 \t9.0 \t9.0 \t1.0 \t1.0 \t9.0 \t3.0 \t2.0 \t1.0 \t0.0 \t2.0 \t9.0 \t\n",
      "\n",
      "9.0 \t9.0 \t5.0 \t5.0 \t3.0 \t1.0 \t1.0 \t2.0 \t9.0 \t1.0 \t0.0 \t0.0 \t2.0 \t9.0 \t\n",
      "\n",
      "2.0 \t3.0 \t9.0 \t9.0 \t1.0 \t0.0 \t0.0 \t1.0 \t1.0 \t1.0 \t0.0 \t0.0 \t1.0 \t1.0 \t\n",
      "\n"
     ]
    }
   ],
   "source": [
    "mygame = game.minesweeper(14, 8, 25)\n",
    "\n",
    "\n",
    "for row in mygame.board:\n",
    "    for c in row:\n",
    "        print(c, \"\\t\", end=\"\")\n",
    "    print(\"\\n\")\n",
    "#mygame.clickCell((0,0))"
   ]
  },
  {
   "cell_type": "markdown",
   "metadata": {},
   "source": [
    "## Visualizing the Game\n",
    "\n",
    "The following is a rough gui for the game. Feel free to mess around; when you loose all of the cells will disable and you will be alerted. When you win you will be alerted. Note: If you want to start a new game you will have to run the cell above because you need to make a new object to start over"
   ]
  },
  {
   "cell_type": "code",
   "execution_count": 4,
   "metadata": {},
   "outputs": [
    {
     "data": {
      "application/vnd.jupyter.widget-view+json": {
       "model_id": "62f91a3d1e6b4872935002ec67216a3c",
       "version_major": 2,
       "version_minor": 0
      },
      "text/plain": [
       "HBox(children=(Button(layout=Layout(height='30px', padding='0px', width='30px'), style=ButtonStyle(button_colo…"
      ]
     },
     "metadata": {},
     "output_type": "display_data"
    },
    {
     "data": {
      "application/vnd.jupyter.widget-view+json": {
       "model_id": "4115cad471604b4d947ee7bffbc57018",
       "version_major": 2,
       "version_minor": 0
      },
      "text/plain": [
       "HBox(children=(Button(layout=Layout(height='30px', padding='0px', width='30px'), style=ButtonStyle(button_colo…"
      ]
     },
     "metadata": {},
     "output_type": "display_data"
    },
    {
     "data": {
      "application/vnd.jupyter.widget-view+json": {
       "model_id": "dfc79ab996b24c7c950d8c5996b5d1f1",
       "version_major": 2,
       "version_minor": 0
      },
      "text/plain": [
       "HBox(children=(Button(layout=Layout(height='30px', padding='0px', width='30px'), style=ButtonStyle(button_colo…"
      ]
     },
     "metadata": {},
     "output_type": "display_data"
    },
    {
     "data": {
      "application/vnd.jupyter.widget-view+json": {
       "model_id": "f0a1a8327a29459e962f6967b88b1214",
       "version_major": 2,
       "version_minor": 0
      },
      "text/plain": [
       "HBox(children=(Button(layout=Layout(height='30px', padding='0px', width='30px'), style=ButtonStyle(button_colo…"
      ]
     },
     "metadata": {},
     "output_type": "display_data"
    },
    {
     "data": {
      "application/vnd.jupyter.widget-view+json": {
       "model_id": "6f1cd8961bda4791a2a944dd491db1ef",
       "version_major": 2,
       "version_minor": 0
      },
      "text/plain": [
       "HBox(children=(Button(layout=Layout(height='30px', padding='0px', width='30px'), style=ButtonStyle(button_colo…"
      ]
     },
     "metadata": {},
     "output_type": "display_data"
    },
    {
     "data": {
      "application/vnd.jupyter.widget-view+json": {
       "model_id": "35126c55d6fd471b8d0b17725788d0e5",
       "version_major": 2,
       "version_minor": 0
      },
      "text/plain": [
       "HBox(children=(Button(layout=Layout(height='30px', padding='0px', width='30px'), style=ButtonStyle(button_colo…"
      ]
     },
     "metadata": {},
     "output_type": "display_data"
    },
    {
     "data": {
      "application/vnd.jupyter.widget-view+json": {
       "model_id": "834e25d710f4486eb6f97740eb4f5026",
       "version_major": 2,
       "version_minor": 0
      },
      "text/plain": [
       "HBox(children=(Button(layout=Layout(height='30px', padding='0px', width='30px'), style=ButtonStyle(button_colo…"
      ]
     },
     "metadata": {},
     "output_type": "display_data"
    },
    {
     "data": {
      "application/vnd.jupyter.widget-view+json": {
       "model_id": "551227c050c34efb81891c0bfda28648",
       "version_major": 2,
       "version_minor": 0
      },
      "text/plain": [
       "HBox(children=(Button(layout=Layout(height='30px', padding='0px', width='30px'), style=ButtonStyle(button_colo…"
      ]
     },
     "metadata": {},
     "output_type": "display_data"
    }
   ],
   "source": [
    "mygame.playOnNoteBook()"
   ]
  },
  {
   "cell_type": "markdown",
   "metadata": {},
   "source": [
    "## Neruel Network to Play Mine Sweeper (Classification Approach) \n",
    "\n",
    "We will attempt to play minesweeper by generating lots of games (which will be used as our data). \n",
    "\n",
    "Things that we'll need to do:\n",
    "\n",
    "Pad the game board with some element.\n",
    "This way we distiguish the edges of the game board (all of our data needs to have the same number of features) \n",
    "\n",
    "Represent \"unknown squares\" in our classification we will have some data that are \"completed games\" (the whole board is visible) and others where the game is 80% finished; 60%; 40% and 20%. (Our \"Solve Percent\" utility will help us with this)"
   ]
  },
  {
   "cell_type": "code",
   "execution_count": 5,
   "metadata": {},
   "outputs": [
    {
     "data": {
      "application/vnd.jupyter.widget-view+json": {
       "model_id": "3e97481b8ca84292a15c4163d0fc6ad1",
       "version_major": 2,
       "version_minor": 0
      },
      "text/plain": [
       "HBox(children=(Button(description='1', disabled=True, layout=Layout(height='30px', padding='0px', width='30px'…"
      ]
     },
     "metadata": {},
     "output_type": "display_data"
    },
    {
     "data": {
      "application/vnd.jupyter.widget-view+json": {
       "model_id": "fd5bc345cff3493fbd71659fc37f2a73",
       "version_major": 2,
       "version_minor": 0
      },
      "text/plain": [
       "HBox(children=(Button(description='1', disabled=True, layout=Layout(height='30px', padding='0px', width='30px'…"
      ]
     },
     "metadata": {},
     "output_type": "display_data"
    },
    {
     "data": {
      "application/vnd.jupyter.widget-view+json": {
       "model_id": "acd493c4c9c448708c006f503210c501",
       "version_major": 2,
       "version_minor": 0
      },
      "text/plain": [
       "HBox(children=(Button(description='3', disabled=True, layout=Layout(height='30px', padding='0px', width='30px'…"
      ]
     },
     "metadata": {},
     "output_type": "display_data"
    },
    {
     "data": {
      "application/vnd.jupyter.widget-view+json": {
       "model_id": "67292d25120c4da596037538af845762",
       "version_major": 2,
       "version_minor": 0
      },
      "text/plain": [
       "HBox(children=(Button(description='9', disabled=True, layout=Layout(height='30px', padding='0px', width='30px'…"
      ]
     },
     "metadata": {},
     "output_type": "display_data"
    },
    {
     "data": {
      "application/vnd.jupyter.widget-view+json": {
       "model_id": "2c9902c14293421b9f055f17042b3feb",
       "version_major": 2,
       "version_minor": 0
      },
      "text/plain": [
       "HBox(children=(Button(description='3', disabled=True, layout=Layout(height='30px', padding='0px', width='30px'…"
      ]
     },
     "metadata": {},
     "output_type": "display_data"
    },
    {
     "data": {
      "application/vnd.jupyter.widget-view+json": {
       "model_id": "82bca9026b7a46dc8699a77a4c1a80f1",
       "version_major": 2,
       "version_minor": 0
      },
      "text/plain": [
       "HBox(children=(Button(description='1', disabled=True, layout=Layout(height='30px', padding='0px', width='30px'…"
      ]
     },
     "metadata": {},
     "output_type": "display_data"
    },
    {
     "data": {
      "application/vnd.jupyter.widget-view+json": {
       "model_id": "fcaa68aac3004220accd705792922786",
       "version_major": 2,
       "version_minor": 0
      },
      "text/plain": [
       "HBox(children=(Button(disabled=True, layout=Layout(height='30px', padding='0px', width='30px'), style=ButtonSt…"
      ]
     },
     "metadata": {},
     "output_type": "display_data"
    },
    {
     "data": {
      "application/vnd.jupyter.widget-view+json": {
       "model_id": "968a768772b64ea0a2163132a8f78f6f",
       "version_major": 2,
       "version_minor": 0
      },
      "text/plain": [
       "HBox(children=(Button(disabled=True, layout=Layout(height='30px', padding='0px', width='30px'), style=ButtonSt…"
      ]
     },
     "metadata": {},
     "output_type": "display_data"
    }
   ],
   "source": [
    "mygame = game.minesweeper(14, 8, 25)\n",
    "mygame.solvePercent(.2)\n",
    "mygame.playOnNoteBook()"
   ]
  },
  {
   "cell_type": "code",
   "execution_count": 6,
   "metadata": {},
   "outputs": [],
   "source": [
    "theData = []\n",
    "N = 2 #N represents the number of surronding squares to get\n",
    "\n",
    "\n",
    "for p in [.8, .7, .6, .5, .4, .3, .2, .1]:\n",
    "    for i in range(1500):\n",
    "        bomb_ratio = random.uniform(.1, .25)\n",
    "        width = random.randint(8,16)\n",
    "        height = random.randint(8,16)\n",
    "        mygame = game.minesweeper(width, height, height*width*bomb_ratio)\n",
    "        mygame.solvePercent(p)\n",
    "        dataToAdd = np.pad(mygame.visible, (N), 'constant', constant_values=(-1))\n",
    "        dataToAdd = np.where(dataToAdd=='*', 0, dataToAdd)\n",
    "        theData.append(dataToAdd)\n",
    "        \n",
    "for i in range(1500):\n",
    "    mygame = game.minesweeper(16, 30, 99)\n",
    "    dataToAdd = np.pad(mygame.board, (N), 'constant', constant_values=(-1))\n",
    "    theData.append(dataToAdd.astype('<U3'))\n"
   ]
  },
  {
   "cell_type": "code",
   "execution_count": 7,
   "metadata": {},
   "outputs": [],
   "source": [
    "theRealData = []\n",
    "\n",
    "\n",
    "for data in theData:\n",
    "    innerData = data[N:-N, N:-N]\n",
    "    for index, x in np.ndenumerate(innerData):\n",
    "        toAppend = []\n",
    "        toAppend.append(x)\n",
    "        for i in range((2*N+1)**2):\n",
    "            if i != (((2*N+1)**2)//2):\n",
    "                a = i//(2*N+1)\n",
    "                b = i%(2*N+1)\n",
    "                toAppend.append(data[index[0] + a, index[1] + b])\n",
    "        theRealData.append(toAppend)"
   ]
  },
  {
   "cell_type": "markdown",
   "metadata": {},
   "source": [
    "(Comment this line out if you don't want to eliminate the unknown value prediction)"
   ]
  },
  {
   "cell_type": "code",
   "execution_count": 8,
   "metadata": {},
   "outputs": [],
   "source": [
    "theRealData = np.array(theRealData)\n",
    "theRealData = theRealData[theRealData[:, 0] != '?']"
   ]
  },
  {
   "cell_type": "markdown",
   "metadata": {},
   "source": [
    "This next line will make it so that it's classifying not bomb (which is true) and bomb (false) -- so if a cell is a bomb it will give it a false value. Think of it as an \"okay to click\" classification."
   ]
  },
  {
   "cell_type": "code",
   "execution_count": 9,
   "metadata": {},
   "outputs": [
    {
     "data": {
      "text/plain": [
       "array([['1.0', '?', '?', ..., '0', '0', '0'],\n",
       "       ['1.0', '?', '?', ..., '0', '0', '0'],\n",
       "       ['1.0', '?', '?', ..., '0', '0', '0'],\n",
       "       ...,\n",
       "       ['0.0', '4.0', '3.0', ..., '-1.', '-1.', '-1.'],\n",
       "       ['1.0', '3.0', '2.0', ..., '-1.', '-1.', '-1.'],\n",
       "       ['0.0', '2.0', '0.0', ..., '-1.', '-1.', '-1.']], dtype='<U3')"
      ]
     },
     "execution_count": 9,
     "metadata": {},
     "output_type": "execute_result"
    }
   ],
   "source": [
    "theRealData[:, 0] = ['1.0' if r else '0.0' for r in (theRealData[:, 0] != '9.0')]\n",
    "theRealData"
   ]
  },
  {
   "cell_type": "code",
   "execution_count": 10,
   "metadata": {},
   "outputs": [
    {
     "data": {
      "text/plain": [
       "OneHotEncoder(categorical_features=None, categories=None,\n",
       "       dtype=<class 'numpy.float64'>, handle_unknown='ignore',\n",
       "       n_values=None, sparse=True)"
      ]
     },
     "execution_count": 10,
     "metadata": {},
     "output_type": "execute_result"
    }
   ],
   "source": [
    "theRealData = np.where(theRealData=='?', 10, theRealData)\n",
    "X, y = theRealData[:, 1:].astype(float).astype(str), theRealData[:, 0].astype(float).astype(str)\n",
    "\n",
    "enc = OneHotEncoder(handle_unknown='ignore')\n",
    "\n",
    "enc.fit(X)"
   ]
  },
  {
   "cell_type": "code",
   "execution_count": 11,
   "metadata": {},
   "outputs": [
    {
     "name": "stdout",
     "output_type": "stream",
     "text": [
      "[array(['-1.0', '0.0', '1.0', '10.0', '2.0', '3.0', '4.0', '5.0', '6.0',\n",
      "       '7.0', '9.0'], dtype='<U32'), array(['-1.0', '0.0', '1.0', '10.0', '2.0', '3.0', '4.0', '5.0', '6.0',\n",
      "       '7.0', '9.0'], dtype='<U32'), array(['-1.0', '0.0', '1.0', '10.0', '2.0', '3.0', '4.0', '5.0', '6.0',\n",
      "       '7.0', '9.0'], dtype='<U32'), array(['-1.0', '0.0', '1.0', '10.0', '2.0', '3.0', '4.0', '5.0', '6.0',\n",
      "       '7.0', '9.0'], dtype='<U32'), array(['-1.0', '0.0', '1.0', '10.0', '2.0', '3.0', '4.0', '5.0', '6.0',\n",
      "       '7.0', '9.0'], dtype='<U32'), array(['-1.0', '0.0', '1.0', '10.0', '2.0', '3.0', '4.0', '5.0', '6.0',\n",
      "       '7.0', '9.0'], dtype='<U32'), array(['-1.0', '0.0', '1.0', '10.0', '2.0', '3.0', '4.0', '5.0', '6.0',\n",
      "       '7.0', '9.0'], dtype='<U32'), array(['-1.0', '0.0', '1.0', '10.0', '2.0', '3.0', '4.0', '5.0', '6.0',\n",
      "       '7.0', '9.0'], dtype='<U32'), array(['-1.0', '0.0', '1.0', '10.0', '2.0', '3.0', '4.0', '5.0', '6.0',\n",
      "       '7.0', '9.0'], dtype='<U32'), array(['-1.0', '0.0', '1.0', '10.0', '2.0', '3.0', '4.0', '5.0', '6.0',\n",
      "       '7.0', '9.0'], dtype='<U32'), array(['-1.0', '0.0', '1.0', '10.0', '2.0', '3.0', '4.0', '5.0', '6.0',\n",
      "       '7.0', '9.0'], dtype='<U32'), array(['-1.0', '0.0', '1.0', '10.0', '2.0', '3.0', '4.0', '5.0', '6.0',\n",
      "       '7.0', '9.0'], dtype='<U32'), array(['-1.0', '0.0', '1.0', '10.0', '2.0', '3.0', '4.0', '5.0', '6.0',\n",
      "       '7.0', '9.0'], dtype='<U32'), array(['-1.0', '0.0', '1.0', '10.0', '2.0', '3.0', '4.0', '5.0', '6.0',\n",
      "       '7.0', '9.0'], dtype='<U32'), array(['-1.0', '0.0', '1.0', '10.0', '2.0', '3.0', '4.0', '5.0', '6.0',\n",
      "       '7.0', '9.0'], dtype='<U32'), array(['-1.0', '0.0', '1.0', '10.0', '2.0', '3.0', '4.0', '5.0', '6.0',\n",
      "       '7.0', '9.0'], dtype='<U32'), array(['-1.0', '0.0', '1.0', '10.0', '2.0', '3.0', '4.0', '5.0', '6.0',\n",
      "       '7.0', '9.0'], dtype='<U32'), array(['-1.0', '0.0', '1.0', '10.0', '2.0', '3.0', '4.0', '5.0', '6.0',\n",
      "       '7.0', '9.0'], dtype='<U32'), array(['-1.0', '0.0', '1.0', '10.0', '2.0', '3.0', '4.0', '5.0', '6.0',\n",
      "       '7.0', '9.0'], dtype='<U32'), array(['-1.0', '0.0', '1.0', '10.0', '2.0', '3.0', '4.0', '5.0', '6.0',\n",
      "       '7.0', '9.0'], dtype='<U32'), array(['-1.0', '0.0', '1.0', '10.0', '2.0', '3.0', '4.0', '5.0', '6.0',\n",
      "       '7.0', '9.0'], dtype='<U32'), array(['-1.0', '0.0', '1.0', '10.0', '2.0', '3.0', '4.0', '5.0', '6.0',\n",
      "       '7.0', '9.0'], dtype='<U32'), array(['-1.0', '0.0', '1.0', '10.0', '2.0', '3.0', '4.0', '5.0', '6.0',\n",
      "       '7.0', '9.0'], dtype='<U32'), array(['-1.0', '0.0', '1.0', '10.0', '2.0', '3.0', '4.0', '5.0', '6.0',\n",
      "       '7.0', '9.0'], dtype='<U32')]\n"
     ]
    }
   ],
   "source": [
    "#print([cat.shape for cat in enc.categories_])\n",
    "print(enc.categories_)\n",
    "X = enc.transform(X).toarray()"
   ]
  },
  {
   "cell_type": "code",
   "execution_count": 12,
   "metadata": {},
   "outputs": [
    {
     "data": {
      "text/plain": [
       "(1753370, 264)"
      ]
     },
     "execution_count": 12,
     "metadata": {},
     "output_type": "execute_result"
    }
   ],
   "source": [
    "X.shape"
   ]
  },
  {
   "cell_type": "code",
   "execution_count": 13,
   "metadata": {},
   "outputs": [
    {
     "data": {
      "text/plain": [
       "(1753370,)"
      ]
     },
     "execution_count": 13,
     "metadata": {},
     "output_type": "execute_result"
    }
   ],
   "source": [
    "y.shape"
   ]
  },
  {
   "cell_type": "code",
   "execution_count": 14,
   "metadata": {},
   "outputs": [],
   "source": [
    "X_train, X_test, y_train, y_test = train_test_split(X, y, test_size=0.33, random_state=42)"
   ]
  },
  {
   "cell_type": "markdown",
   "metadata": {},
   "source": [
    "The Hidden Layer \"24\" is inspired by the idea that each surrounding node has been one-hot-encoded into 12 features"
   ]
  },
  {
   "cell_type": "code",
   "execution_count": 21,
   "metadata": {},
   "outputs": [],
   "source": [
    "clf = MLPClassifier(solver='adam', activation=\"tanh\", alpha=1e-5, hidden_layer_sizes=(100), verbose=True, max_iter=1, tol=.01)"
   ]
  },
  {
   "cell_type": "code",
   "execution_count": 22,
   "metadata": {},
   "outputs": [
    {
     "name": "stdout",
     "output_type": "stream",
     "text": [
      "Iteration 1, loss = 0.09093055\n",
      "Iteration 2, loss = 0.05179970\n",
      "Iteration 3, loss = 0.04563005\n",
      "Iteration 4, loss = 0.04278116\n",
      "Iteration 5, loss = 0.04100056\n",
      "Iteration 6, loss = 0.03972265\n",
      "Iteration 7, loss = 0.03863661\n",
      "Iteration 8, loss = 0.03778743\n",
      "Iteration 9, loss = 0.03704863\n",
      "Iteration 10, loss = 0.03637618\n",
      "Iteration 11, loss = 0.03583824\n",
      "Iteration 12, loss = 0.03526063\n",
      "Iteration 13, loss = 0.03481703\n",
      "Training loss did not improve more than tol=0.010000 for 10 consecutive epochs. Stopping.\n",
      "0.9830992390423305\n",
      "[[ 72943   7204]\n",
      " [  2575 495891]]\n"
     ]
    }
   ],
   "source": [
    "clf.fit(X_train, y_train)\n",
    "\n",
    "y_pred = clf.predict(X_test)\n",
    "\n",
    "print(accuracy_score(y_test, y_pred))\n",
    "print(confusion_matrix(y_test, y_pred))"
   ]
  },
  {
   "cell_type": "code",
   "execution_count": 17,
   "metadata": {},
   "outputs": [
    {
     "data": {
      "text/plain": [
       "0.9992573985957087"
      ]
     },
     "execution_count": 17,
     "metadata": {},
     "output_type": "execute_result"
    }
   ],
   "source": [
    "clf.predict_proba(X_test[0].reshape(1, -1))[0][1]"
   ]
  },
  {
   "cell_type": "markdown",
   "metadata": {},
   "source": [
    "# The AI that Plays Mine Sweeper"
   ]
  },
  {
   "cell_type": "code",
   "execution_count": null,
   "metadata": {},
   "outputs": [
    {
     "data": {
      "application/vnd.jupyter.widget-view+json": {
       "model_id": "990c7b58b0d74776be302e09157d2af7",
       "version_major": 2,
       "version_minor": 0
      },
      "text/plain": [
       "IntProgress(value=0)"
      ]
     },
     "metadata": {},
     "output_type": "display_data"
    }
   ],
   "source": [
    "wins = 0\n",
    "loses = 0\n",
    "gamesToPlay = 100\n",
    "bombGuessTol = .85\n",
    "\n",
    "f = IntProgress(min=0, max=gamesToPlay) # instantiate the bar\n",
    "display(f) # display the bar\n",
    "\n",
    "for _ in range(gamesToPlay):\n",
    "    f.value += 1\n",
    "    mygame = game.minesweeper(9, 9, 10, record=True)\n",
    "    #mygame.playOnNoteBook()\n",
    "\n",
    "    #Our algorithm selects (0,0) first every time any way -- input is all the same on all unknown...\n",
    "    #To test if there is a better place than this think about classifying better starting points... Differn't shapes...\n",
    "    mygame.clickCell((1,1))#gameboard[1][1].click()\n",
    "\n",
    "    while (\"?\" in \" \".join([\" \".join(map(str, row)) for row in mygame.visible])):\n",
    "        curbest = 0\n",
    "        bestindex = (0, 0)\n",
    "        data = np.array(mygame.visible).astype('<U3')\n",
    "        data = np.pad(data, (N), 'constant', constant_values=(-1))\n",
    "        data = np.where(data=='*', 0, data)\n",
    "        max_right = max(np.where(np.array(mygame.visible) != '?')[0])+1 \n",
    "        max_down = max(np.where(np.array(mygame.visible) != '?')[1])+1\n",
    "        innerData = (data[N:-N, N:-N])[0:max_right+1, 0:max_down+1] \n",
    "        for index, x in np.ndenumerate(innerData):\n",
    "            if x == \"?\":\n",
    "                toAppend = []\n",
    "                for i in range((2*N+1)**2):\n",
    "                    if i != (((2*N+1)**2)//2):\n",
    "                        a = i//(2*N+1)\n",
    "                        b = i%(2*N+1)\n",
    "                        toAppend.append(data[index[0] + a, index[1] + b])\n",
    "                toAppend = np.array(toAppend)\n",
    "                toAppend = np.where(toAppend=='?', 10, toAppend)\n",
    "                toAppend = toAppend.astype(float).astype(str)\n",
    "                toAppend = toAppend.reshape(1,-1)\n",
    "                toAppend = enc.transform(toAppend).toarray()\n",
    "                if clf.predict_proba(toAppend)[0][1] > curbest:\n",
    "                    curbest = clf.predict_proba(toAppend)[0][1]\n",
    "                    bestindex = index\n",
    "                if clf.predict_proba(toAppend)[0][0] > bombGuessTol:\n",
    "                    #print(index)\n",
    "                    mygame.visible[index[0]][index[1]] = 9.0\n",
    "                    #mygame.gameboard[index[0]][index[1]].description = \"9.0\"\n",
    "        #print(curbest)\n",
    "        #print(bestindex)\n",
    "        mygame.clickCell(bestindex)\n",
    "        #mygame.gameboard[bestindex[0]][bestindex[1]].click()\n",
    "        #mygame.clickCell(bestindx)\n",
    "\n",
    "        #print(c, bestindex)\n",
    "    if mygame.visible == \"You have lost\":\n",
    "        loses += 1\n",
    "    else:\n",
    "        wins += 1\n",
    "\n",
    "print(\"The AI won {} times and lose {} times\".format(wins, loses))        \n",
    "    \n",
    "#print(mygame.visible)"
   ]
  },
  {
   "cell_type": "code",
   "execution_count": 20,
   "metadata": {},
   "outputs": [
    {
     "data": {
      "application/vnd.jupyter.widget-view+json": {
       "model_id": "264146ff4369447e9db7293c4b33aad1",
       "version_major": 2,
       "version_minor": 0
      },
      "text/plain": [
       "HBox(children=(Button(layout=Layout(height='30px', padding='0px', width='30px'), style=ButtonStyle(button_colo…"
      ]
     },
     "metadata": {},
     "output_type": "display_data"
    },
    {
     "data": {
      "application/vnd.jupyter.widget-view+json": {
       "model_id": "fc799ce93c2846af8d6226840bf44125",
       "version_major": 2,
       "version_minor": 0
      },
      "text/plain": [
       "HBox(children=(Button(layout=Layout(height='30px', padding='0px', width='30px'), style=ButtonStyle(button_colo…"
      ]
     },
     "metadata": {},
     "output_type": "display_data"
    },
    {
     "data": {
      "application/vnd.jupyter.widget-view+json": {
       "model_id": "5771550f53964d93af565fa87c1e2a81",
       "version_major": 2,
       "version_minor": 0
      },
      "text/plain": [
       "HBox(children=(Button(layout=Layout(height='30px', padding='0px', width='30px'), style=ButtonStyle(button_colo…"
      ]
     },
     "metadata": {},
     "output_type": "display_data"
    },
    {
     "data": {
      "application/vnd.jupyter.widget-view+json": {
       "model_id": "0d3a8669a4624091a0bb2bada3648609",
       "version_major": 2,
       "version_minor": 0
      },
      "text/plain": [
       "HBox(children=(Button(layout=Layout(height='30px', padding='0px', width='30px'), style=ButtonStyle(button_colo…"
      ]
     },
     "metadata": {},
     "output_type": "display_data"
    },
    {
     "data": {
      "application/vnd.jupyter.widget-view+json": {
       "model_id": "db40a704a5814cf3a4420404cd2ddd8d",
       "version_major": 2,
       "version_minor": 0
      },
      "text/plain": [
       "HBox(children=(Button(layout=Layout(height='30px', padding='0px', width='30px'), style=ButtonStyle(button_colo…"
      ]
     },
     "metadata": {},
     "output_type": "display_data"
    },
    {
     "data": {
      "application/vnd.jupyter.widget-view+json": {
       "model_id": "292bc5583cf244148d6162bffcf28dd4",
       "version_major": 2,
       "version_minor": 0
      },
      "text/plain": [
       "HBox(children=(Button(layout=Layout(height='30px', padding='0px', width='30px'), style=ButtonStyle(button_colo…"
      ]
     },
     "metadata": {},
     "output_type": "display_data"
    },
    {
     "data": {
      "application/vnd.jupyter.widget-view+json": {
       "model_id": "871c4346a483402abba8c8224de9509a",
       "version_major": 2,
       "version_minor": 0
      },
      "text/plain": [
       "HBox(children=(Button(layout=Layout(height='30px', padding='0px', width='30px'), style=ButtonStyle(button_colo…"
      ]
     },
     "metadata": {},
     "output_type": "display_data"
    },
    {
     "data": {
      "application/vnd.jupyter.widget-view+json": {
       "model_id": "6b339bacbe9a4e5c87e6943a7312add6",
       "version_major": 2,
       "version_minor": 0
      },
      "text/plain": [
       "HBox(children=(Button(layout=Layout(height='30px', padding='0px', width='30px'), style=ButtonStyle(button_colo…"
      ]
     },
     "metadata": {},
     "output_type": "display_data"
    },
    {
     "data": {
      "application/vnd.jupyter.widget-view+json": {
       "model_id": "53d143b8c25b41239199203e60f4eef1",
       "version_major": 2,
       "version_minor": 0
      },
      "text/plain": [
       "HBox(children=(Button(layout=Layout(height='30px', padding='0px', width='30px'), style=ButtonStyle(button_colo…"
      ]
     },
     "metadata": {},
     "output_type": "display_data"
    },
    {
     "data": {
      "application/vnd.jupyter.widget-view+json": {
       "model_id": "9d31da24eac84753bf7e0a54b001246b",
       "version_major": 2,
       "version_minor": 0
      },
      "text/plain": [
       "HBox(children=(Button(layout=Layout(height='30px', padding='0px', width='30px'), style=ButtonStyle(button_colo…"
      ]
     },
     "metadata": {},
     "output_type": "display_data"
    },
    {
     "data": {
      "application/vnd.jupyter.widget-view+json": {
       "model_id": "9441968fbe064cff85f8f210a66b8fac",
       "version_major": 2,
       "version_minor": 0
      },
      "text/plain": [
       "HBox(children=(Button(layout=Layout(height='30px', padding='0px', width='30px'), style=ButtonStyle(button_colo…"
      ]
     },
     "metadata": {},
     "output_type": "display_data"
    },
    {
     "data": {
      "application/vnd.jupyter.widget-view+json": {
       "model_id": "ea4a09cb3bdb4d37b8a44fd3320716d1",
       "version_major": 2,
       "version_minor": 0
      },
      "text/plain": [
       "HBox(children=(Button(layout=Layout(height='30px', padding='0px', width='30px'), style=ButtonStyle(button_colo…"
      ]
     },
     "metadata": {},
     "output_type": "display_data"
    },
    {
     "data": {
      "application/vnd.jupyter.widget-view+json": {
       "model_id": "8e73e4bc5b2343d580a259aa2a589859",
       "version_major": 2,
       "version_minor": 0
      },
      "text/plain": [
       "HBox(children=(Button(layout=Layout(height='30px', padding='0px', width='30px'), style=ButtonStyle(button_colo…"
      ]
     },
     "metadata": {},
     "output_type": "display_data"
    },
    {
     "data": {
      "application/vnd.jupyter.widget-view+json": {
       "model_id": "35b74a73e0f849c9bbcbb93fca197580",
       "version_major": 2,
       "version_minor": 0
      },
      "text/plain": [
       "HBox(children=(Button(layout=Layout(height='30px', padding='0px', width='30px'), style=ButtonStyle(button_colo…"
      ]
     },
     "metadata": {},
     "output_type": "display_data"
    },
    {
     "data": {
      "application/vnd.jupyter.widget-view+json": {
       "model_id": "8eb04eaf2c6448a0b9a03373e30d073e",
       "version_major": 2,
       "version_minor": 0
      },
      "text/plain": [
       "HBox(children=(Button(layout=Layout(height='30px', padding='0px', width='30px'), style=ButtonStyle(button_colo…"
      ]
     },
     "metadata": {},
     "output_type": "display_data"
    },
    {
     "data": {
      "application/vnd.jupyter.widget-view+json": {
       "model_id": "73487d0ab91d4b5d8401019e41682850",
       "version_major": 2,
       "version_minor": 0
      },
      "text/plain": [
       "HBox(children=(Button(layout=Layout(height='30px', padding='0px', width='30px'), style=ButtonStyle(button_colo…"
      ]
     },
     "metadata": {},
     "output_type": "display_data"
    },
    {
     "data": {
      "text/plain": [
       "'You have lost'"
      ]
     },
     "metadata": {},
     "output_type": "display_data"
    }
   ],
   "source": [
    "mygame = game.minesweeper(30, 16, 99, record=True)\n",
    "mygame.playOnNoteBook()\n",
    "\n",
    "#Our algorithm selects (0,0) first every time any way -- input is all the same on all unknown...\n",
    "#To test if there is a better place than this think about classifying better starting points... Differn't shapes...\n",
    "#mygame.clickCell((1,1))\n",
    "mygame.gameboard[1][1].click()\n",
    "\n",
    "while (\"?\" in \" \".join([\" \".join(map(str, row)) for row in mygame.visible])):\n",
    "    curbest = 0\n",
    "    bestindex = (0, 0)\n",
    "    data = np.array(mygame.visible).astype('<U3')\n",
    "    data = np.pad(data, (N), 'constant', constant_values=(-1))\n",
    "    data = np.where(data=='*', 0, data)\n",
    "    max_right = max(np.where(np.array(mygame.visible) != '?')[0])+1 \n",
    "    max_down = max(np.where(np.array(mygame.visible) != '?')[1])+1\n",
    "    innerData = (data[N:-N, N:-N])[0:max_right+1, 0:max_down+1] \n",
    "    for index, x in np.ndenumerate(innerData):\n",
    "        if x == \"?\":\n",
    "            toAppend = []\n",
    "            for i in range((2*N+1)**2):\n",
    "                if i != (((2*N+1)**2)//2):\n",
    "                    a = i//(2*N+1)\n",
    "                    b = i%(2*N+1)\n",
    "                    toAppend.append(data[index[0] + a, index[1] + b])\n",
    "            toAppend = np.array(toAppend)\n",
    "            toAppend = np.where(toAppend=='?', 10, toAppend)\n",
    "            toAppend = toAppend.astype(float).astype(str)\n",
    "            toAppend = toAppend.reshape(1,-1)\n",
    "            toAppend = enc.transform(toAppend).toarray()\n",
    "            if clf.predict_proba(toAppend)[0][1] > curbest:\n",
    "                curbest = clf.predict_proba(toAppend)[0][1]\n",
    "                bestindex = index\n",
    "            if clf.predict_proba(toAppend)[0][0] > bombGuessTol:\n",
    "                #print(index)\n",
    "                #mygame.visible[index[0]][index[1]] = 9.0\n",
    "                mygame.gameboard[index[0]][index[1]].description = \"9.0\"\n",
    "    #print(curbest)\n",
    "    #print(bestindex)\n",
    "    #mygame.clickCell(bestindex)\n",
    "    mygame.gameboard[bestindex[0]][bestindex[1]].click()\n",
    "    #mygame.clickCell(bestindx)"
   ]
  },
  {
   "cell_type": "code",
   "execution_count": 33,
   "metadata": {},
   "outputs": [
    {
     "data": {
      "text/plain": [
       "[['*', '*', '*', '*', '*', '*', '*', '*', '*'],\n",
       " ['*', '*', '*', '*', '*', '*', '*', '1.0', '1.0'],\n",
       " ['*', '*', '*', '*', '*', '*', '*', '1.0', '?'],\n",
       " ['2.0', '2.0', '1.0', '*', '*', '1.0', '1.0', '3.0', '?'],\n",
       " ['?', '?', '1.0', '*', '*', '1.0', '?', '?', '?'],\n",
       " ['?', '?', '1.0', '1.0', '1.0', '2.0', '?', '?', '?'],\n",
       " ['?', '?', '?', '?', '?', '?', '?', '?', '?'],\n",
       " ['?', '?', '?', '?', '?', '?', '?', '?', '?'],\n",
       " ['?', '?', '?', '?', '?', '?', '?', '?', '?']]"
      ]
     },
     "execution_count": 33,
     "metadata": {},
     "output_type": "execute_result"
    }
   ],
   "source": [
    "mygame.visible\n"
   ]
  },
  {
   "cell_type": "markdown",
   "metadata": {},
   "source": [
    "# Idea's to Improve:\n",
    "### Mess with Hyper Params\n",
    "### Mess with the solve function (make exact percentages etc)\n",
    "### Mess with what we are classifying (We just want to know if something is a bomb or not...\n",
    "### More Data surronding each point"
   ]
  },
  {
   "cell_type": "markdown",
   "metadata": {},
   "source": [
    "# Messing with Hyper Params"
   ]
  },
  {
   "cell_type": "code",
   "execution_count": null,
   "metadata": {},
   "outputs": [],
   "source": [
    "#clf2 = MLPClassifier(solver='lbfgs', alpha=1e-5, random_state=1)\n",
    "\n",
    "#clf2.fit(X_train, y_train)\n",
    "\n",
    "#y_pred = clf2.predict(X_test)\n",
    "\n",
    "#print(accuracy_score(y_test, y_pred))"
   ]
  },
  {
   "cell_type": "code",
   "execution_count": null,
   "metadata": {},
   "outputs": [],
   "source": [
    "# This one is inspired by the one hot incoding (Each feature was split into 11 parts)\n",
    "#clf3 = MLPClassifier(solver='lbfgs', alpha=1e-5, hidden_layer_sizes=(11), random_state=1)\n",
    "\n",
    "#clf3.fit(X_train, y_train)\n",
    "\n",
    "#y_pred = clf3.predict(X_test)\n",
    "\n",
    "#print(accuracy_score(y_test, y_pred))"
   ]
  },
  {
   "cell_type": "code",
   "execution_count": null,
   "metadata": {},
   "outputs": [],
   "source": [
    "#import pickle\n",
    "\n",
    "#filename = 'clf1.sav'\n",
    "#pickle.dump(clf, open(filename, 'wb'))\n",
    "\n",
    "#filename = 'clf2.sav'\n",
    "#pickle.dump(clf2, open(filename, 'wb'))\n",
    "\n",
    "#filename = 'clf3.sav'\n",
    "#pickle.dump(clf3, open(filename, 'wb'))"
   ]
  },
  {
   "cell_type": "code",
   "execution_count": null,
   "metadata": {},
   "outputs": [],
   "source": [
    "#clf3 = MLPClassifier(solver='lbfgs', alpha=1e-5, hidden_layer_sizes=(8, 3), random_state=1)\n",
    "\n",
    "#clf3.fit(X_train, y_train)\n",
    "\n",
    "#y_pred = clf3.predict(X_test)\n",
    "\n",
    "#print(accuracy_score(y_test, y_pred))"
   ]
  },
  {
   "cell_type": "code",
   "execution_count": null,
   "metadata": {},
   "outputs": [],
   "source": [
    "#filename = 'clf3.sav'\n",
    "#pickle.dump(clf3, open(filename, 'wb'))"
   ]
  },
  {
   "cell_type": "markdown",
   "metadata": {},
   "source": [
    "# Messing with what we are classifying"
   ]
  },
  {
   "cell_type": "code",
   "execution_count": null,
   "metadata": {},
   "outputs": [],
   "source": [
    "np.unique(y.shape)"
   ]
  },
  {
   "cell_type": "code",
   "execution_count": null,
   "metadata": {},
   "outputs": [],
   "source": []
  }
 ],
 "metadata": {
  "kernelspec": {
   "display_name": "Python 3",
   "language": "python",
   "name": "python3"
  },
  "language_info": {
   "codemirror_mode": {
    "name": "ipython",
    "version": 3
   },
   "file_extension": ".py",
   "mimetype": "text/x-python",
   "name": "python",
   "nbconvert_exporter": "python",
   "pygments_lexer": "ipython3",
   "version": "3.7.3"
  }
 },
 "nbformat": 4,
 "nbformat_minor": 1
}
