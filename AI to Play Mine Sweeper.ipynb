{
 "cells": [
  {
   "cell_type": "markdown",
   "metadata": {},
   "source": [
    "# AI To Play Mine Sweeper"
   ]
  },
  {
   "cell_type": "markdown",
   "metadata": {},
   "source": [
    "## The Game Object\n",
    "\n",
    "I developed the pythonic minesweeper. It is unit tested fairly throughly; up until visualizations and tracking features of the project present themselves. Note: The 9's are bombs; because it is impossible for a cell to be sourounded by more Bombs then there are cells surronding it."
   ]
  },
  {
   "cell_type": "code",
   "execution_count": 1,
   "metadata": {},
   "outputs": [],
   "source": [
    "import game\n",
    "import numpy as np\n",
    "from sklearn.neural_network import MLPClassifier\n",
    "from sklearn.model_selection import train_test_split\n",
    "from sklearn.metrics import accuracy_score, confusion_matrix\n",
    "from sklearn.preprocessing import OneHotEncoder\n",
    "from sklearn.ensemble import RandomForestClassifier, VotingClassifier\n",
    "from sklearn.naive_bayes import GaussianNB"
   ]
  },
  {
   "cell_type": "code",
   "execution_count": 2,
   "metadata": {},
   "outputs": [
    {
     "name": "stdout",
     "output_type": "stream",
     "text": [
      "2.0 \t3.0 \t2.0 \t1.0 \t0.0 \t0.0 \t0.0 \t1.0 \t9.0 \t1.0 \t0.0 \t1.0 \t9.0 \t1.0 \t\n",
      "\n",
      "9.0 \t9.0 \t9.0 \t3.0 \t2.0 \t2.0 \t1.0 \t2.0 \t1.0 \t2.0 \t1.0 \t2.0 \t1.0 \t1.0 \t\n",
      "\n",
      "2.0 \t4.0 \t4.0 \t9.0 \t9.0 \t3.0 \t9.0 \t1.0 \t0.0 \t1.0 \t9.0 \t2.0 \t1.0 \t0.0 \t\n",
      "\n",
      "0.0 \t1.0 \t9.0 \t3.0 \t4.0 \t9.0 \t4.0 \t2.0 \t1.0 \t2.0 \t3.0 \t9.0 \t1.0 \t0.0 \t\n",
      "\n",
      "0.0 \t1.0 \t2.0 \t3.0 \t4.0 \t9.0 \t9.0 \t1.0 \t2.0 \t9.0 \t3.0 \t1.0 \t1.0 \t0.0 \t\n",
      "\n",
      "1.0 \t1.0 \t2.0 \t9.0 \t9.0 \t3.0 \t2.0 \t1.0 \t2.0 \t9.0 \t4.0 \t2.0 \t2.0 \t1.0 \t\n",
      "\n",
      "3.0 \t9.0 \t3.0 \t2.0 \t2.0 \t1.0 \t0.0 \t0.0 \t1.0 \t2.0 \t9.0 \t9.0 \t3.0 \t9.0 \t\n",
      "\n",
      "9.0 \t9.0 \t2.0 \t0.0 \t0.0 \t0.0 \t0.0 \t0.0 \t0.0 \t1.0 \t2.0 \t3.0 \t9.0 \t2.0 \t\n",
      "\n"
     ]
    }
   ],
   "source": [
    "mygame = game.minesweeper(14, 8, 25)\n",
    "\n",
    "\n",
    "for row in mygame.board:\n",
    "    for c in row:\n",
    "        print(c, \"\\t\", end=\"\")\n",
    "    print(\"\\n\")\n",
    "#mygame.clickCell((0,0))"
   ]
  },
  {
   "cell_type": "markdown",
   "metadata": {},
   "source": [
    "## Visualizing the Game\n",
    "\n",
    "The following is a rough gui for the game. Feel free to mess around; when you loose all of the cells will disable and you will be alerted. When you win you will be alerted. Note: If you want to start a new game you will have to run the cell above because you need to make a new object to start over"
   ]
  },
  {
   "cell_type": "code",
   "execution_count": 3,
   "metadata": {},
   "outputs": [
    {
     "data": {
      "application/vnd.jupyter.widget-view+json": {
       "model_id": "1789db84839b48d8b614bef6b1274b12",
       "version_major": 2,
       "version_minor": 0
      },
      "text/plain": [
       "HBox(children=(Button(layout=Layout(height='30px', padding='0px', width='30px'), style=ButtonStyle(button_colo…"
      ]
     },
     "metadata": {},
     "output_type": "display_data"
    },
    {
     "data": {
      "application/vnd.jupyter.widget-view+json": {
       "model_id": "71a944c4d3b140bf9e098f407c031d68",
       "version_major": 2,
       "version_minor": 0
      },
      "text/plain": [
       "HBox(children=(Button(layout=Layout(height='30px', padding='0px', width='30px'), style=ButtonStyle(button_colo…"
      ]
     },
     "metadata": {},
     "output_type": "display_data"
    },
    {
     "data": {
      "application/vnd.jupyter.widget-view+json": {
       "model_id": "f457ceea35654d779ccb31ea04ff52e1",
       "version_major": 2,
       "version_minor": 0
      },
      "text/plain": [
       "HBox(children=(Button(layout=Layout(height='30px', padding='0px', width='30px'), style=ButtonStyle(button_colo…"
      ]
     },
     "metadata": {},
     "output_type": "display_data"
    },
    {
     "data": {
      "application/vnd.jupyter.widget-view+json": {
       "model_id": "9cefa99d14b54e439b1cbef5331ddc2d",
       "version_major": 2,
       "version_minor": 0
      },
      "text/plain": [
       "HBox(children=(Button(layout=Layout(height='30px', padding='0px', width='30px'), style=ButtonStyle(button_colo…"
      ]
     },
     "metadata": {},
     "output_type": "display_data"
    },
    {
     "data": {
      "application/vnd.jupyter.widget-view+json": {
       "model_id": "32b1bf24b25c4153b47159034857675f",
       "version_major": 2,
       "version_minor": 0
      },
      "text/plain": [
       "HBox(children=(Button(layout=Layout(height='30px', padding='0px', width='30px'), style=ButtonStyle(button_colo…"
      ]
     },
     "metadata": {},
     "output_type": "display_data"
    },
    {
     "data": {
      "application/vnd.jupyter.widget-view+json": {
       "model_id": "a1bd99d1adf644ab8c5e5f3f81f0abd0",
       "version_major": 2,
       "version_minor": 0
      },
      "text/plain": [
       "HBox(children=(Button(layout=Layout(height='30px', padding='0px', width='30px'), style=ButtonStyle(button_colo…"
      ]
     },
     "metadata": {},
     "output_type": "display_data"
    },
    {
     "data": {
      "application/vnd.jupyter.widget-view+json": {
       "model_id": "b38264af22bd4a4f997877a0e9d3bdaf",
       "version_major": 2,
       "version_minor": 0
      },
      "text/plain": [
       "HBox(children=(Button(layout=Layout(height='30px', padding='0px', width='30px'), style=ButtonStyle(button_colo…"
      ]
     },
     "metadata": {},
     "output_type": "display_data"
    },
    {
     "data": {
      "application/vnd.jupyter.widget-view+json": {
       "model_id": "44b7f104e3ee4d9d8ef042bb079a644b",
       "version_major": 2,
       "version_minor": 0
      },
      "text/plain": [
       "HBox(children=(Button(layout=Layout(height='30px', padding='0px', width='30px'), style=ButtonStyle(button_colo…"
      ]
     },
     "metadata": {},
     "output_type": "display_data"
    }
   ],
   "source": [
    "mygame.playOnNoteBook()"
   ]
  },
  {
   "cell_type": "markdown",
   "metadata": {},
   "source": [
    "## Neruel Network to Play Mine Sweeper (Classification Approach) \n",
    "\n",
    "We will attempt to play minesweeper by generating lots of games (which will be used as our data). \n",
    "\n",
    "Things that we'll need to do:\n",
    "\n",
    "Pad the game board with some element.\n",
    "This way we distiguish the edges of the game board (all of our data needs to have the same number of features) \n",
    "\n",
    "Represent \"unknown squares\" in our classification we will have some data that are \"completed games\" (the whole board is visible) and others where the game is 80% finished; 60%; 40% and 20%. (Our \"Solve Percent\" utility will help us with this)"
   ]
  },
  {
   "cell_type": "code",
   "execution_count": 4,
   "metadata": {},
   "outputs": [
    {
     "data": {
      "application/vnd.jupyter.widget-view+json": {
       "model_id": "15f7856672364175a060c2295a6a17d9",
       "version_major": 2,
       "version_minor": 0
      },
      "text/plain": [
       "HBox(children=(Button(description='1', disabled=True, layout=Layout(height='30px', padding='0px', width='30px'…"
      ]
     },
     "metadata": {},
     "output_type": "display_data"
    },
    {
     "data": {
      "application/vnd.jupyter.widget-view+json": {
       "model_id": "3e111007e45742aaa8db93ccddf03754",
       "version_major": 2,
       "version_minor": 0
      },
      "text/plain": [
       "HBox(children=(Button(description='1', disabled=True, layout=Layout(height='30px', padding='0px', width='30px'…"
      ]
     },
     "metadata": {},
     "output_type": "display_data"
    },
    {
     "data": {
      "application/vnd.jupyter.widget-view+json": {
       "model_id": "aae82b31933f46b8887da6e4037c41ab",
       "version_major": 2,
       "version_minor": 0
      },
      "text/plain": [
       "HBox(children=(Button(disabled=True, layout=Layout(height='30px', padding='0px', width='30px'), style=ButtonSt…"
      ]
     },
     "metadata": {},
     "output_type": "display_data"
    },
    {
     "data": {
      "application/vnd.jupyter.widget-view+json": {
       "model_id": "069870b49e154ba0adfa839b8fd93eae",
       "version_major": 2,
       "version_minor": 0
      },
      "text/plain": [
       "HBox(children=(Button(disabled=True, layout=Layout(height='30px', padding='0px', width='30px'), style=ButtonSt…"
      ]
     },
     "metadata": {},
     "output_type": "display_data"
    },
    {
     "data": {
      "application/vnd.jupyter.widget-view+json": {
       "model_id": "dfb30f4269d447c3bf73db540ac13f80",
       "version_major": 2,
       "version_minor": 0
      },
      "text/plain": [
       "HBox(children=(Button(disabled=True, layout=Layout(height='30px', padding='0px', width='30px'), style=ButtonSt…"
      ]
     },
     "metadata": {},
     "output_type": "display_data"
    },
    {
     "data": {
      "application/vnd.jupyter.widget-view+json": {
       "model_id": "714a2731e49d40d79b279a47484c556b",
       "version_major": 2,
       "version_minor": 0
      },
      "text/plain": [
       "HBox(children=(Button(disabled=True, layout=Layout(height='30px', padding='0px', width='30px'), style=ButtonSt…"
      ]
     },
     "metadata": {},
     "output_type": "display_data"
    },
    {
     "data": {
      "application/vnd.jupyter.widget-view+json": {
       "model_id": "2a07a34f8d5d4b9698f5dd8c1481e17d",
       "version_major": 2,
       "version_minor": 0
      },
      "text/plain": [
       "HBox(children=(Button(disabled=True, layout=Layout(height='30px', padding='0px', width='30px'), style=ButtonSt…"
      ]
     },
     "metadata": {},
     "output_type": "display_data"
    },
    {
     "data": {
      "application/vnd.jupyter.widget-view+json": {
       "model_id": "88b907d2e00e48db9177e982cb245e2f",
       "version_major": 2,
       "version_minor": 0
      },
      "text/plain": [
       "HBox(children=(Button(disabled=True, layout=Layout(height='30px', padding='0px', width='30px'), style=ButtonSt…"
      ]
     },
     "metadata": {},
     "output_type": "display_data"
    }
   ],
   "source": [
    "mygame = game.minesweeper(14, 8, 25)\n",
    "mygame.solvePercent(.2)\n",
    "mygame.playOnNoteBook()"
   ]
  },
  {
   "cell_type": "code",
   "execution_count": 5,
   "metadata": {},
   "outputs": [],
   "source": [
    "theData = []\n",
    "\n",
    "for p in [.8, .6, .4, .2]:\n",
    "    for i in range(1000):\n",
    "        mygame = game.minesweeper(10, 10, 23)\n",
    "        mygame.solvePercent(p)\n",
    "        dataToAdd = np.pad(mygame.visible, (2), 'constant', constant_values=(-1))\n",
    "        dataToAdd = np.where(dataToAdd=='*', 0, dataToAdd)\n",
    "        theData.append(dataToAdd)\n",
    "        \n",
    "for i in range(1000):\n",
    "    mygame = game.minesweeper(10, 10, 23)\n",
    "    dataToAdd = np.pad(mygame.board, (2), 'constant', constant_values=(-1))\n",
    "    theData.append(dataToAdd.astype('<U3'))\n"
   ]
  },
  {
   "cell_type": "code",
   "execution_count": 6,
   "metadata": {},
   "outputs": [],
   "source": [
    "theRealData = []\n",
    "\n",
    "for data in theData:\n",
    "    innerData = data[2:-2, 2:-2]\n",
    "    for index, x in np.ndenumerate(innerData):\n",
    "        toAppend = []\n",
    "        toAppend.append(x)\n",
    "        toAppend.append(data[index[0], index[1]])\n",
    "        toAppend.append(data[index[0], index[1]+1])\n",
    "        toAppend.append(data[index[0], index[1]+2])\n",
    "        toAppend.append(data[index[0], index[1]+3])\n",
    "        toAppend.append(data[index[0], index[1]+4])\n",
    "        toAppend.append(data[index[0]+1, index[1]])\n",
    "        toAppend.append(data[index[0]+1, index[1]+1])\n",
    "        toAppend.append(data[index[0]+1, index[1]+2])\n",
    "        toAppend.append(data[index[0]+1, index[1]+3])\n",
    "        toAppend.append(data[index[0]+1, index[1]+4])\n",
    "        toAppend.append(data[index[0]+2, index[1]])\n",
    "        toAppend.append(data[index[0]+2, index[1]+1])\n",
    "        toAppend.append(data[index[0]+2, index[1]+3])\n",
    "        toAppend.append(data[index[0]+2, index[1]+4])\n",
    "        toAppend.append(data[index[0]+3, index[1]])\n",
    "        toAppend.append(data[index[0]+3, index[1]+1])\n",
    "        toAppend.append(data[index[0]+3, index[1]+2])\n",
    "        toAppend.append(data[index[0]+3, index[1]+3])\n",
    "        toAppend.append(data[index[0]+3, index[1]+4])\n",
    "        toAppend.append(data[index[0]+4, index[1]])\n",
    "        toAppend.append(data[index[0]+4, index[1]+1])\n",
    "        toAppend.append(data[index[0]+4, index[1]+2])\n",
    "        toAppend.append(data[index[0]+4, index[1]+3])\n",
    "        toAppend.append(data[index[0]+4, index[1]+4])\n",
    "        theRealData.append(toAppend)"
   ]
  },
  {
   "cell_type": "markdown",
   "metadata": {},
   "source": [
    "(Comment this line out if you don't want to eliminate the unknown value prediction)"
   ]
  },
  {
   "cell_type": "code",
   "execution_count": 7,
   "metadata": {},
   "outputs": [],
   "source": [
    "theRealData = np.array(theRealData)\n",
    "theRealData = theRealData[theRealData[:, 0] != '?']"
   ]
  },
  {
   "cell_type": "markdown",
   "metadata": {},
   "source": [
    "This next line will make it so that it's classifying not bomb (which is true) and bomb (false) -- so if a cell is a bomb it will give it a false value. Think of it as an \"okay to click\" classification."
   ]
  },
  {
   "cell_type": "code",
   "execution_count": 8,
   "metadata": {},
   "outputs": [
    {
     "data": {
      "text/plain": [
       "array([['1.0', '-1', '-1', ..., '2.0', '0', '0'],\n",
       "       ['1.0', '-1', '-1', ..., '0', '0', '1.0'],\n",
       "       ['1.0', '-1', '-1', ..., '0', '1.0', '?'],\n",
       "       ...,\n",
       "       ['1.0', '1.0', '1.0', ..., '-1.', '-1.', '-1.'],\n",
       "       ['1.0', '1.0', '9.0', ..., '-1.', '-1.', '-1.'],\n",
       "       ['1.0', '9.0', '1.0', ..., '-1.', '-1.', '-1.']], dtype='<U3')"
      ]
     },
     "execution_count": 8,
     "metadata": {},
     "output_type": "execute_result"
    }
   ],
   "source": [
    "theRealData[:, 0] = ['1.0' if r else '0.0' for r in (theRealData[:, 0] != '9.0')]\n",
    "theRealData"
   ]
  },
  {
   "cell_type": "code",
   "execution_count": null,
   "metadata": {},
   "outputs": [],
   "source": [
    "theRealData = np.where(theRealData=='?', 10, theRealData)\n",
    "X, y = theRealData[:, 1:].astype(float).astype(str), theRealData[:, 0].astype(float).astype(str)\n",
    "\n",
    "enc = OneHotEncoder(handle_unknown='ignore')\n",
    "\n",
    "enc.fit(X)"
   ]
  },
  {
   "cell_type": "code",
   "execution_count": null,
   "metadata": {},
   "outputs": [],
   "source": [
    "print(enc.categories_)\n",
    "X = enc.transform(X).toarray()"
   ]
  },
  {
   "cell_type": "code",
   "execution_count": null,
   "metadata": {},
   "outputs": [],
   "source": [
    "X.shape"
   ]
  },
  {
   "cell_type": "code",
   "execution_count": null,
   "metadata": {},
   "outputs": [],
   "source": [
    "y.shape"
   ]
  },
  {
   "cell_type": "code",
   "execution_count": null,
   "metadata": {},
   "outputs": [],
   "source": [
    "X_train, X_test, y_train, y_test = train_test_split(X, y, test_size=0.33, random_state=42)"
   ]
  },
  {
   "cell_type": "markdown",
   "metadata": {},
   "source": [
    "The Hidden Layer \"24\" is inspired by the idea that each surrounding node has been one-hot-encoded into 12 features"
   ]
  },
  {
   "cell_type": "code",
   "execution_count": null,
   "metadata": {},
   "outputs": [],
   "source": [
    "clf = MLPClassifier(solver='adam', activation=\"tanh\", alpha=1e-5, hidden_layer_sizes=(24), verbose=True, max_iter=1000)"
   ]
  },
  {
   "cell_type": "code",
   "execution_count": null,
   "metadata": {},
   "outputs": [],
   "source": [
    "clf.fit(X_train, y_train)\n",
    "\n",
    "y_pred = clf.predict(X_test)\n",
    "\n",
    "print(accuracy_score(y_test, y_pred))"
   ]
  },
  {
   "cell_type": "code",
   "execution_count": null,
   "metadata": {},
   "outputs": [],
   "source": [
    "confusion_matrix(y_test, y_pred)"
   ]
  },
  {
   "cell_type": "code",
   "execution_count": null,
   "metadata": {},
   "outputs": [],
   "source": [
    "clf.predict_proba(X_test[0].reshape(1, -1))[0][1]"
   ]
  },
  {
   "cell_type": "markdown",
   "metadata": {},
   "source": [
    "# The AI that Plays Mine Sweeper"
   ]
  },
  {
   "cell_type": "code",
   "execution_count": null,
   "metadata": {},
   "outputs": [],
   "source": [
    "mygame = game.minesweeper(9, 9, 10, record=True)\n",
    "c = 0\n",
    "mygame.playOnNoteBook()\n",
    "\n",
    "#Our algorithm selects (0,0) first every time any way -- input is all the same on all unknown...\n",
    "#To test if there is a better place than this think about classifying better starting points... Differn't shapes...\n",
    "mygame.gameboard[0][0].click()\n",
    "\n",
    "while (mygame.visible != \"You have lost\" and mygame.visible != \"You have won!\"):\n",
    "    curbest = 0\n",
    "    bestindex = (0, 0)\n",
    "    data = np.array(mygame.visible).astype('<U3')\n",
    "    data = np.pad(data, (2), 'constant', constant_values=(-1))\n",
    "    data = np.where(data=='*', 0, data)\n",
    "    max_right = max(np.where(np.array(mygame.visible) != '?')[0])+1 \n",
    "    max_down = max(np.where(np.array(mygame.visible) != '?')[1])+1\n",
    "    innerData = (data[2:-2, 2:-2])[0:max_right+1, 0:max_down+1] \n",
    "    for index, x in np.ndenumerate(innerData):\n",
    "        if x == \"?\":\n",
    "            toAppend = []\n",
    "            toAppend.append(data[index[0], index[1]])\n",
    "            toAppend.append(data[index[0], index[1]+1])\n",
    "            toAppend.append(data[index[0], index[1]+2])\n",
    "            toAppend.append(data[index[0], index[1]+3])\n",
    "            toAppend.append(data[index[0], index[1]+4])\n",
    "            toAppend.append(data[index[0]+1, index[1]])\n",
    "            toAppend.append(data[index[0]+1, index[1]+1])\n",
    "            toAppend.append(data[index[0]+1, index[1]+2])\n",
    "            toAppend.append(data[index[0]+1, index[1]+3])\n",
    "            toAppend.append(data[index[0]+1, index[1]+4])\n",
    "            toAppend.append(data[index[0]+2, index[1]])\n",
    "            toAppend.append(data[index[0]+2, index[1]+1])\n",
    "            toAppend.append(data[index[0]+2, index[1]+3])\n",
    "            toAppend.append(data[index[0]+2, index[1]+4])\n",
    "            toAppend.append(data[index[0]+3, index[1]])\n",
    "            toAppend.append(data[index[0]+3, index[1]+1])\n",
    "            toAppend.append(data[index[0]+3, index[1]+2])\n",
    "            toAppend.append(data[index[0]+3, index[1]+3])\n",
    "            toAppend.append(data[index[0]+3, index[1]+4])\n",
    "            toAppend.append(data[index[0]+4, index[1]])\n",
    "            toAppend.append(data[index[0]+4, index[1]+1])\n",
    "            toAppend.append(data[index[0]+4, index[1]+2])\n",
    "            toAppend.append(data[index[0]+4, index[1]+3])\n",
    "            toAppend.append(data[index[0]+4, index[1]+4])\n",
    "            toAppend = np.array(toAppend)\n",
    "            toAppend = np.where(toAppend=='?', 10, toAppend)\n",
    "            toAppend = toAppend.astype(float).astype(str)\n",
    "            toAppend = toAppend.reshape(1,-1)\n",
    "            toAppend = enc.transform(toAppend).toarray()\n",
    "            if clf.predict_proba(toAppend)[0][1] > curbest:\n",
    "                curbest = clf.predict_proba(toAppend)[0][1]\n",
    "                bestindex = index\n",
    "            if clf.predict_proba(toAppend)[0][0] > 0.85:\n",
    "                mygame.visible[index[0]][index[1]] = 9.0\n",
    "                mygame.gameboard[index[0]][index[1]].description = \"9.0\"\n",
    "                print(index)\n",
    "    #print(curbest)\n",
    "    mygame.gameboard[bestindex[0]][bestindex[1]].click()\n",
    "    #mygame.clickCell(bestindex)\n",
    "    c+=1\n",
    "    \n",
    "    #print(c, bestindex)\n",
    "\n",
    "#print(mygame.visible)"
   ]
  },
  {
   "cell_type": "code",
   "execution_count": null,
   "metadata": {},
   "outputs": [],
   "source": [
    "mygame.gameRecord"
   ]
  },
  {
   "cell_type": "markdown",
   "metadata": {},
   "source": [
    "# Idea's to Improve:\n",
    "### Mess with Hyper Params\n",
    "### Mess with the solve function (make exact percentages etc)\n",
    "### Mess with what we are classifying (We just want to know if something is a bomb or not...\n",
    "### More Data surronding each point"
   ]
  },
  {
   "cell_type": "markdown",
   "metadata": {},
   "source": [
    "# Messing with Hyper Params"
   ]
  },
  {
   "cell_type": "code",
   "execution_count": null,
   "metadata": {},
   "outputs": [],
   "source": [
    "#clf2 = MLPClassifier(solver='lbfgs', alpha=1e-5, random_state=1)\n",
    "\n",
    "#clf2.fit(X_train, y_train)\n",
    "\n",
    "#y_pred = clf2.predict(X_test)\n",
    "\n",
    "#print(accuracy_score(y_test, y_pred))"
   ]
  },
  {
   "cell_type": "code",
   "execution_count": null,
   "metadata": {},
   "outputs": [],
   "source": [
    "# This one is inspired by the one hot incoding (Each feature was split into 11 parts)\n",
    "#clf3 = MLPClassifier(solver='lbfgs', alpha=1e-5, hidden_layer_sizes=(11), random_state=1)\n",
    "\n",
    "#clf3.fit(X_train, y_train)\n",
    "\n",
    "#y_pred = clf3.predict(X_test)\n",
    "\n",
    "#print(accuracy_score(y_test, y_pred))"
   ]
  },
  {
   "cell_type": "code",
   "execution_count": null,
   "metadata": {},
   "outputs": [],
   "source": [
    "#import pickle\n",
    "\n",
    "#filename = 'clf1.sav'\n",
    "#pickle.dump(clf, open(filename, 'wb'))\n",
    "\n",
    "#filename = 'clf2.sav'\n",
    "#pickle.dump(clf2, open(filename, 'wb'))\n",
    "\n",
    "#filename = 'clf3.sav'\n",
    "#pickle.dump(clf3, open(filename, 'wb'))"
   ]
  },
  {
   "cell_type": "code",
   "execution_count": null,
   "metadata": {},
   "outputs": [],
   "source": [
    "#clf3 = MLPClassifier(solver='lbfgs', alpha=1e-5, hidden_layer_sizes=(8, 3), random_state=1)\n",
    "\n",
    "#clf3.fit(X_train, y_train)\n",
    "\n",
    "#y_pred = clf3.predict(X_test)\n",
    "\n",
    "#print(accuracy_score(y_test, y_pred))"
   ]
  },
  {
   "cell_type": "code",
   "execution_count": null,
   "metadata": {},
   "outputs": [],
   "source": [
    "#filename = 'clf3.sav'\n",
    "#pickle.dump(clf3, open(filename, 'wb'))"
   ]
  },
  {
   "cell_type": "markdown",
   "metadata": {},
   "source": [
    "# Messing with what we are classifying"
   ]
  },
  {
   "cell_type": "code",
   "execution_count": null,
   "metadata": {},
   "outputs": [],
   "source": [
    "np.unique(y.shape)"
   ]
  },
  {
   "cell_type": "code",
   "execution_count": null,
   "metadata": {},
   "outputs": [],
   "source": []
  }
 ],
 "metadata": {
  "kernelspec": {
   "display_name": "Python 3",
   "language": "python",
   "name": "python3"
  },
  "language_info": {
   "codemirror_mode": {
    "name": "ipython",
    "version": 3
   },
   "file_extension": ".py",
   "mimetype": "text/x-python",
   "name": "python",
   "nbconvert_exporter": "python",
   "pygments_lexer": "ipython3",
   "version": "3.7.3"
  }
 },
 "nbformat": 4,
 "nbformat_minor": 1
}
