{
 "cells": [
  {
   "cell_type": "markdown",
   "metadata": {},
   "source": [
    "# AI To Play Mine Sweeper"
   ]
  },
  {
   "cell_type": "markdown",
   "metadata": {},
   "source": [
    "## The Game Object\n",
    "\n",
    "I developed the pythonic minesweeper. It is unit tested fairly throughly; up until visualizations and tracking features of the project present themselves. Note: The 9's are bombs; because it is impossible for a cell to be sourounded by more Bombs then there are cells surronding it."
   ]
  },
  {
   "cell_type": "code",
   "execution_count": 1,
   "metadata": {},
   "outputs": [],
   "source": [
    "import game\n",
    "import numpy as np\n",
    "from sklearn.neural_network import MLPClassifier\n",
    "from sklearn.model_selection import train_test_split\n",
    "from sklearn.metrics import accuracy_score, confusion_matrix\n",
    "from sklearn.preprocessing import OneHotEncoder\n",
    "from sklearn.ensemble import RandomForestClassifier, VotingClassifier\n",
    "from sklearn.naive_bayes import GaussianNB\n",
    "from ipywidgets import IntProgress\n",
    "from IPython.display import display\n",
    "import random"
   ]
  },
  {
   "cell_type": "code",
   "execution_count": 2,
   "metadata": {},
   "outputs": [
    {
     "data": {
      "text/plain": [
       "<module 'game' from '/home/lukenelson/dev/MineSweeperAI/game.py'>"
      ]
     },
     "execution_count": 2,
     "metadata": {},
     "output_type": "execute_result"
    }
   ],
   "source": [
    "from importlib import reload\n",
    "\n",
    "reload(game)"
   ]
  },
  {
   "cell_type": "code",
   "execution_count": 3,
   "metadata": {},
   "outputs": [
    {
     "name": "stdout",
     "output_type": "stream",
     "text": [
      "1.0 \t9.0 \t2.0 \t1.0 \t2.0 \t3.0 \t9.0 \t9.0 \t9.0 \t2.0 \t1.0 \t1.0 \t9.0 \t1.0 \t\n",
      "\n",
      "1.0 \t1.0 \t2.0 \t9.0 \t4.0 \t9.0 \t9.0 \t5.0 \t5.0 \t9.0 \t3.0 \t2.0 \t2.0 \t1.0 \t\n",
      "\n",
      "0.0 \t0.0 \t1.0 \t2.0 \t9.0 \t9.0 \t4.0 \t3.0 \t9.0 \t9.0 \t4.0 \t9.0 \t1.0 \t0.0 \t\n",
      "\n",
      "0.0 \t0.0 \t0.0 \t1.0 \t3.0 \t9.0 \t2.0 \t2.0 \t9.0 \t5.0 \t9.0 \t3.0 \t2.0 \t1.0 \t\n",
      "\n",
      "1.0 \t1.0 \t1.0 \t0.0 \t2.0 \t2.0 \t2.0 \t1.0 \t1.0 \t3.0 \t9.0 \t3.0 \t2.0 \t9.0 \t\n",
      "\n",
      "1.0 \t9.0 \t1.0 \t1.0 \t2.0 \t9.0 \t1.0 \t0.0 \t0.0 \t2.0 \t2.0 \t3.0 \t9.0 \t2.0 \t\n",
      "\n",
      "1.0 \t1.0 \t1.0 \t1.0 \t9.0 \t3.0 \t2.0 \t0.0 \t0.0 \t1.0 \t9.0 \t2.0 \t1.0 \t1.0 \t\n",
      "\n",
      "0.0 \t0.0 \t0.0 \t1.0 \t2.0 \t9.0 \t1.0 \t0.0 \t0.0 \t1.0 \t1.0 \t1.0 \t0.0 \t0.0 \t\n",
      "\n"
     ]
    }
   ],
   "source": [
    "mygame = game.minesweeper(14, 8, 25)\n",
    "\n",
    "\n",
    "for row in mygame.board:\n",
    "    for c in row:\n",
    "        print(c, \"\\t\", end=\"\")\n",
    "    print(\"\\n\")\n",
    "#mygame.clickCell((0,0))"
   ]
  },
  {
   "cell_type": "markdown",
   "metadata": {},
   "source": [
    "## Visualizing the Game\n",
    "\n",
    "The following is a rough gui for the game. Feel free to mess around; when you loose all of the cells will disable and you will be alerted. When you win you will be alerted. Note: If you want to start a new game you will have to run the cell above because you need to make a new object to start over"
   ]
  },
  {
   "cell_type": "code",
   "execution_count": 4,
   "metadata": {},
   "outputs": [
    {
     "data": {
      "application/vnd.jupyter.widget-view+json": {
       "model_id": "17156a5b89844fbb8ada5836c36bdc9b",
       "version_major": 2,
       "version_minor": 0
      },
      "text/plain": [
       "HBox(children=(Button(layout=Layout(height='30px', padding='0px', width='30px'), style=ButtonStyle(button_colo…"
      ]
     },
     "metadata": {},
     "output_type": "display_data"
    },
    {
     "data": {
      "application/vnd.jupyter.widget-view+json": {
       "model_id": "5c0e411a0af143c0a2e1be20cbcbc42f",
       "version_major": 2,
       "version_minor": 0
      },
      "text/plain": [
       "HBox(children=(Button(layout=Layout(height='30px', padding='0px', width='30px'), style=ButtonStyle(button_colo…"
      ]
     },
     "metadata": {},
     "output_type": "display_data"
    },
    {
     "data": {
      "application/vnd.jupyter.widget-view+json": {
       "model_id": "dad7884317e641ff9197ac98bac2f932",
       "version_major": 2,
       "version_minor": 0
      },
      "text/plain": [
       "HBox(children=(Button(layout=Layout(height='30px', padding='0px', width='30px'), style=ButtonStyle(button_colo…"
      ]
     },
     "metadata": {},
     "output_type": "display_data"
    },
    {
     "data": {
      "application/vnd.jupyter.widget-view+json": {
       "model_id": "af15d95cdcc2416990d7d82ca9f098b8",
       "version_major": 2,
       "version_minor": 0
      },
      "text/plain": [
       "HBox(children=(Button(layout=Layout(height='30px', padding='0px', width='30px'), style=ButtonStyle(button_colo…"
      ]
     },
     "metadata": {},
     "output_type": "display_data"
    },
    {
     "data": {
      "application/vnd.jupyter.widget-view+json": {
       "model_id": "a8bdee9629304fbf8e1dca9a286ae0b2",
       "version_major": 2,
       "version_minor": 0
      },
      "text/plain": [
       "HBox(children=(Button(layout=Layout(height='30px', padding='0px', width='30px'), style=ButtonStyle(button_colo…"
      ]
     },
     "metadata": {},
     "output_type": "display_data"
    },
    {
     "data": {
      "application/vnd.jupyter.widget-view+json": {
       "model_id": "0dd37353f9cb454583df1e300cae1e94",
       "version_major": 2,
       "version_minor": 0
      },
      "text/plain": [
       "HBox(children=(Button(layout=Layout(height='30px', padding='0px', width='30px'), style=ButtonStyle(button_colo…"
      ]
     },
     "metadata": {},
     "output_type": "display_data"
    },
    {
     "data": {
      "application/vnd.jupyter.widget-view+json": {
       "model_id": "f2de5a22722e4e4985bd9012d7e7a52c",
       "version_major": 2,
       "version_minor": 0
      },
      "text/plain": [
       "HBox(children=(Button(layout=Layout(height='30px', padding='0px', width='30px'), style=ButtonStyle(button_colo…"
      ]
     },
     "metadata": {},
     "output_type": "display_data"
    },
    {
     "data": {
      "application/vnd.jupyter.widget-view+json": {
       "model_id": "c86f7cee950843ba93e35e9d1b12485c",
       "version_major": 2,
       "version_minor": 0
      },
      "text/plain": [
       "HBox(children=(Button(layout=Layout(height='30px', padding='0px', width='30px'), style=ButtonStyle(button_colo…"
      ]
     },
     "metadata": {},
     "output_type": "display_data"
    }
   ],
   "source": [
    "mygame.playOnNoteBook()"
   ]
  },
  {
   "cell_type": "markdown",
   "metadata": {},
   "source": [
    "## Neruel Network to Play Mine Sweeper (Classification Approach) \n",
    "\n",
    "We will attempt to play minesweeper by generating lots of games (which will be used as our data). \n",
    "\n",
    "Things that we'll need to do:\n",
    "\n",
    "Pad the game board with some element.\n",
    "This way we distiguish the edges of the game board (all of our data needs to have the same number of features) \n",
    "\n",
    "Represent \"unknown squares\" in our classification we will have some data that are \"completed games\" (the whole board is visible) and others where the game is 80% finished; 60%; 40% and 20%. (Our \"Solve Percent\" utility will help us with this)"
   ]
  },
  {
   "cell_type": "code",
   "execution_count": 5,
   "metadata": {},
   "outputs": [
    {
     "data": {
      "application/vnd.jupyter.widget-view+json": {
       "model_id": "68b3a7e2eb804191a85f2858b7fe3d0e",
       "version_major": 2,
       "version_minor": 0
      },
      "text/plain": [
       "HBox(children=(Button(description='1', disabled=True, layout=Layout(height='30px', padding='0px', width='30px'…"
      ]
     },
     "metadata": {},
     "output_type": "display_data"
    },
    {
     "data": {
      "application/vnd.jupyter.widget-view+json": {
       "model_id": "2a14ba5b0fe34acfbdfdd14ceb725631",
       "version_major": 2,
       "version_minor": 0
      },
      "text/plain": [
       "HBox(children=(Button(description='9', disabled=True, layout=Layout(height='30px', padding='0px', width='30px'…"
      ]
     },
     "metadata": {},
     "output_type": "display_data"
    },
    {
     "data": {
      "application/vnd.jupyter.widget-view+json": {
       "model_id": "6bc5801b9125435c9d749a907675852b",
       "version_major": 2,
       "version_minor": 0
      },
      "text/plain": [
       "HBox(children=(Button(description='1', disabled=True, layout=Layout(height='30px', padding='0px', width='30px'…"
      ]
     },
     "metadata": {},
     "output_type": "display_data"
    },
    {
     "data": {
      "application/vnd.jupyter.widget-view+json": {
       "model_id": "7d0b6d72915e4e6cb567725d9ee3cfbf",
       "version_major": 2,
       "version_minor": 0
      },
      "text/plain": [
       "HBox(children=(Button(description='2', disabled=True, layout=Layout(height='30px', padding='0px', width='30px'…"
      ]
     },
     "metadata": {},
     "output_type": "display_data"
    },
    {
     "data": {
      "application/vnd.jupyter.widget-view+json": {
       "model_id": "c7eba7f1c0d547e99988e1f08b3b776c",
       "version_major": 2,
       "version_minor": 0
      },
      "text/plain": [
       "HBox(children=(Button(description='9', disabled=True, layout=Layout(height='30px', padding='0px', width='30px'…"
      ]
     },
     "metadata": {},
     "output_type": "display_data"
    },
    {
     "data": {
      "application/vnd.jupyter.widget-view+json": {
       "model_id": "015090b34ead4c588a25d078b772c340",
       "version_major": 2,
       "version_minor": 0
      },
      "text/plain": [
       "HBox(children=(Button(description='3', disabled=True, layout=Layout(height='30px', padding='0px', width='30px'…"
      ]
     },
     "metadata": {},
     "output_type": "display_data"
    },
    {
     "data": {
      "application/vnd.jupyter.widget-view+json": {
       "model_id": "9d07d72c7495492bb9371e8f10293350",
       "version_major": 2,
       "version_minor": 0
      },
      "text/plain": [
       "HBox(children=(Button(description='1', disabled=True, layout=Layout(height='30px', padding='0px', width='30px'…"
      ]
     },
     "metadata": {},
     "output_type": "display_data"
    },
    {
     "data": {
      "application/vnd.jupyter.widget-view+json": {
       "model_id": "9e143829b0ce4851ad8bc6bcca877750",
       "version_major": 2,
       "version_minor": 0
      },
      "text/plain": [
       "HBox(children=(Button(description='1', disabled=True, layout=Layout(height='30px', padding='0px', width='30px'…"
      ]
     },
     "metadata": {},
     "output_type": "display_data"
    }
   ],
   "source": [
    "mygame = game.minesweeper(14, 8, 25)\n",
    "mygame.solvePercent(.2)\n",
    "mygame.playOnNoteBook()"
   ]
  },
  {
   "cell_type": "code",
   "execution_count": 6,
   "metadata": {},
   "outputs": [],
   "source": [
    "theData = []\n",
    "N = 2 #N represents the number of surronding squares to get\n",
    "\n",
    "\n",
    "for p in [.8, .7, .6, .5, .4, .3, .2, .1]:\n",
    "    for i in range(1500):\n",
    "        bomb_ratio = random.uniform(.1, .25)\n",
    "        width = random.randint(8,16)\n",
    "        height = random.randint(8,16)\n",
    "        mygame = game.minesweeper(width, height, height*width*bomb_ratio)\n",
    "        mygame.solvePercent(p)\n",
    "        dataToAdd = np.pad(mygame.visible, (N), 'constant', constant_values=(-1))\n",
    "        dataToAdd = np.where(dataToAdd=='*', 0, dataToAdd)\n",
    "        theData.append(dataToAdd)\n",
    "        \n",
    "for i in range(1500):\n",
    "    mygame = game.minesweeper(16, 30, 99)\n",
    "    dataToAdd = np.pad(mygame.board, (N), 'constant', constant_values=(-1))\n",
    "    theData.append(dataToAdd.astype('<U3'))\n"
   ]
  },
  {
   "cell_type": "code",
   "execution_count": 7,
   "metadata": {},
   "outputs": [],
   "source": [
    "theRealData = []\n",
    "\n",
    "\n",
    "for data in theData:\n",
    "    innerData = data[N:-N, N:-N]\n",
    "    for index, x in np.ndenumerate(innerData):\n",
    "        toAppend = []\n",
    "        toAppend.append(x)\n",
    "        for i in range((2*N+1)**2):\n",
    "            if i != (((2*N+1)**2)//2):\n",
    "                a = i//(2*N+1)\n",
    "                b = i%(2*N+1)\n",
    "                toAppend.append(data[index[0] + a, index[1] + b])\n",
    "        theRealData.append(toAppend)"
   ]
  },
  {
   "cell_type": "markdown",
   "metadata": {},
   "source": [
    "(Comment this line out if you don't want to eliminate the unknown value prediction)"
   ]
  },
  {
   "cell_type": "code",
   "execution_count": 8,
   "metadata": {},
   "outputs": [],
   "source": [
    "theRealData = np.array(theRealData)\n",
    "theRealData = theRealData[theRealData[:, 0] != '?']"
   ]
  },
  {
   "cell_type": "markdown",
   "metadata": {},
   "source": [
    "This next line will make it so that it's classifying not bomb (which is true) and bomb (false) -- so if a cell is a bomb it will give it a false value. Think of it as an \"okay to click\" classification."
   ]
  },
  {
   "cell_type": "code",
   "execution_count": 9,
   "metadata": {},
   "outputs": [
    {
     "data": {
      "text/plain": [
       "array([['1.0', '-1', '-1', ..., '?', '1.0', '0'],\n",
       "       ['1.0', '-1', '-1', ..., '1.0', '0', '0'],\n",
       "       ['1.0', '-1', '-1', ..., '0', '0', '1.0'],\n",
       "       ...,\n",
       "       ['1.0', '1.0', '1.0', ..., '-1.', '-1.', '-1.'],\n",
       "       ['1.0', '1.0', '1.0', ..., '-1.', '-1.', '-1.'],\n",
       "       ['1.0', '1.0', '2.0', ..., '-1.', '-1.', '-1.']], dtype='<U3')"
      ]
     },
     "execution_count": 9,
     "metadata": {},
     "output_type": "execute_result"
    }
   ],
   "source": [
    "theRealData[:, 0] = ['1.0' if r else '0.0' for r in (theRealData[:, 0] != '9.0')]\n",
    "theRealData"
   ]
  },
  {
   "cell_type": "code",
   "execution_count": 10,
   "metadata": {},
   "outputs": [
    {
     "data": {
      "text/plain": [
       "OneHotEncoder(categorical_features=None, categories=None,\n",
       "       dtype=<class 'numpy.float64'>, handle_unknown='ignore',\n",
       "       n_values=None, sparse=True)"
      ]
     },
     "execution_count": 10,
     "metadata": {},
     "output_type": "execute_result"
    }
   ],
   "source": [
    "theRealData = np.where(theRealData=='?', 10, theRealData)\n",
    "X, y = theRealData[:, 1:].astype(float).astype(str), theRealData[:, 0].astype(float).astype(str)\n",
    "\n",
    "enc = OneHotEncoder(handle_unknown='ignore')\n",
    "\n",
    "enc.fit(X)"
   ]
  },
  {
   "cell_type": "code",
   "execution_count": 11,
   "metadata": {},
   "outputs": [
    {
     "name": "stdout",
     "output_type": "stream",
     "text": [
      "[array(['-1.0', '0.0', '1.0', '10.0', '2.0', '3.0', '4.0', '5.0', '6.0',\n",
      "       '7.0', '9.0'], dtype='<U32'), array(['-1.0', '0.0', '1.0', '10.0', '2.0', '3.0', '4.0', '5.0', '6.0',\n",
      "       '7.0', '9.0'], dtype='<U32'), array(['-1.0', '0.0', '1.0', '10.0', '2.0', '3.0', '4.0', '5.0', '6.0',\n",
      "       '7.0', '9.0'], dtype='<U32'), array(['-1.0', '0.0', '1.0', '10.0', '2.0', '3.0', '4.0', '5.0', '6.0',\n",
      "       '7.0', '9.0'], dtype='<U32'), array(['-1.0', '0.0', '1.0', '10.0', '2.0', '3.0', '4.0', '5.0', '6.0',\n",
      "       '7.0', '9.0'], dtype='<U32'), array(['-1.0', '0.0', '1.0', '10.0', '2.0', '3.0', '4.0', '5.0', '6.0',\n",
      "       '7.0', '9.0'], dtype='<U32'), array(['-1.0', '0.0', '1.0', '10.0', '2.0', '3.0', '4.0', '5.0', '6.0',\n",
      "       '7.0', '9.0'], dtype='<U32'), array(['-1.0', '0.0', '1.0', '10.0', '2.0', '3.0', '4.0', '5.0', '6.0',\n",
      "       '7.0', '9.0'], dtype='<U32'), array(['-1.0', '0.0', '1.0', '10.0', '2.0', '3.0', '4.0', '5.0', '6.0',\n",
      "       '7.0', '9.0'], dtype='<U32'), array(['-1.0', '0.0', '1.0', '10.0', '2.0', '3.0', '4.0', '5.0', '6.0',\n",
      "       '7.0', '9.0'], dtype='<U32'), array(['-1.0', '0.0', '1.0', '10.0', '2.0', '3.0', '4.0', '5.0', '6.0',\n",
      "       '7.0', '9.0'], dtype='<U32'), array(['-1.0', '0.0', '1.0', '10.0', '2.0', '3.0', '4.0', '5.0', '6.0',\n",
      "       '7.0', '9.0'], dtype='<U32'), array(['-1.0', '0.0', '1.0', '10.0', '2.0', '3.0', '4.0', '5.0', '6.0',\n",
      "       '7.0', '9.0'], dtype='<U32'), array(['-1.0', '0.0', '1.0', '10.0', '2.0', '3.0', '4.0', '5.0', '6.0',\n",
      "       '7.0', '9.0'], dtype='<U32'), array(['-1.0', '0.0', '1.0', '10.0', '2.0', '3.0', '4.0', '5.0', '6.0',\n",
      "       '7.0', '9.0'], dtype='<U32'), array(['-1.0', '0.0', '1.0', '10.0', '2.0', '3.0', '4.0', '5.0', '6.0',\n",
      "       '7.0', '9.0'], dtype='<U32'), array(['-1.0', '0.0', '1.0', '10.0', '2.0', '3.0', '4.0', '5.0', '6.0',\n",
      "       '7.0', '9.0'], dtype='<U32'), array(['-1.0', '0.0', '1.0', '10.0', '2.0', '3.0', '4.0', '5.0', '6.0',\n",
      "       '7.0', '9.0'], dtype='<U32'), array(['-1.0', '0.0', '1.0', '10.0', '2.0', '3.0', '4.0', '5.0', '6.0',\n",
      "       '7.0', '9.0'], dtype='<U32'), array(['-1.0', '0.0', '1.0', '10.0', '2.0', '3.0', '4.0', '5.0', '6.0',\n",
      "       '7.0', '9.0'], dtype='<U32'), array(['-1.0', '0.0', '1.0', '10.0', '2.0', '3.0', '4.0', '5.0', '6.0',\n",
      "       '7.0', '9.0'], dtype='<U32'), array(['-1.0', '0.0', '1.0', '10.0', '2.0', '3.0', '4.0', '5.0', '6.0',\n",
      "       '7.0', '9.0'], dtype='<U32'), array(['-1.0', '0.0', '1.0', '10.0', '2.0', '3.0', '4.0', '5.0', '6.0',\n",
      "       '7.0', '9.0'], dtype='<U32'), array(['-1.0', '0.0', '1.0', '10.0', '2.0', '3.0', '4.0', '5.0', '6.0',\n",
      "       '7.0', '9.0'], dtype='<U32')]\n"
     ]
    }
   ],
   "source": [
    "#print([cat.shape for cat in enc.categories_])\n",
    "print(enc.categories_)\n",
    "X = enc.transform(X).toarray()"
   ]
  },
  {
   "cell_type": "code",
   "execution_count": 12,
   "metadata": {},
   "outputs": [
    {
     "data": {
      "text/plain": [
       "(1754147, 264)"
      ]
     },
     "execution_count": 12,
     "metadata": {},
     "output_type": "execute_result"
    }
   ],
   "source": [
    "X.shape"
   ]
  },
  {
   "cell_type": "code",
   "execution_count": 13,
   "metadata": {},
   "outputs": [
    {
     "data": {
      "text/plain": [
       "(1754147,)"
      ]
     },
     "execution_count": 13,
     "metadata": {},
     "output_type": "execute_result"
    }
   ],
   "source": [
    "y.shape"
   ]
  },
  {
   "cell_type": "code",
   "execution_count": 14,
   "metadata": {},
   "outputs": [],
   "source": [
    "X_train, X_test, y_train, y_test = train_test_split(X, y, test_size=0.33, random_state=42)"
   ]
  },
  {
   "cell_type": "code",
   "execution_count": 15,
   "metadata": {},
   "outputs": [
    {
     "data": {
      "text/plain": [
       "\"unique, counts = np.unique(y_train, return_counts=True)\\n#print(unique, counts)\\noneindes = np.where(y_train=='1.0')[0]\\nnp.random.shuffle(oneindes)\\nnewTrainIndies = np.append(oneindes[:counts[0]], np.where(y_train=='0.0')[0])\\n#np.unique(y_train[newTrainIndies], return_counts=True)\\ny_train = y_train[newTrainIndies]\\nX_train = X_train[newTrainIndies]\""
      ]
     },
     "execution_count": 15,
     "metadata": {},
     "output_type": "execute_result"
    }
   ],
   "source": [
    "\"\"\"unique, counts = np.unique(y_train, return_counts=True)\n",
    "#print(unique, counts)\n",
    "oneindes = np.where(y_train=='1.0')[0]\n",
    "np.random.shuffle(oneindes)\n",
    "newTrainIndies = np.append(oneindes[:counts[0]], np.where(y_train=='0.0')[0])\n",
    "#np.unique(y_train[newTrainIndies], return_counts=True)\n",
    "y_train = y_train[newTrainIndies]\n",
    "X_train = X_train[newTrainIndies]\"\"\""
   ]
  },
  {
   "cell_type": "markdown",
   "metadata": {},
   "source": [
    "The Hidden Layer \"24\" is inspired by the idea that each surrounding node has been one-hot-encoded into 12 features"
   ]
  },
  {
   "cell_type": "code",
   "execution_count": 16,
   "metadata": {},
   "outputs": [],
   "source": [
    "clf = MLPClassifier(solver='adam', activation=\"tanh\", alpha=1e-5, hidden_layer_sizes=(100, 100), verbose=True)"
   ]
  },
  {
   "cell_type": "code",
   "execution_count": 17,
   "metadata": {},
   "outputs": [
    {
     "name": "stdout",
     "output_type": "stream",
     "text": [
      "Iteration 1, loss = 0.07617874\n",
      "Iteration 2, loss = 0.04858983\n",
      "Iteration 3, loss = 0.04465398\n",
      "Iteration 4, loss = 0.04235168\n",
      "Iteration 5, loss = 0.04081377\n",
      "Iteration 6, loss = 0.03954967\n",
      "Iteration 7, loss = 0.03855964\n",
      "Iteration 8, loss = 0.03761411\n",
      "Iteration 9, loss = 0.03667858\n",
      "Iteration 10, loss = 0.03594042\n",
      "Iteration 11, loss = 0.03516730\n",
      "Iteration 12, loss = 0.03449253\n",
      "Iteration 13, loss = 0.03379877\n",
      "Iteration 14, loss = 0.03324135\n",
      "Iteration 15, loss = 0.03255773\n",
      "Iteration 16, loss = 0.03213016\n",
      "Iteration 17, loss = 0.03150006\n",
      "Iteration 18, loss = 0.03102578\n",
      "Iteration 19, loss = 0.03055755\n",
      "Iteration 20, loss = 0.03004622\n",
      "Iteration 21, loss = 0.02961723\n",
      "Iteration 22, loss = 0.02915911\n",
      "Iteration 23, loss = 0.02880253\n",
      "Iteration 24, loss = 0.02833926\n",
      "Iteration 25, loss = 0.02802860\n",
      "Iteration 26, loss = 0.02767822\n",
      "Iteration 27, loss = 0.02718538\n",
      "Iteration 28, loss = 0.02692918\n",
      "Iteration 29, loss = 0.02655132\n",
      "Iteration 30, loss = 0.02635415\n",
      "Iteration 31, loss = 0.02591840\n",
      "Iteration 32, loss = 0.02562469\n",
      "Iteration 33, loss = 0.02532893\n",
      "Iteration 34, loss = 0.02511600\n",
      "Iteration 35, loss = 0.02478903\n",
      "Iteration 36, loss = 0.02451320\n",
      "Iteration 37, loss = 0.02435214\n",
      "Iteration 38, loss = 0.02399052\n",
      "Iteration 39, loss = 0.02375327\n",
      "Iteration 40, loss = 0.02359986\n",
      "Iteration 41, loss = 0.02320096\n",
      "Iteration 42, loss = 0.02310842\n",
      "Iteration 43, loss = 0.02277034\n",
      "Iteration 44, loss = 0.02269344\n",
      "Iteration 45, loss = 0.02247425\n",
      "Iteration 46, loss = 0.02220226\n",
      "Iteration 47, loss = 0.02204346\n",
      "Iteration 48, loss = 0.02181565\n",
      "Iteration 49, loss = 0.02169137\n",
      "Iteration 50, loss = 0.02151695\n",
      "Iteration 51, loss = 0.02133861\n",
      "Iteration 52, loss = 0.02117715\n",
      "Iteration 53, loss = 0.02091061\n",
      "Iteration 54, loss = 0.02083949\n",
      "Iteration 55, loss = 0.02068098\n",
      "Iteration 56, loss = 0.02066039\n",
      "Iteration 57, loss = 0.02052114\n",
      "Iteration 58, loss = 0.02027563\n",
      "Iteration 59, loss = 0.02014205\n",
      "Iteration 60, loss = 0.02008086\n",
      "Iteration 61, loss = 0.01981536\n",
      "Iteration 62, loss = 0.01978712\n",
      "Iteration 63, loss = 0.01977860\n",
      "Iteration 64, loss = 0.01944413\n",
      "Iteration 65, loss = 0.01948240\n",
      "Iteration 66, loss = 0.01922236\n",
      "Iteration 67, loss = 0.01926753\n",
      "Iteration 68, loss = 0.01902158\n",
      "Iteration 69, loss = 0.01899447\n",
      "Iteration 70, loss = 0.01889329\n",
      "Iteration 71, loss = 0.01877400\n",
      "Iteration 72, loss = 0.01862321\n",
      "Iteration 73, loss = 0.01862305\n",
      "Iteration 74, loss = 0.01851112\n",
      "Iteration 75, loss = 0.01840396\n",
      "Iteration 76, loss = 0.01824529\n",
      "Iteration 77, loss = 0.01834753\n",
      "Iteration 78, loss = 0.01810979\n",
      "Iteration 79, loss = 0.01808859\n",
      "Iteration 80, loss = 0.01802109\n",
      "Iteration 81, loss = 0.01783005\n",
      "Iteration 82, loss = 0.01790850\n",
      "Iteration 83, loss = 0.01773837\n",
      "Iteration 84, loss = 0.01771071\n",
      "Iteration 85, loss = 0.01768672\n",
      "Iteration 86, loss = 0.01749539\n",
      "Iteration 87, loss = 0.01750869\n",
      "Iteration 88, loss = 0.01738442\n",
      "Iteration 89, loss = 0.01740289\n",
      "Iteration 90, loss = 0.01719722\n",
      "Iteration 91, loss = 0.01718114\n",
      "Iteration 92, loss = 0.01724247\n",
      "Iteration 93, loss = 0.01709807\n",
      "Iteration 94, loss = 0.01706092\n",
      "Iteration 95, loss = 0.01700426\n",
      "Iteration 96, loss = 0.01695411\n",
      "Iteration 97, loss = 0.01688116\n",
      "Iteration 98, loss = 0.01682346\n",
      "Iteration 99, loss = 0.01681585\n",
      "Iteration 100, loss = 0.01666324\n",
      "Iteration 101, loss = 0.01671789\n",
      "Iteration 102, loss = 0.01670071\n",
      "Iteration 103, loss = 0.01660446\n",
      "Iteration 104, loss = 0.01648951\n",
      "Iteration 105, loss = 0.01639197\n",
      "Iteration 106, loss = 0.01637618\n",
      "Iteration 107, loss = 0.01638435\n",
      "Iteration 108, loss = 0.01627795\n",
      "Iteration 109, loss = 0.01637478\n",
      "Iteration 110, loss = 0.01611470\n",
      "Iteration 111, loss = 0.01622540\n",
      "Iteration 112, loss = 0.01608771\n",
      "Iteration 113, loss = 0.01616130\n",
      "Iteration 114, loss = 0.01599133\n",
      "Iteration 115, loss = 0.01600912\n",
      "Iteration 116, loss = 0.01592200\n",
      "Iteration 117, loss = 0.01592846\n",
      "Iteration 118, loss = 0.01593736\n",
      "Iteration 119, loss = 0.01582849\n",
      "Iteration 120, loss = 0.01576074\n",
      "Iteration 121, loss = 0.01571354\n",
      "Training loss did not improve more than tol=0.000100 for 10 consecutive epochs. Stopping.\n",
      "0.9790194327213929\n",
      "[[ 72438   7335]\n",
      " [  4810 494286]]\n"
     ]
    }
   ],
   "source": [
    "clf.fit(X_train, y_train)\n",
    "\n",
    "y_pred = clf.predict(X_test)\n",
    "\n",
    "print(accuracy_score(y_test, y_pred))\n",
    "print(confusion_matrix(y_test, y_pred))"
   ]
  },
  {
   "cell_type": "code",
   "execution_count": 18,
   "metadata": {},
   "outputs": [
    {
     "data": {
      "text/plain": [
       "0.9999999999964186"
      ]
     },
     "execution_count": 18,
     "metadata": {},
     "output_type": "execute_result"
    }
   ],
   "source": [
    "clf.predict_proba(X_test[0].reshape(1, -1))[0][1]"
   ]
  },
  {
   "cell_type": "markdown",
   "metadata": {},
   "source": [
    "# The AI that Plays Mine Sweeper"
   ]
  },
  {
   "cell_type": "code",
   "execution_count": null,
   "metadata": {},
   "outputs": [],
   "source": []
  },
  {
   "cell_type": "code",
   "execution_count": 26,
   "metadata": {},
   "outputs": [],
   "source": [
    "class getBoundry:\n",
    "    def __init__(self):\n",
    "        self.visited = []\n",
    "        self.toReturn = []\n",
    "        self.perim = []\n",
    "    def getBoundry(self, gameObj, index):\n",
    "        if gameObj.visible[index[0]][index[1]] !=\"?\" and index not in self.visited:\n",
    "            self.visited.append(index)\n",
    "            self.toReturn.append(index)\n",
    "            for i in [self.getBoundry(gameObj, i) for i in gameObj.getSurroundingSquares(index)]:\n",
    "                gameObj.getSurroundingSquares(index)\n",
    "        elif index not in self.visited and (index[0] <= gameObj.width and index[1] <= gameObj.height):\n",
    "            self.visited.append(index)\n",
    "            self.toReturn.append(index)\n",
    "            self.perim.append(index)\n",
    "            for j in gameObj.getSurroundingSquares(index):\n",
    "                if j not in self.toReturn:\n",
    "                    self.perim.append(j)\n",
    "        return self.toReturn\n",
    "\n",
    "    \n",
    "class AIPlayer():\n",
    "    def __init__(self, mygame, watch=False, initClick=(1,1), bombGuessTol = .85, wait=False):\n",
    "        if watch:\n",
    "            mygame.playOnNoteBook()\n",
    "\n",
    "        #Our algorithm selects (0,0) first every time any way -- input is all the same on all unknown...\n",
    "        #To test if there is a better place than this think about classifying better starting points... Differn't shapes...\n",
    "\n",
    "        if watch:\n",
    "            mygame.gameboard[initClick[0]][initClick[1]].click()\n",
    "        else:\n",
    "            mygame.clickCell(initClick)\n",
    "\n",
    "        data = np.array(mygame.visible).astype('<U3')\n",
    "        data = np.pad(data, (N), 'constant', constant_values=(-1))\n",
    "        self.data = np.where(data=='*', 0, data)\n",
    "        innerData = data[N:-N, N:-N]\n",
    "\n",
    "        while (\"?\" in \" \".join([\" \".join(map(str, row)) for row in mygame.visible]) and not wait):\n",
    "            curbest = 0\n",
    "            bestindex = (0, 0)\n",
    "            data = np.array(mygame.visible).astype('<U3')\n",
    "            data = np.pad(data, (N), 'constant', constant_values=(-1))\n",
    "            self.data = np.where(data=='*', 0, data)\n",
    "            boundObject = getBoundry()\n",
    "            boundObject.getBoundry(mygame, initClick)\n",
    "            boundry = list(filter(lambda x: mygame.visible[x[0]][x[1]]==\"?\", sorted(list(set(boundObject.perim)))))\n",
    "            proba = self.getProba(boundry)\n",
    "            bestindex = boundry[np.argmax(proba[:, 1])]\n",
    "            for bombGuess in np.where(proba[:,0] > bombGuessTol)[0]:\n",
    "                bombGuessIndex = boundry[bombGuess]\n",
    "                mygame.flag(bombGuessIndex)\n",
    "                if watch:\n",
    "                    mygame.gameboard[bombGuessIndex[0]][bombGuessIndex[1]].description = \"9.0\"\n",
    "            if watch:\n",
    "                mygame.gameboard[bestindex[0]][bestindex[1]].click()\n",
    "            else:\n",
    "                mygame.clickCell(bestindex)\n",
    "                \n",
    "    def getProba(self, boundry):\n",
    "        toReturn = []\n",
    "        for index in boundry:\n",
    "            toAppend = []\n",
    "            for i in range((2*N+1)**2):\n",
    "                if i != (((2*N+1)**2)//2):\n",
    "                    a = i//(2*N+1)\n",
    "                    b = i%(2*N+1)\n",
    "                    toAppend.append(self.data[index[0] + a, index[1] + b])\n",
    "            toReturn.append(toAppend)\n",
    "        toReturn = np.array(toReturn)\n",
    "        toReturn = np.where(toReturn=='?', 10, toReturn)\n",
    "        toReturn = toReturn.astype(float).astype(str)\n",
    "        #toReturn = toReturn.reshape(1,-1)\n",
    "        toReturn = enc.transform(toReturn).toarray()\n",
    "        return clf.predict_proba(toReturn)\n",
    "\n",
    "        "
   ]
  },
  {
   "cell_type": "code",
   "execution_count": 27,
   "metadata": {},
   "outputs": [
    {
     "data": {
      "application/vnd.jupyter.widget-view+json": {
       "model_id": "3160b9e8cd49403ca5519708a26cdaef",
       "version_major": 2,
       "version_minor": 0
      },
      "text/plain": [
       "IntProgress(value=0, max=1000)"
      ]
     },
     "metadata": {},
     "output_type": "display_data"
    },
    {
     "name": "stdout",
     "output_type": "stream",
     "text": [
      "The AI won 289 times and lose 711 times\n"
     ]
    }
   ],
   "source": [
    "wins = 0\n",
    "loses = 0\n",
    "gamesToPlay = 1000\n",
    "\n",
    "f = IntProgress(min=0, max=gamesToPlay) # instantiate the bar\n",
    "display(f) # display the bar\n",
    "lossGames = []\n",
    "\n",
    "for _ in range(gamesToPlay):\n",
    "    f.value += 1\n",
    "    mygame = game.minesweeper(9, 9, 10, record=True)\n",
    "    AIPlayer(mygame, bombGuessTol=.9)\n",
    "    if mygame.visible == \"You have lost\":\n",
    "        loses += 1\n",
    "        lossGames.append(mygame)\n",
    "    else:\n",
    "        wins += 1\n",
    "\n",
    "print(\"The AI won {} times and lose {} times\".format(wins, loses))        \n",
    "    \n",
    "#print(mygame.visible)"
   ]
  },
  {
   "cell_type": "code",
   "execution_count": 21,
   "metadata": {},
   "outputs": [
    {
     "name": "stdout",
     "output_type": "stream",
     "text": [
      "[(1.049041748046875e-05, (1, 1)), (0.009980916976928711, ('F', 2, 4)), (0.00998377799987793, ('F', 2, 5)), (0.009985208511352539, ('F', 4, 2)), (0.009986400604248047, ('F', 6, 2)), (0.009988069534301758, ('F', 8, 2)), (0.0099945068359375, (5, 2)), (0.02023935317993164, ('F', 0, 5)), (0.02024221420288086, ('F', 8, 0)), (0.020247936248779297, (4, 3)), (0.030437231063842773, (7, 2)), (0.040609121322631836, (3, 4)), (0.0510249137878418, (4, 4)), (0.0628364086151123, ('F', 6, 7)), (0.06284308433532715, (1, 5))]\n"
     ]
    }
   ],
   "source": [
    "print(sorted(lossGames[1].gameRecord.items()))"
   ]
  },
  {
   "cell_type": "code",
   "execution_count": 22,
   "metadata": {},
   "outputs": [
    {
     "data": {
      "application/vnd.jupyter.widget-view+json": {
       "model_id": "d242484ec77249228dba92edc88a2eb0",
       "version_major": 2,
       "version_minor": 0
      },
      "text/plain": [
       "HBox(children=(HTML(value='<div style=\"height: 30px;\\n                                                        …"
      ]
     },
     "metadata": {},
     "output_type": "display_data"
    },
    {
     "data": {
      "application/vnd.jupyter.widget-view+json": {
       "model_id": "b865f959810747cc9fdbaf25b1cc877f",
       "version_major": 2,
       "version_minor": 0
      },
      "text/plain": [
       "HBox(children=(HTML(value='<div style=\"height: 30px;\\n                                                        …"
      ]
     },
     "metadata": {},
     "output_type": "display_data"
    },
    {
     "data": {
      "application/vnd.jupyter.widget-view+json": {
       "model_id": "17d381b7641a4cb3a69c3101ea21f9bf",
       "version_major": 2,
       "version_minor": 0
      },
      "text/plain": [
       "HBox(children=(HTML(value='<div style=\"height: 30px;\\n                                                        …"
      ]
     },
     "metadata": {},
     "output_type": "display_data"
    },
    {
     "data": {
      "application/vnd.jupyter.widget-view+json": {
       "model_id": "816396eda14546d5bc206334323b95b0",
       "version_major": 2,
       "version_minor": 0
      },
      "text/plain": [
       "HBox(children=(HTML(value='<div style=\"height: 30px;\\n                                                        …"
      ]
     },
     "metadata": {},
     "output_type": "display_data"
    },
    {
     "data": {
      "application/vnd.jupyter.widget-view+json": {
       "model_id": "40b25c620b854e6cbecf21c1fcb2b1ac",
       "version_major": 2,
       "version_minor": 0
      },
      "text/plain": [
       "HBox(children=(HTML(value='<div style=\"height: 30px;\\n                                                        …"
      ]
     },
     "metadata": {},
     "output_type": "display_data"
    },
    {
     "data": {
      "application/vnd.jupyter.widget-view+json": {
       "model_id": "6b63ab97b1ca4a50a820a4409128360f",
       "version_major": 2,
       "version_minor": 0
      },
      "text/plain": [
       "HBox(children=(HTML(value='<div style=\"height: 30px;\\n                                                        …"
      ]
     },
     "metadata": {},
     "output_type": "display_data"
    },
    {
     "data": {
      "application/vnd.jupyter.widget-view+json": {
       "model_id": "a206b8a689584faf9696eaaecc09a78d",
       "version_major": 2,
       "version_minor": 0
      },
      "text/plain": [
       "HBox(children=(HTML(value='<div style=\"height: 30px;\\n                                                        …"
      ]
     },
     "metadata": {},
     "output_type": "display_data"
    },
    {
     "data": {
      "application/vnd.jupyter.widget-view+json": {
       "model_id": "2f439702052d4ccfa20492a5fc172657",
       "version_major": 2,
       "version_minor": 0
      },
      "text/plain": [
       "HBox(children=(HTML(value='<div style=\"height: 30px;\\n                                                        …"
      ]
     },
     "metadata": {},
     "output_type": "display_data"
    },
    {
     "data": {
      "application/vnd.jupyter.widget-view+json": {
       "model_id": "ece71f615e0a4202ad71206e78ff41f3",
       "version_major": 2,
       "version_minor": 0
      },
      "text/plain": [
       "HBox(children=(HTML(value='<div style=\"height: 30px;\\n                                                        …"
      ]
     },
     "metadata": {},
     "output_type": "display_data"
    },
    {
     "data": {
      "application/vnd.jupyter.widget-view+json": {
       "model_id": "a7f49514c431437594655fb98f02f3c2",
       "version_major": 2,
       "version_minor": 0
      },
      "text/plain": [
       "Button(button_style='info', description='Next', layout=Layout(left='178px', width='128px'), style=ButtonStyle(…"
      ]
     },
     "metadata": {},
     "output_type": "display_data"
    }
   ],
   "source": [
    "lossGames[1].seeRecordOnNotebook()"
   ]
  },
  {
   "cell_type": "code",
   "execution_count": 23,
   "metadata": {},
   "outputs": [
    {
     "data": {
      "text/plain": [
       "'You have lost'"
      ]
     },
     "execution_count": 23,
     "metadata": {},
     "output_type": "execute_result"
    }
   ],
   "source": [
    "lossGames[0].visible"
   ]
  },
  {
   "cell_type": "code",
   "execution_count": 24,
   "metadata": {},
   "outputs": [
    {
     "data": {
      "text/plain": [
       "array([[0., 0., 0., 0., 1., 2., 2., 2., 9.],\n",
       "       [0., 0., 0., 0., 2., 9., 9., 2., 1.],\n",
       "       [0., 0., 0., 0., 2., 9., 3., 1., 0.],\n",
       "       [1., 1., 1., 0., 2., 2., 2., 0., 0.],\n",
       "       [1., 9., 2., 1., 2., 9., 1., 0., 0.],\n",
       "       [1., 1., 2., 9., 2., 1., 2., 1., 1.],\n",
       "       [0., 0., 1., 1., 1., 0., 1., 9., 1.],\n",
       "       [0., 0., 0., 0., 1., 1., 3., 2., 2.],\n",
       "       [0., 0., 0., 0., 1., 9., 2., 9., 1.]])"
      ]
     },
     "execution_count": 24,
     "metadata": {},
     "output_type": "execute_result"
    }
   ],
   "source": [
    "lossGames[0].board"
   ]
  },
  {
   "cell_type": "code",
   "execution_count": 25,
   "metadata": {},
   "outputs": [
    {
     "ename": "IndexError",
     "evalue": "string index out of range",
     "output_type": "error",
     "traceback": [
      "\u001b[0;31m---------------------------------------------------------------------------\u001b[0m",
      "\u001b[0;31mIndexError\u001b[0m                                Traceback (most recent call last)",
      "\u001b[0;32m<ipython-input-25-086a1661f40a>\u001b[0m in \u001b[0;36m<module>\u001b[0;34m\u001b[0m\n\u001b[1;32m      1\u001b[0m \u001b[0mboundObject\u001b[0m \u001b[0;34m=\u001b[0m \u001b[0mgetBoundry\u001b[0m\u001b[0;34m(\u001b[0m\u001b[0;34m)\u001b[0m\u001b[0;34m\u001b[0m\u001b[0;34m\u001b[0m\u001b[0m\n\u001b[0;32m----> 2\u001b[0;31m \u001b[0mboundObject\u001b[0m\u001b[0;34m.\u001b[0m\u001b[0mgetBoundry\u001b[0m\u001b[0;34m(\u001b[0m\u001b[0mlossGames\u001b[0m\u001b[0;34m[\u001b[0m\u001b[0;36m0\u001b[0m\u001b[0;34m]\u001b[0m\u001b[0;34m,\u001b[0m \u001b[0;34m(\u001b[0m\u001b[0;36m1\u001b[0m\u001b[0;34m,\u001b[0m\u001b[0;36m1\u001b[0m\u001b[0;34m)\u001b[0m\u001b[0;34m)\u001b[0m\u001b[0;34m\u001b[0m\u001b[0;34m\u001b[0m\u001b[0m\n\u001b[0m\u001b[1;32m      3\u001b[0m \u001b[0mboundry\u001b[0m \u001b[0;34m=\u001b[0m \u001b[0mlist\u001b[0m\u001b[0;34m(\u001b[0m\u001b[0mfilter\u001b[0m\u001b[0;34m(\u001b[0m\u001b[0;32mlambda\u001b[0m \u001b[0mx\u001b[0m\u001b[0;34m:\u001b[0m \u001b[0mlossGames\u001b[0m\u001b[0;34m[\u001b[0m\u001b[0;36m0\u001b[0m\u001b[0;34m]\u001b[0m\u001b[0;34m.\u001b[0m\u001b[0mvisible\u001b[0m\u001b[0;34m[\u001b[0m\u001b[0mx\u001b[0m\u001b[0;34m[\u001b[0m\u001b[0;36m0\u001b[0m\u001b[0;34m]\u001b[0m\u001b[0;34m]\u001b[0m\u001b[0;34m[\u001b[0m\u001b[0mx\u001b[0m\u001b[0;34m[\u001b[0m\u001b[0;36m1\u001b[0m\u001b[0;34m]\u001b[0m\u001b[0;34m]\u001b[0m\u001b[0;34m==\u001b[0m\u001b[0;34m\"?\"\u001b[0m\u001b[0;34m,\u001b[0m \u001b[0msorted\u001b[0m\u001b[0;34m(\u001b[0m\u001b[0mlist\u001b[0m\u001b[0;34m(\u001b[0m\u001b[0mset\u001b[0m\u001b[0;34m(\u001b[0m\u001b[0mboundObject\u001b[0m\u001b[0;34m.\u001b[0m\u001b[0mperim\u001b[0m\u001b[0;34m)\u001b[0m\u001b[0;34m)\u001b[0m\u001b[0;34m)\u001b[0m\u001b[0;34m)\u001b[0m\u001b[0;34m)\u001b[0m \u001b[0;34m+\u001b[0m \u001b[0;34m[\u001b[0m\u001b[0;34m(\u001b[0m\u001b[0;36m5\u001b[0m\u001b[0;34m,\u001b[0m\u001b[0;36m4\u001b[0m\u001b[0;34m)\u001b[0m\u001b[0;34m]\u001b[0m\u001b[0;34m\u001b[0m\u001b[0;34m\u001b[0m\u001b[0m\n\u001b[1;32m      4\u001b[0m \u001b[0;34m\u001b[0m\u001b[0m\n\u001b[1;32m      5\u001b[0m \u001b[0mmyAI\u001b[0m \u001b[0;34m=\u001b[0m \u001b[0mAIPlayer\u001b[0m\u001b[0;34m(\u001b[0m\u001b[0mlossGames\u001b[0m\u001b[0;34m[\u001b[0m\u001b[0;36m0\u001b[0m\u001b[0;34m]\u001b[0m\u001b[0;34m,\u001b[0m \u001b[0mwatch\u001b[0m\u001b[0;34m=\u001b[0m\u001b[0;32mTrue\u001b[0m\u001b[0;34m,\u001b[0m \u001b[0mwait\u001b[0m\u001b[0;34m=\u001b[0m\u001b[0;32mTrue\u001b[0m\u001b[0;34m)\u001b[0m\u001b[0;34m\u001b[0m\u001b[0;34m\u001b[0m\u001b[0m\n",
      "\u001b[0;32m<ipython-input-19-d87ad53d68da>\u001b[0m in \u001b[0;36mgetBoundry\u001b[0;34m(self, gameObj, index)\u001b[0m\n\u001b[1;32m      5\u001b[0m         \u001b[0mself\u001b[0m\u001b[0;34m.\u001b[0m\u001b[0mperim\u001b[0m \u001b[0;34m=\u001b[0m \u001b[0;34m[\u001b[0m\u001b[0;34m]\u001b[0m\u001b[0;34m\u001b[0m\u001b[0;34m\u001b[0m\u001b[0m\n\u001b[1;32m      6\u001b[0m     \u001b[0;32mdef\u001b[0m \u001b[0mgetBoundry\u001b[0m\u001b[0;34m(\u001b[0m\u001b[0mself\u001b[0m\u001b[0;34m,\u001b[0m \u001b[0mgameObj\u001b[0m\u001b[0;34m,\u001b[0m \u001b[0mindex\u001b[0m\u001b[0;34m)\u001b[0m\u001b[0;34m:\u001b[0m\u001b[0;34m\u001b[0m\u001b[0;34m\u001b[0m\u001b[0m\n\u001b[0;32m----> 7\u001b[0;31m         \u001b[0;32mif\u001b[0m \u001b[0mgameObj\u001b[0m\u001b[0;34m.\u001b[0m\u001b[0mvisible\u001b[0m\u001b[0;34m[\u001b[0m\u001b[0mindex\u001b[0m\u001b[0;34m[\u001b[0m\u001b[0;36m0\u001b[0m\u001b[0;34m]\u001b[0m\u001b[0;34m]\u001b[0m\u001b[0;34m[\u001b[0m\u001b[0mindex\u001b[0m\u001b[0;34m[\u001b[0m\u001b[0;36m1\u001b[0m\u001b[0;34m]\u001b[0m\u001b[0;34m]\u001b[0m \u001b[0;34m!=\u001b[0m\u001b[0;34m\"?\"\u001b[0m \u001b[0;32mand\u001b[0m \u001b[0mindex\u001b[0m \u001b[0;32mnot\u001b[0m \u001b[0;32min\u001b[0m \u001b[0mself\u001b[0m\u001b[0;34m.\u001b[0m\u001b[0mvisited\u001b[0m\u001b[0;34m:\u001b[0m\u001b[0;34m\u001b[0m\u001b[0;34m\u001b[0m\u001b[0m\n\u001b[0m\u001b[1;32m      8\u001b[0m             \u001b[0mself\u001b[0m\u001b[0;34m.\u001b[0m\u001b[0mvisited\u001b[0m\u001b[0;34m.\u001b[0m\u001b[0mappend\u001b[0m\u001b[0;34m(\u001b[0m\u001b[0mindex\u001b[0m\u001b[0;34m)\u001b[0m\u001b[0;34m\u001b[0m\u001b[0;34m\u001b[0m\u001b[0m\n\u001b[1;32m      9\u001b[0m             \u001b[0mself\u001b[0m\u001b[0;34m.\u001b[0m\u001b[0mtoReturn\u001b[0m\u001b[0;34m.\u001b[0m\u001b[0mappend\u001b[0m\u001b[0;34m(\u001b[0m\u001b[0mindex\u001b[0m\u001b[0;34m)\u001b[0m\u001b[0;34m\u001b[0m\u001b[0;34m\u001b[0m\u001b[0m\n",
      "\u001b[0;31mIndexError\u001b[0m: string index out of range"
     ]
    }
   ],
   "source": [
    "boundObject = getBoundry()\n",
    "boundObject.getBoundry(lossGames[0], (1,1))\n",
    "boundry = list(filter(lambda x: lossGames[0].visible[x[0]][x[1]]==\"?\", sorted(list(set(boundObject.perim))))) + [(5,4)]\n",
    "\n",
    "myAI = AIPlayer(lossGames[0], watch=True, wait=True)"
   ]
  },
  {
   "cell_type": "code",
   "execution_count": null,
   "metadata": {},
   "outputs": [],
   "source": [
    "for i, proba in enumerate(myAI.getProba(boundry)):\n",
    "    print(boundry[i], proba)\n",
    "\n",
    "#mygame = game.minesweeper(30, 16, 99, record=True)\n",
    "#AIPlayer(mygame, watch=True)"
   ]
  },
  {
   "cell_type": "code",
   "execution_count": null,
   "metadata": {},
   "outputs": [],
   "source": [
    "myAI = AIPlayer(lossGames[1], watch=True)"
   ]
  },
  {
   "cell_type": "code",
   "execution_count": null,
   "metadata": {},
   "outputs": [],
   "source": []
  },
  {
   "cell_type": "code",
   "execution_count": null,
   "metadata": {},
   "outputs": [],
   "source": [
    "boundry"
   ]
  },
  {
   "cell_type": "markdown",
   "metadata": {},
   "source": [
    "# Idea's to Improve:\n",
    "### Mess with Hyper Params\n",
    "### Mess with the solve function (make exact percentages etc)\n",
    "### Mess with what we are classifying (We just want to know if something is a bomb or not...\n",
    "### More Data surronding each point\n",
    "### All unique Data"
   ]
  },
  {
   "cell_type": "markdown",
   "metadata": {},
   "source": [
    "## Oberservations\n",
    "Just because a classifier is good doesn't make it good for the game"
   ]
  },
  {
   "cell_type": "markdown",
   "metadata": {},
   "source": [
    "# Messing with Hyper Params"
   ]
  },
  {
   "cell_type": "code",
   "execution_count": null,
   "metadata": {},
   "outputs": [],
   "source": [
    "#clf2 = MLPClassifier(solver='lbfgs', alpha=1e-5, random_state=1)\n",
    "\n",
    "#clf2.fit(X_train, y_train)\n",
    "\n",
    "#y_pred = clf2.predict(X_test)\n",
    "\n",
    "#print(accuracy_score(y_test, y_pred))"
   ]
  },
  {
   "cell_type": "code",
   "execution_count": null,
   "metadata": {},
   "outputs": [],
   "source": [
    "# This one is inspired by the one hot incoding (Each feature was split into 11 parts)\n",
    "#clf3 = MLPClassifier(solver='lbfgs', alpha=1e-5, hidden_layer_sizes=(11), random_state=1)\n",
    "\n",
    "#clf3.fit(X_train, y_train)\n",
    "\n",
    "#y_pred = clf3.predict(X_test)\n",
    "\n",
    "#print(accuracy_score(y_test, y_pred))"
   ]
  },
  {
   "cell_type": "code",
   "execution_count": null,
   "metadata": {},
   "outputs": [],
   "source": [
    "#import pickle\n",
    "\n",
    "#filename = 'clf1.sav'\n",
    "#pickle.dump(clf, open(filename, 'wb'))\n",
    "\n",
    "#filename = 'clf2.sav'\n",
    "#pickle.dump(clf2, open(filename, 'wb'))\n",
    "\n",
    "#filename = 'clf3.sav'\n",
    "#pickle.dump(clf3, open(filename, 'wb'))"
   ]
  },
  {
   "cell_type": "code",
   "execution_count": null,
   "metadata": {},
   "outputs": [],
   "source": [
    "#clf3 = MLPClassifier(solver='lbfgs', alpha=1e-5, hidden_layer_sizes=(8, 3), random_state=1)\n",
    "\n",
    "#clf3.fit(X_train, y_train)\n",
    "\n",
    "#y_pred = clf3.predict(X_test)\n",
    "\n",
    "#print(accuracy_score(y_test, y_pred))"
   ]
  },
  {
   "cell_type": "code",
   "execution_count": null,
   "metadata": {},
   "outputs": [],
   "source": [
    "#filename = 'clf3.sav'\n",
    "#pickle.dump(clf3, open(filename, 'wb'))"
   ]
  },
  {
   "cell_type": "markdown",
   "metadata": {},
   "source": [
    "# Messing with what we are classifying"
   ]
  },
  {
   "cell_type": "code",
   "execution_count": null,
   "metadata": {},
   "outputs": [],
   "source": [
    "np.unique(y.shape)"
   ]
  },
  {
   "cell_type": "code",
   "execution_count": null,
   "metadata": {},
   "outputs": [],
   "source": []
  }
 ],
 "metadata": {
  "kernelspec": {
   "display_name": "Python 3",
   "language": "python",
   "name": "python3"
  },
  "language_info": {
   "codemirror_mode": {
    "name": "ipython",
    "version": 3
   },
   "file_extension": ".py",
   "mimetype": "text/x-python",
   "name": "python",
   "nbconvert_exporter": "python",
   "pygments_lexer": "ipython3",
   "version": "3.7.3"
  }
 },
 "nbformat": 4,
 "nbformat_minor": 1
}
