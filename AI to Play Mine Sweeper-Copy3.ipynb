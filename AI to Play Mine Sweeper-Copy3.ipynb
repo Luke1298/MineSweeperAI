{
 "cells": [
  {
   "cell_type": "markdown",
   "metadata": {},
   "source": [
    "# AI To Play Mine Sweeper"
   ]
  },
  {
   "cell_type": "markdown",
   "metadata": {},
   "source": [
    "## The Game Object\n",
    "\n",
    "I developed the pythonic minesweeper. It is unit tested fairly throughly; up until visualizations and tracking features of the project present themselves. Note: The 9's are bombs; because it is impossible for a cell to be sourounded by more Bombs then there are cells surronding it."
   ]
  },
  {
   "cell_type": "code",
   "execution_count": 39,
   "metadata": {},
   "outputs": [],
   "source": [
    "import game\n",
    "import numpy as np\n",
    "from sklearn.neural_network import MLPClassifier\n",
    "from sklearn.model_selection import train_test_split\n",
    "from sklearn.metrics import accuracy_score, confusion_matrix\n",
    "from sklearn.preprocessing import OneHotEncoder\n",
    "from sklearn.ensemble import RandomForestClassifier, VotingClassifier\n",
    "from sklearn.naive_bayes import GaussianNB\n",
    "from ipywidgets import IntProgress\n",
    "from IPython.display import display"
   ]
  },
  {
   "cell_type": "code",
   "execution_count": 41,
   "metadata": {},
   "outputs": [
    {
     "data": {
      "text/plain": [
       "<module 'game' from '/home/lukenelson/dev/MineSweeperAI/game.py'>"
      ]
     },
     "execution_count": 41,
     "metadata": {},
     "output_type": "execute_result"
    }
   ],
   "source": [
    "from importlib import reload\n",
    "\n",
    "reload(game)"
   ]
  },
  {
   "cell_type": "code",
   "execution_count": 3,
   "metadata": {},
   "outputs": [
    {
     "name": "stdout",
     "output_type": "stream",
     "text": [
      "1.0 \t2.0 \t1.0 \t1.0 \t1.0 \t2.0 \t2.0 \t1.0 \t1.0 \t9.0 \t1.0 \t1.0 \t9.0 \t2.0 \t\n",
      "\n",
      "9.0 \t2.0 \t9.0 \t1.0 \t1.0 \t9.0 \t9.0 \t2.0 \t3.0 \t3.0 \t2.0 \t2.0 \t3.0 \t9.0 \t\n",
      "\n",
      "2.0 \t3.0 \t2.0 \t1.0 \t1.0 \t3.0 \t3.0 \t3.0 \t9.0 \t9.0 \t1.0 \t1.0 \t9.0 \t2.0 \t\n",
      "\n",
      "1.0 \t9.0 \t1.0 \t0.0 \t0.0 \t1.0 \t9.0 \t2.0 \t2.0 \t2.0 \t1.0 \t2.0 \t3.0 \t3.0 \t\n",
      "\n",
      "2.0 \t2.0 \t2.0 \t2.0 \t2.0 \t2.0 \t2.0 \t2.0 \t1.0 \t0.0 \t0.0 \t1.0 \t9.0 \t9.0 \t\n",
      "\n",
      "9.0 \t1.0 \t1.0 \t9.0 \t9.0 \t1.0 \t1.0 \t9.0 \t2.0 \t2.0 \t2.0 \t3.0 \t4.0 \t4.0 \t\n",
      "\n",
      "1.0 \t1.0 \t1.0 \t2.0 \t2.0 \t1.0 \t1.0 \t1.0 \t3.0 \t9.0 \t9.0 \t3.0 \t9.0 \t9.0 \t\n",
      "\n",
      "0.0 \t0.0 \t0.0 \t0.0 \t0.0 \t0.0 \t0.0 \t0.0 \t2.0 \t9.0 \t9.0 \t3.0 \t3.0 \t9.0 \t\n",
      "\n"
     ]
    }
   ],
   "source": [
    "mygame = game.minesweeper(14, 8, 25)\n",
    "\n",
    "\n",
    "for row in mygame.board:\n",
    "    for c in row:\n",
    "        print(c, \"\\t\", end=\"\")\n",
    "    print(\"\\n\")\n",
    "#mygame.clickCell((0,0))"
   ]
  },
  {
   "cell_type": "markdown",
   "metadata": {},
   "source": [
    "## Visualizing the Game\n",
    "\n",
    "The following is a rough gui for the game. Feel free to mess around; when you loose all of the cells will disable and you will be alerted. When you win you will be alerted. Note: If you want to start a new game you will have to run the cell above because you need to make a new object to start over"
   ]
  },
  {
   "cell_type": "code",
   "execution_count": 4,
   "metadata": {},
   "outputs": [
    {
     "data": {
      "application/vnd.jupyter.widget-view+json": {
       "model_id": "7e06b11c4b7f4421bc853b6f1aa06ead",
       "version_major": 2,
       "version_minor": 0
      },
      "text/plain": [
       "HBox(children=(Button(layout=Layout(height='30px', padding='0px', width='30px'), style=ButtonStyle(button_colo…"
      ]
     },
     "metadata": {},
     "output_type": "display_data"
    },
    {
     "data": {
      "application/vnd.jupyter.widget-view+json": {
       "model_id": "656b29a2ca374df6979c937a6e75996b",
       "version_major": 2,
       "version_minor": 0
      },
      "text/plain": [
       "HBox(children=(Button(layout=Layout(height='30px', padding='0px', width='30px'), style=ButtonStyle(button_colo…"
      ]
     },
     "metadata": {},
     "output_type": "display_data"
    },
    {
     "data": {
      "application/vnd.jupyter.widget-view+json": {
       "model_id": "fc0fb54f136c4c62b4848955d8519015",
       "version_major": 2,
       "version_minor": 0
      },
      "text/plain": [
       "HBox(children=(Button(layout=Layout(height='30px', padding='0px', width='30px'), style=ButtonStyle(button_colo…"
      ]
     },
     "metadata": {},
     "output_type": "display_data"
    },
    {
     "data": {
      "application/vnd.jupyter.widget-view+json": {
       "model_id": "d17b523f035943048facc9b98d85ea7c",
       "version_major": 2,
       "version_minor": 0
      },
      "text/plain": [
       "HBox(children=(Button(layout=Layout(height='30px', padding='0px', width='30px'), style=ButtonStyle(button_colo…"
      ]
     },
     "metadata": {},
     "output_type": "display_data"
    },
    {
     "data": {
      "application/vnd.jupyter.widget-view+json": {
       "model_id": "c19bc8e5c7624be7a93c0d513cb4dd6e",
       "version_major": 2,
       "version_minor": 0
      },
      "text/plain": [
       "HBox(children=(Button(layout=Layout(height='30px', padding='0px', width='30px'), style=ButtonStyle(button_colo…"
      ]
     },
     "metadata": {},
     "output_type": "display_data"
    },
    {
     "data": {
      "application/vnd.jupyter.widget-view+json": {
       "model_id": "24ec9401de2f4f34acbf20864f6c254e",
       "version_major": 2,
       "version_minor": 0
      },
      "text/plain": [
       "HBox(children=(Button(layout=Layout(height='30px', padding='0px', width='30px'), style=ButtonStyle(button_colo…"
      ]
     },
     "metadata": {},
     "output_type": "display_data"
    },
    {
     "data": {
      "application/vnd.jupyter.widget-view+json": {
       "model_id": "b92d51a3d32745da84adbd4d1e741b77",
       "version_major": 2,
       "version_minor": 0
      },
      "text/plain": [
       "HBox(children=(Button(layout=Layout(height='30px', padding='0px', width='30px'), style=ButtonStyle(button_colo…"
      ]
     },
     "metadata": {},
     "output_type": "display_data"
    },
    {
     "data": {
      "application/vnd.jupyter.widget-view+json": {
       "model_id": "26f45144b5584d36bacfb8f429774cf6",
       "version_major": 2,
       "version_minor": 0
      },
      "text/plain": [
       "HBox(children=(Button(layout=Layout(height='30px', padding='0px', width='30px'), style=ButtonStyle(button_colo…"
      ]
     },
     "metadata": {},
     "output_type": "display_data"
    }
   ],
   "source": [
    "mygame.playOnNoteBook()"
   ]
  },
  {
   "cell_type": "markdown",
   "metadata": {},
   "source": [
    "## Neruel Network to Play Mine Sweeper (Classification Approach) \n",
    "\n",
    "We will attempt to play minesweeper by generating lots of games (which will be used as our data). \n",
    "\n",
    "Things that we'll need to do:\n",
    "\n",
    "Pad the game board with some element.\n",
    "This way we distiguish the edges of the game board (all of our data needs to have the same number of features) \n",
    "\n",
    "Represent \"unknown squares\" in our classification we will have some data that are \"completed games\" (the whole board is visible) and others where the game is 80% finished; 60%; 40% and 20%. (Our \"Solve Percent\" utility will help us with this)"
   ]
  },
  {
   "cell_type": "code",
   "execution_count": 5,
   "metadata": {},
   "outputs": [
    {
     "data": {
      "application/vnd.jupyter.widget-view+json": {
       "model_id": "b3a40ebd7fd242b29160a5b107206bb2",
       "version_major": 2,
       "version_minor": 0
      },
      "text/plain": [
       "HBox(children=(Button(description='9', disabled=True, layout=Layout(height='30px', padding='0px', width='30px'…"
      ]
     },
     "metadata": {},
     "output_type": "display_data"
    },
    {
     "data": {
      "application/vnd.jupyter.widget-view+json": {
       "model_id": "1bc2ec7b996043eca64eae6c5a8afeeb",
       "version_major": 2,
       "version_minor": 0
      },
      "text/plain": [
       "HBox(children=(Button(description='2', disabled=True, layout=Layout(height='30px', padding='0px', width='30px'…"
      ]
     },
     "metadata": {},
     "output_type": "display_data"
    },
    {
     "data": {
      "application/vnd.jupyter.widget-view+json": {
       "model_id": "ceb8bb4989ff4125bcd166b6e1ba0973",
       "version_major": 2,
       "version_minor": 0
      },
      "text/plain": [
       "HBox(children=(Button(description='1', disabled=True, layout=Layout(height='30px', padding='0px', width='30px'…"
      ]
     },
     "metadata": {},
     "output_type": "display_data"
    },
    {
     "data": {
      "application/vnd.jupyter.widget-view+json": {
       "model_id": "e2aa5eb533c3485daad7ee82b97cc29b",
       "version_major": 2,
       "version_minor": 0
      },
      "text/plain": [
       "HBox(children=(Button(layout=Layout(height='30px', padding='0px', width='30px'), style=ButtonStyle(button_colo…"
      ]
     },
     "metadata": {},
     "output_type": "display_data"
    },
    {
     "data": {
      "application/vnd.jupyter.widget-view+json": {
       "model_id": "7869025ae9314022903d7423a153f5d9",
       "version_major": 2,
       "version_minor": 0
      },
      "text/plain": [
       "HBox(children=(Button(description='1', disabled=True, layout=Layout(height='30px', padding='0px', width='30px'…"
      ]
     },
     "metadata": {},
     "output_type": "display_data"
    },
    {
     "data": {
      "application/vnd.jupyter.widget-view+json": {
       "model_id": "f1e2b44b031e40c8ade32ffba2946bc0",
       "version_major": 2,
       "version_minor": 0
      },
      "text/plain": [
       "HBox(children=(Button(description='9', disabled=True, layout=Layout(height='30px', padding='0px', width='30px'…"
      ]
     },
     "metadata": {},
     "output_type": "display_data"
    },
    {
     "data": {
      "application/vnd.jupyter.widget-view+json": {
       "model_id": "75465f36feb14da796858988ded71d8e",
       "version_major": 2,
       "version_minor": 0
      },
      "text/plain": [
       "HBox(children=(Button(description='2', disabled=True, layout=Layout(height='30px', padding='0px', width='30px'…"
      ]
     },
     "metadata": {},
     "output_type": "display_data"
    },
    {
     "data": {
      "application/vnd.jupyter.widget-view+json": {
       "model_id": "f8cec79d2758444797ca76944f158adf",
       "version_major": 2,
       "version_minor": 0
      },
      "text/plain": [
       "HBox(children=(Button(layout=Layout(height='30px', padding='0px', width='30px'), style=ButtonStyle(button_colo…"
      ]
     },
     "metadata": {},
     "output_type": "display_data"
    }
   ],
   "source": [
    "mygame = game.minesweeper(14, 8, 25)\n",
    "mygame.solvePercent(.2)\n",
    "mygame.playOnNoteBook()"
   ]
  },
  {
   "cell_type": "code",
   "execution_count": 105,
   "metadata": {},
   "outputs": [],
   "source": [
    "theData = []\n",
    "N = 2 #N represents the number of surronding squares to get\n",
    "\n",
    "\n",
    "for p in [.8, .6, .4, .2]:\n",
    "    for i in range(1000):\n",
    "        mygame = game.minesweeper(10, 10, 23)\n",
    "        mygame.solvePercent(p)\n",
    "        dataToAdd = np.pad(mygame.visible, (N), 'constant', constant_values=(-1))\n",
    "        dataToAdd = np.where(dataToAdd=='*', 0, dataToAdd)\n",
    "        theData.append(dataToAdd)\n",
    "        \n",
    "for i in range(1000):\n",
    "    mygame = game.minesweeper(10, 10, 23)\n",
    "    dataToAdd = np.pad(mygame.board, (N), 'constant', constant_values=(-1))\n",
    "    theData.append(dataToAdd.astype('<U3'))\n"
   ]
  },
  {
   "cell_type": "code",
   "execution_count": 106,
   "metadata": {},
   "outputs": [],
   "source": [
    "theRealData = []\n",
    "\n",
    "\n",
    "for data in theData:\n",
    "    innerData = data[N:-N, N:-N]\n",
    "    for index, x in np.ndenumerate(innerData):\n",
    "        toAppend = []\n",
    "        toAppend.append(x)\n",
    "        for i in range((2*N+1)**2):\n",
    "            if i != (((2*N+1)**2)//2):\n",
    "                a = i//(2*N+1)\n",
    "                b = i%(2*N+1)\n",
    "                toAppend.append(data[index[0] + a, index[1] + b])\n",
    "        #toAppend.append(data[index[0], index[1]])\n",
    "        #toAppend.append(data[index[0], index[1]+1])\n",
    "        #toAppend.append(data[index[0], index[1]+2])\n",
    "        #toAppend.append(data[index[0], index[1]+3])\n",
    "        #toAppend.append(data[index[0], index[1]+4])\n",
    "        #toAppend.append(data[index[0]+1, index[1]])\n",
    "        #toAppend.append(data[index[0]+1, index[1]+1])\n",
    "        #toAppend.append(data[index[0]+1, index[1]+2])\n",
    "        #toAppend.append(data[index[0]+1, index[1]+3])\n",
    "        #toAppend.append(data[index[0]+1, index[1]+4])\n",
    "        #toAppend.append(data[index[0]+2, index[1]])\n",
    "        #toAppend.append(data[index[0]+2, index[1]+1])\n",
    "        #toAppend.append(data[index[0]+2, index[1]+3])\n",
    "        #toAppend.append(data[index[0]+2, index[1]+4])\n",
    "        #toAppend.append(data[index[0]+3, index[1]])\n",
    "        #toAppend.append(data[index[0]+3, index[1]+1])\n",
    "        #toAppend.append(data[index[0]+3, index[1]+2])\n",
    "        #toAppend.append(data[index[0]+3, index[1]+3])\n",
    "        #toAppend.append(data[index[0]+3, index[1]+4])\n",
    "        #toAppend.append(data[index[0]+4, index[1]])\n",
    "        #toAppend.append(data[index[0]+4, index[1]+1])\n",
    "        #toAppend.append(data[index[0]+4, index[1]+2])\n",
    "        #toAppend.append(data[index[0]+4, index[1]+3])\n",
    "        #toAppend.append(data[index[0]+4, index[1]+4])\n",
    "        theRealData.append(toAppend)"
   ]
  },
  {
   "cell_type": "markdown",
   "metadata": {},
   "source": [
    "(Comment this line out if you don't want to eliminate the unknown value prediction)"
   ]
  },
  {
   "cell_type": "code",
   "execution_count": 107,
   "metadata": {},
   "outputs": [],
   "source": [
    "theRealData = np.array(theRealData)\n",
    "theRealData = theRealData[theRealData[:, 0] != '?']"
   ]
  },
  {
   "cell_type": "markdown",
   "metadata": {},
   "source": [
    "This next line will make it so that it's classifying not bomb (which is true) and bomb (false) -- so if a cell is a bomb it will give it a false value. Think of it as an \"okay to click\" classification."
   ]
  },
  {
   "cell_type": "code",
   "execution_count": 108,
   "metadata": {},
   "outputs": [
    {
     "data": {
      "text/plain": [
       "array([['1.0', '-1', '-1', ..., '?', '?', '?'],\n",
       "       ['1.0', '-1', '-1', ..., '?', '-1', '-1'],\n",
       "       ['1.0', '?', '?', ..., '?', '?', '?'],\n",
       "       ...,\n",
       "       ['1.0', '1.0', '0.0', ..., '-1.', '-1.', '-1.'],\n",
       "       ['0.0', '0.0', '0.0', ..., '-1.', '-1.', '-1.'],\n",
       "       ['1.0', '0.0', '1.0', ..., '-1.', '-1.', '-1.']], dtype='<U3')"
      ]
     },
     "execution_count": 108,
     "metadata": {},
     "output_type": "execute_result"
    }
   ],
   "source": [
    "theRealData[:, 0] = ['1.0' if r else '0.0' for r in (theRealData[:, 0] != '9.0')]\n",
    "theRealData"
   ]
  },
  {
   "cell_type": "code",
   "execution_count": 109,
   "metadata": {},
   "outputs": [
    {
     "data": {
      "text/plain": [
       "OneHotEncoder(categorical_features=None, categories=None,\n",
       "       dtype=<class 'numpy.float64'>, handle_unknown='ignore',\n",
       "       n_values=None, sparse=True)"
      ]
     },
     "execution_count": 109,
     "metadata": {},
     "output_type": "execute_result"
    }
   ],
   "source": [
    "theRealData = np.where(theRealData=='?', 10, theRealData)\n",
    "X, y = theRealData[:, 1:].astype(float).astype(str), theRealData[:, 0].astype(float).astype(str)\n",
    "\n",
    "enc = OneHotEncoder(handle_unknown='ignore')\n",
    "\n",
    "enc.fit(X)"
   ]
  },
  {
   "cell_type": "code",
   "execution_count": 110,
   "metadata": {},
   "outputs": [
    {
     "name": "stdout",
     "output_type": "stream",
     "text": [
      "[array(['-1.0', '0.0', '1.0', '10.0', '2.0', '3.0', '4.0', '5.0', '6.0',\n",
      "       '7.0', '9.0'], dtype='<U32'), array(['-1.0', '0.0', '1.0', '10.0', '2.0', '3.0', '4.0', '5.0', '6.0',\n",
      "       '7.0', '9.0'], dtype='<U32'), array(['-1.0', '0.0', '1.0', '10.0', '2.0', '3.0', '4.0', '5.0', '6.0',\n",
      "       '7.0', '9.0'], dtype='<U32'), array(['-1.0', '0.0', '1.0', '10.0', '2.0', '3.0', '4.0', '5.0', '6.0',\n",
      "       '7.0', '9.0'], dtype='<U32'), array(['-1.0', '0.0', '1.0', '10.0', '2.0', '3.0', '4.0', '5.0', '6.0',\n",
      "       '7.0', '9.0'], dtype='<U32'), array(['-1.0', '0.0', '1.0', '10.0', '2.0', '3.0', '4.0', '5.0', '6.0',\n",
      "       '7.0', '9.0'], dtype='<U32'), array(['-1.0', '0.0', '1.0', '10.0', '2.0', '3.0', '4.0', '5.0', '6.0',\n",
      "       '7.0', '9.0'], dtype='<U32'), array(['-1.0', '0.0', '1.0', '10.0', '2.0', '3.0', '4.0', '5.0', '6.0',\n",
      "       '7.0', '9.0'], dtype='<U32'), array(['-1.0', '0.0', '1.0', '10.0', '2.0', '3.0', '4.0', '5.0', '6.0',\n",
      "       '7.0', '9.0'], dtype='<U32'), array(['-1.0', '0.0', '1.0', '10.0', '2.0', '3.0', '4.0', '5.0', '6.0',\n",
      "       '7.0', '9.0'], dtype='<U32'), array(['-1.0', '0.0', '1.0', '10.0', '2.0', '3.0', '4.0', '5.0', '6.0',\n",
      "       '7.0', '9.0'], dtype='<U32'), array(['-1.0', '0.0', '1.0', '10.0', '2.0', '3.0', '4.0', '5.0', '6.0',\n",
      "       '7.0', '9.0'], dtype='<U32'), array(['-1.0', '0.0', '1.0', '10.0', '2.0', '3.0', '4.0', '5.0', '6.0',\n",
      "       '7.0', '9.0'], dtype='<U32'), array(['-1.0', '0.0', '1.0', '10.0', '2.0', '3.0', '4.0', '5.0', '6.0',\n",
      "       '7.0', '9.0'], dtype='<U32'), array(['-1.0', '0.0', '1.0', '10.0', '2.0', '3.0', '4.0', '5.0', '6.0',\n",
      "       '7.0', '9.0'], dtype='<U32'), array(['-1.0', '0.0', '1.0', '10.0', '2.0', '3.0', '4.0', '5.0', '6.0',\n",
      "       '7.0', '9.0'], dtype='<U32'), array(['-1.0', '0.0', '1.0', '10.0', '2.0', '3.0', '4.0', '5.0', '6.0',\n",
      "       '7.0', '9.0'], dtype='<U32'), array(['-1.0', '0.0', '1.0', '10.0', '2.0', '3.0', '4.0', '5.0', '6.0',\n",
      "       '7.0', '9.0'], dtype='<U32'), array(['-1.0', '0.0', '1.0', '10.0', '2.0', '3.0', '4.0', '5.0', '6.0',\n",
      "       '7.0', '9.0'], dtype='<U32'), array(['-1.0', '0.0', '1.0', '10.0', '2.0', '3.0', '4.0', '5.0', '6.0',\n",
      "       '7.0', '9.0'], dtype='<U32'), array(['-1.0', '0.0', '1.0', '10.0', '2.0', '3.0', '4.0', '5.0', '6.0',\n",
      "       '7.0', '9.0'], dtype='<U32'), array(['-1.0', '0.0', '1.0', '10.0', '2.0', '3.0', '4.0', '5.0', '6.0',\n",
      "       '7.0', '9.0'], dtype='<U32'), array(['-1.0', '0.0', '1.0', '10.0', '2.0', '3.0', '4.0', '5.0', '6.0',\n",
      "       '7.0', '9.0'], dtype='<U32'), array(['-1.0', '0.0', '1.0', '10.0', '2.0', '3.0', '4.0', '5.0', '6.0',\n",
      "       '7.0', '9.0'], dtype='<U32')]\n"
     ]
    }
   ],
   "source": [
    "#print([cat.shape for cat in enc.categories_])\n",
    "print(enc.categories_)\n",
    "X = enc.transform(X).toarray()"
   ]
  },
  {
   "cell_type": "code",
   "execution_count": 111,
   "metadata": {},
   "outputs": [
    {
     "data": {
      "text/plain": [
       "(309234, 264)"
      ]
     },
     "execution_count": 111,
     "metadata": {},
     "output_type": "execute_result"
    }
   ],
   "source": [
    "X.shape"
   ]
  },
  {
   "cell_type": "code",
   "execution_count": 112,
   "metadata": {},
   "outputs": [
    {
     "data": {
      "text/plain": [
       "(309234,)"
      ]
     },
     "execution_count": 112,
     "metadata": {},
     "output_type": "execute_result"
    }
   ],
   "source": [
    "y.shape"
   ]
  },
  {
   "cell_type": "code",
   "execution_count": 113,
   "metadata": {},
   "outputs": [],
   "source": [
    "X_train, X_test, y_train, y_test = train_test_split(X, y, test_size=0.33, random_state=42)"
   ]
  },
  {
   "cell_type": "markdown",
   "metadata": {},
   "source": [
    "The Hidden Layer \"24\" is inspired by the idea that each surrounding node has been one-hot-encoded into 12 features"
   ]
  },
  {
   "cell_type": "code",
   "execution_count": 159,
   "metadata": {},
   "outputs": [],
   "source": [
    "tolList = [.01, .005, .0025]\n",
    "hidden_layer_sizes = [50, 60, 70, 80, 90, 100]\n",
    "activationList = ['identity', 'logistic', 'tanh', 'relu']\n",
    "alphaList = [1e-3, 1e-4, 1e-5, 1e-6]"
   ]
  },
  {
   "cell_type": "code",
   "execution_count": 167,
   "metadata": {},
   "outputs": [
    {
     "name": "stdout",
     "output_type": "stream",
     "text": [
      "Iteration 1, loss = 0.20922322\n",
      "Iteration 2, loss = 0.16853829\n",
      "Iteration 3, loss = 0.15110644\n",
      "Iteration 4, loss = 0.13380831\n",
      "Iteration 5, loss = 0.12000269\n",
      "Iteration 6, loss = 0.11141227\n",
      "Iteration 7, loss = 0.10558043\n",
      "Iteration 8, loss = 0.10134970\n",
      "Iteration 9, loss = 0.09780280\n",
      "Iteration 10, loss = 0.09475220\n",
      "Iteration 11, loss = 0.09224368\n",
      "Iteration 12, loss = 0.08969833\n",
      "Iteration 13, loss = 0.08763518\n",
      "Iteration 14, loss = 0.08565129\n",
      "Iteration 15, loss = 0.08362612\n",
      "Iteration 16, loss = 0.08216856\n",
      "Training loss did not improve more than tol=0.010000 for 10 consecutive epochs. Stopping.\n",
      "0.9568634368140483\n"
     ]
    }
   ],
   "source": [
    "\n",
    "clf = MLPClassifier(solver='adam', activation=\"tanh\", alpha=1e-5, hidden_layer_sizes=(100), verbose=True, max_iter=300, tol=.01)\n",
    "clf.fit(X_train, y_train)\n",
    "\n",
    "y_pred = clf.predict(X_test)\n",
    "\n",
    "print(accuracy_score(y_test, y_pred))"
   ]
  },
  {
   "cell_type": "code",
   "execution_count": 157,
   "metadata": {},
   "outputs": [
    {
     "name": "stdout",
     "output_type": "stream",
     "text": [
      "LayerSize 50; accuracy: 0.9570790216368767; False-Negative: 3300\n",
      "LayerSize 60; accuracy: 0.9575395892129194; False-Negative: 3280\n",
      "LayerSize 70; accuracy: 0.9577159767952336; False-Negative: 3120\n",
      "LayerSize 80; accuracy: 0.957343603010348; False-Negative: 2901\n",
      "LayerSize 90; accuracy: 0.9574611947318908; False-Negative: 2742\n",
      "LayerSize 100; accuracy: 0.9578825650674192; False-Negative: 3294\n"
     ]
    }
   ],
   "source": [
    "for layerSize in hidden_layer_sizes:\n",
    "    clf = MLPClassifier(solver='adam', \n",
    "                        activation=\"tanh\", \n",
    "                        alpha=1e-5, \n",
    "                        hidden_layer_sizes=(layerSize), \n",
    "                        max_iter=300, \n",
    "                        tol=0.01)\n",
    "    clf.fit(X_train, y_train)\n",
    "\n",
    "    y_pred = clf.predict(X_test)\n",
    "\n",
    "    print(\"LayerSize {}; accuracy: {}; False-Negative: {}\".format(layerSize, accuracy_score(y_test, y_pred), confusion_matrix(y_test, y_pred)[0][1]))"
   ]
  },
  {
   "cell_type": "code",
   "execution_count": 158,
   "metadata": {},
   "outputs": [
    {
     "name": "stdout",
     "output_type": "stream",
     "text": [
      "LayerSize 85; accuracy: 0.9562754782063343; False-Negative: 2687\n",
      "LayerSize 87; accuracy: 0.9576179836939479; False-Negative: 3255\n",
      "LayerSize 90; accuracy: 0.9576963781749764; False-Negative: 3447\n",
      "LayerSize 93; accuracy: 0.957931561618062; False-Negative: 3161\n",
      "LayerSize 95; accuracy: 0.9573534023204766; False-Negative: 3035\n"
     ]
    }
   ],
   "source": [
    "for layerSize in [85, 87, 90, 93, 95]:\n",
    "    clf = MLPClassifier(solver='adam', \n",
    "                        activation=\"tanh\", \n",
    "                        alpha=1e-5, \n",
    "                        hidden_layer_sizes=(layerSize), \n",
    "                        max_iter=300, \n",
    "                        tol=0.01)\n",
    "    clf.fit(X_train, y_train)\n",
    "\n",
    "    y_pred = clf.predict(X_test)\n",
    "\n",
    "    print(\"LayerSize {}; accuracy: {}; False-Negative: {}\".format(layerSize, accuracy_score(y_test, y_pred), confusion_matrix(y_test, y_pred)[0][1]))"
   ]
  },
  {
   "cell_type": "code",
   "execution_count": 160,
   "metadata": {},
   "outputs": [
    {
     "name": "stdout",
     "output_type": "stream",
     "text": [
      "Activation identity; accuracy: 0.9303857008466604; False-Negative: 4859\n",
      "Activation logistic; accuracy: 0.9522381624333647; False-Negative: 3649\n",
      "Activation tanh; accuracy: 0.9582157416117906; False-Negative: 2957\n",
      "Activation relu; accuracy: 0.9562754782063343; False-Negative: 2994\n"
     ]
    }
   ],
   "source": [
    "for activationTest in activationList:\n",
    "    clf = MLPClassifier(solver='adam', \n",
    "                        activation=activationTest, \n",
    "                        alpha=1e-5, \n",
    "                        hidden_layer_sizes=(80), \n",
    "                        max_iter=300, \n",
    "                        tol=0.01)\n",
    "    clf.fit(X_train, y_train)\n",
    "\n",
    "    y_pred = clf.predict(X_test)\n",
    "\n",
    "    print(\"Activation {}; accuracy: {}; False-Negative: {}\".format(activationTest, accuracy_score(y_test, y_pred), confusion_matrix(y_test, y_pred)[0][1]))"
   ]
  },
  {
   "cell_type": "code",
   "execution_count": 161,
   "metadata": {},
   "outputs": [
    {
     "name": "stdout",
     "output_type": "stream",
     "text": [
      "Activation tanh; accuracy: 0.957480793352148; False-Negative: 2946\n",
      "Activation relu; accuracy: 0.954560598933835; False-Negative: 2756\n",
      "Activation tanh; accuracy: 0.9581863436814049; False-Negative: 3156\n",
      "Activation relu; accuracy: 0.9563832706177485; False-Negative: 3203\n",
      "Activation tanh; accuracy: 0.9579511602383193; False-Negative: 3050\n",
      "Activation relu; accuracy: 0.9548447789275635; False-Negative: 2700\n",
      "Activation tanh; accuracy: 0.9577845719661335; False-Negative: 3078\n",
      "Activation relu; accuracy: 0.9553837409846346; False-Negative: 2922\n"
     ]
    }
   ],
   "source": [
    "for activationTest in [\"tanh\", \"relu\", \"tanh\", \"relu\", \"tanh\", \"relu\", \"tanh\", \"relu\"]:\n",
    "    clf = MLPClassifier(solver='adam', \n",
    "                        activation=activationTest, \n",
    "                        alpha=1e-5, \n",
    "                        hidden_layer_sizes=(80), \n",
    "                        max_iter=300, \n",
    "                        tol=0.01)\n",
    "    clf.fit(X_train, y_train)\n",
    "\n",
    "    y_pred = clf.predict(X_test)\n",
    "\n",
    "    print(\"Activation {}; accuracy: {}; False-Negative: {}\".format(activationTest, accuracy_score(y_test, y_pred), confusion_matrix(y_test, y_pred)[0][1]))"
   ]
  },
  {
   "cell_type": "code",
   "execution_count": 162,
   "metadata": {},
   "outputs": [
    {
     "name": "stdout",
     "output_type": "stream",
     "text": [
      "Alpha 0.001; accuracy: 0.9560892913138915; False-Negative: 2912\n",
      "Alpha 0.0001; accuracy: 0.955648322358106; False-Negative: 2906\n",
      "Alpha 1e-05; accuracy: 0.9569418312950768; False-Negative: 3038\n",
      "Alpha 1e-06; accuracy: 0.956961429915334; False-Negative: 3011\n"
     ]
    }
   ],
   "source": [
    "for alphaTest in alphaList:\n",
    "    clf = MLPClassifier(solver='adam', \n",
    "                        activation=\"relu\", \n",
    "                        alpha=alphaTest, \n",
    "                        hidden_layer_sizes=(80), \n",
    "                        max_iter=300, \n",
    "                        tol=0.01)\n",
    "    clf.fit(X_train, y_train)\n",
    "\n",
    "    y_pred = clf.predict(X_test)\n",
    "\n",
    "    print(\"Alpha {}; accuracy: {}; False-Negative: {}\".format(alphaTest, accuracy_score(y_test, y_pred), confusion_matrix(y_test, y_pred)[0][1]))"
   ]
  },
  {
   "cell_type": "code",
   "execution_count": 164,
   "metadata": {},
   "outputs": [
    {
     "name": "stdout",
     "output_type": "stream",
     "text": [
      "0.956961429915334\n",
      "[[14180  3011]\n",
      " [ 1381 83476]]\n"
     ]
    }
   ],
   "source": [
    "clf = MLPClassifier(solver='adam', \n",
    "                    activation=\"relu\", \n",
    "                    alpha=1e-4, \n",
    "                    hidden_layer_sizes=(80), \n",
    "                    max_iter=300, \n",
    "                    tol=0.01)\n",
    "\n",
    "clf.fit(X_train, y_train)\n",
    "print(accuracy_score(y_test, y_pred))\n",
    "print(confusion_matrix(y_test, y_pred))"
   ]
  },
  {
   "cell_type": "code",
   "execution_count": 165,
   "metadata": {},
   "outputs": [
    {
     "data": {
      "text/plain": [
       "0.9964861680032117"
      ]
     },
     "execution_count": 165,
     "metadata": {},
     "output_type": "execute_result"
    }
   ],
   "source": [
    "clf.predict_proba(X_test[0].reshape(1, -1))[0][1]"
   ]
  },
  {
   "cell_type": "markdown",
   "metadata": {},
   "source": [
    "# The AI that Plays Mine Sweeper"
   ]
  },
  {
   "cell_type": "code",
   "execution_count": null,
   "metadata": {},
   "outputs": [
    {
     "data": {
      "application/vnd.jupyter.widget-view+json": {
       "model_id": "06f0c88f82624c8f9434167ab41ba014",
       "version_major": 2,
       "version_minor": 0
      },
      "text/plain": [
       "IntProgress(value=0, max=1000)"
      ]
     },
     "metadata": {},
     "output_type": "display_data"
    }
   ],
   "source": [
    "wins = 0\n",
    "loses = 0\n",
    "gamesToPlay = 1000\n",
    "bombGuessTol = .85\n",
    "\n",
    "f = IntProgress(min=0, max=gamesToPlay) # instantiate the bar\n",
    "display(f) # display the bar\n",
    "\n",
    "for _ in range(gamesToPlay):\n",
    "    f.value += 1\n",
    "    mygame = game.minesweeper(9, 9, 10, record=True)\n",
    "    #mygame.playOnNoteBook()\n",
    "\n",
    "    #Our algorithm selects (0,0) first every time any way -- input is all the same on all unknown...\n",
    "    #To test if there is a better place than this think about classifying better starting points... Differn't shapes...\n",
    "    mygame.clickCell((1,1))#gameboard[1][1].click()\n",
    "\n",
    "    while (\"?\" in \" \".join([\" \".join(map(str, row)) for row in mygame.visible])):\n",
    "        curbest = 0\n",
    "        bestindex = (0, 0)\n",
    "        data = np.array(mygame.visible).astype('<U3')\n",
    "        data = np.pad(data, (N), 'constant', constant_values=(-1))\n",
    "        data = np.where(data=='*', 0, data)\n",
    "        max_right = max(np.where(np.array(mygame.visible) != '?')[0])+1 \n",
    "        max_down = max(np.where(np.array(mygame.visible) != '?')[1])+1\n",
    "        innerData = (data[N:-N, N:-N])[0:max_right+1, 0:max_down+1] \n",
    "        for index, x in np.ndenumerate(innerData):\n",
    "            if x == \"?\":\n",
    "                toAppend = []\n",
    "                for i in range((2*N+1)**2):\n",
    "                    if i != (((2*N+1)**2)//2):\n",
    "                        a = i//(2*N+1)\n",
    "                        b = i%(2*N+1)\n",
    "                        toAppend.append(data[index[0] + a, index[1] + b])\n",
    "                toAppend = np.array(toAppend)\n",
    "                toAppend = np.where(toAppend=='?', 10, toAppend)\n",
    "                toAppend = toAppend.astype(float).astype(str)\n",
    "                toAppend = toAppend.reshape(1,-1)\n",
    "                toAppend = enc.transform(toAppend).toarray()\n",
    "                if clf.predict_proba(toAppend)[0][1] > curbest:\n",
    "                    curbest = clf.predict_proba(toAppend)[0][1]\n",
    "                    bestindex = index\n",
    "                if clf.predict_proba(toAppend)[0][0] > bombGuessTol:\n",
    "                    #print(index)\n",
    "                    mygame.visible[index[0]][index[1]] = 9.0\n",
    "                    #mygame.gameboard[index[0]][index[1]].description = \"9.0\"\n",
    "        #print(curbest)\n",
    "        #print(bestindex)\n",
    "        mygame.clickCell(bestindex)\n",
    "        #mygame.gameboard[bestindex[0]][bestindex[1]].click()\n",
    "        #mygame.clickCell(bestindx)\n",
    "\n",
    "        #print(c, bestindex)\n",
    "    if mygame.visible == \"You have lost\":\n",
    "        loses += 1\n",
    "    else:\n",
    "        wins += 1\n",
    "\n",
    "print(\"The AI won {} times and lose {} times\".format(wins, loses))        \n",
    "    \n",
    "#print(mygame.visible)"
   ]
  },
  {
   "cell_type": "code",
   "execution_count": 33,
   "metadata": {},
   "outputs": [
    {
     "data": {
      "text/plain": [
       "[['*', '*', '*', '*', '*', '*', '*', '*', '*'],\n",
       " ['*', '*', '*', '*', '*', '*', '*', '1.0', '1.0'],\n",
       " ['*', '*', '*', '*', '*', '*', '*', '1.0', '?'],\n",
       " ['2.0', '2.0', '1.0', '*', '*', '1.0', '1.0', '3.0', '?'],\n",
       " ['?', '?', '1.0', '*', '*', '1.0', '?', '?', '?'],\n",
       " ['?', '?', '1.0', '1.0', '1.0', '2.0', '?', '?', '?'],\n",
       " ['?', '?', '?', '?', '?', '?', '?', '?', '?'],\n",
       " ['?', '?', '?', '?', '?', '?', '?', '?', '?'],\n",
       " ['?', '?', '?', '?', '?', '?', '?', '?', '?']]"
      ]
     },
     "execution_count": 33,
     "metadata": {},
     "output_type": "execute_result"
    }
   ],
   "source": [
    "mygame.visible\n"
   ]
  },
  {
   "cell_type": "markdown",
   "metadata": {},
   "source": [
    "# Idea's to Improve:\n",
    "### Mess with Hyper Params\n",
    "### Mess with the solve function (make exact percentages etc)\n",
    "### Mess with what we are classifying (We just want to know if something is a bomb or not...\n",
    "### More Data surronding each point"
   ]
  },
  {
   "cell_type": "markdown",
   "metadata": {},
   "source": [
    "# Messing with Hyper Params"
   ]
  },
  {
   "cell_type": "code",
   "execution_count": null,
   "metadata": {},
   "outputs": [],
   "source": [
    "#clf2 = MLPClassifier(solver='lbfgs', alpha=1e-5, random_state=1)\n",
    "\n",
    "#clf2.fit(X_train, y_train)\n",
    "\n",
    "#y_pred = clf2.predict(X_test)\n",
    "\n",
    "#print(accuracy_score(y_test, y_pred))"
   ]
  },
  {
   "cell_type": "code",
   "execution_count": null,
   "metadata": {},
   "outputs": [],
   "source": [
    "# This one is inspired by the one hot incoding (Each feature was split into 11 parts)\n",
    "#clf3 = MLPClassifier(solver='lbfgs', alpha=1e-5, hidden_layer_sizes=(11), random_state=1)\n",
    "\n",
    "#clf3.fit(X_train, y_train)\n",
    "\n",
    "#y_pred = clf3.predict(X_test)\n",
    "\n",
    "#print(accuracy_score(y_test, y_pred))"
   ]
  },
  {
   "cell_type": "code",
   "execution_count": null,
   "metadata": {},
   "outputs": [],
   "source": [
    "#import pickle\n",
    "\n",
    "#filename = 'clf1.sav'\n",
    "#pickle.dump(clf, open(filename, 'wb'))\n",
    "\n",
    "#filename = 'clf2.sav'\n",
    "#pickle.dump(clf2, open(filename, 'wb'))\n",
    "\n",
    "#filename = 'clf3.sav'\n",
    "#pickle.dump(clf3, open(filename, 'wb'))"
   ]
  },
  {
   "cell_type": "code",
   "execution_count": null,
   "metadata": {},
   "outputs": [],
   "source": [
    "#clf3 = MLPClassifier(solver='lbfgs', alpha=1e-5, hidden_layer_sizes=(8, 3), random_state=1)\n",
    "\n",
    "#clf3.fit(X_train, y_train)\n",
    "\n",
    "#y_pred = clf3.predict(X_test)\n",
    "\n",
    "#print(accuracy_score(y_test, y_pred))"
   ]
  },
  {
   "cell_type": "code",
   "execution_count": null,
   "metadata": {},
   "outputs": [],
   "source": [
    "#filename = 'clf3.sav'\n",
    "#pickle.dump(clf3, open(filename, 'wb'))"
   ]
  },
  {
   "cell_type": "markdown",
   "metadata": {},
   "source": [
    "# Messing with what we are classifying"
   ]
  },
  {
   "cell_type": "code",
   "execution_count": null,
   "metadata": {},
   "outputs": [],
   "source": [
    "np.unique(y.shape)"
   ]
  },
  {
   "cell_type": "code",
   "execution_count": null,
   "metadata": {},
   "outputs": [],
   "source": []
  }
 ],
 "metadata": {
  "kernelspec": {
   "display_name": "Python 3",
   "language": "python",
   "name": "python3"
  },
  "language_info": {
   "codemirror_mode": {
    "name": "ipython",
    "version": 3
   },
   "file_extension": ".py",
   "mimetype": "text/x-python",
   "name": "python",
   "nbconvert_exporter": "python",
   "pygments_lexer": "ipython3",
   "version": "3.7.3"
  }
 },
 "nbformat": 4,
 "nbformat_minor": 1
}
